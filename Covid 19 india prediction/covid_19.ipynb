{
  "nbformat": 4,
  "nbformat_minor": 0,
  "metadata": {
    "colab": {
      "name": "covid-19.ipynb",
      "provenance": []
    },
    "kernelspec": {
      "name": "python3",
      "display_name": "Python 3"
    }
  },
  "cells": [
    {
      "cell_type": "code",
      "metadata": {
        "id": "f9p7Y4Rfk0ub"
      },
      "source": [
        "import pandas as pd\r\n",
        "import numpy as np\r\n",
        "import matplotlib.pyplot as plt\r\n",
        "from matplotlib.pyplot import figure\r\n",
        "import seaborn as sns"
      ],
      "execution_count": 542,
      "outputs": []
    },
    {
      "cell_type": "code",
      "metadata": {
        "colab": {
          "base_uri": "https://localhost:8080/",
          "height": 198
        },
        "id": "DO2dcyG2lA8L",
        "outputId": "79e79cb9-7fce-46e0-f355-51352cdc8826"
      },
      "source": [
        "df= pd.read_csv(\"/content/covid19.csv\",error_bad_lines=False)\r\n",
        "df.head(5)"
      ],
      "execution_count": 543,
      "outputs": [
        {
          "output_type": "execute_result",
          "data": {
            "text/html": [
              "<div>\n",
              "<style scoped>\n",
              "    .dataframe tbody tr th:only-of-type {\n",
              "        vertical-align: middle;\n",
              "    }\n",
              "\n",
              "    .dataframe tbody tr th {\n",
              "        vertical-align: top;\n",
              "    }\n",
              "\n",
              "    .dataframe thead th {\n",
              "        text-align: right;\n",
              "    }\n",
              "</style>\n",
              "<table border=\"1\" class=\"dataframe\">\n",
              "  <thead>\n",
              "    <tr style=\"text-align: right;\">\n",
              "      <th></th>\n",
              "      <th>Sno</th>\n",
              "      <th>Date</th>\n",
              "      <th>State/UnionTerritory</th>\n",
              "      <th>ConfirmedIndianNational</th>\n",
              "      <th>ConfirmedForeignNational</th>\n",
              "      <th>Cured</th>\n",
              "      <th>Deaths</th>\n",
              "    </tr>\n",
              "  </thead>\n",
              "  <tbody>\n",
              "    <tr>\n",
              "      <th>0</th>\n",
              "      <td>1</td>\n",
              "      <td>30/01/20</td>\n",
              "      <td>Kerala</td>\n",
              "      <td>1</td>\n",
              "      <td>0</td>\n",
              "      <td>0</td>\n",
              "      <td>0</td>\n",
              "    </tr>\n",
              "    <tr>\n",
              "      <th>1</th>\n",
              "      <td>2</td>\n",
              "      <td>31/01/20</td>\n",
              "      <td>Kerala</td>\n",
              "      <td>1</td>\n",
              "      <td>0</td>\n",
              "      <td>0</td>\n",
              "      <td>0</td>\n",
              "    </tr>\n",
              "    <tr>\n",
              "      <th>2</th>\n",
              "      <td>3</td>\n",
              "      <td>01/02/20</td>\n",
              "      <td>Kerala</td>\n",
              "      <td>2</td>\n",
              "      <td>0</td>\n",
              "      <td>0</td>\n",
              "      <td>0</td>\n",
              "    </tr>\n",
              "    <tr>\n",
              "      <th>3</th>\n",
              "      <td>4</td>\n",
              "      <td>02/02/20</td>\n",
              "      <td>Kerala</td>\n",
              "      <td>3</td>\n",
              "      <td>0</td>\n",
              "      <td>0</td>\n",
              "      <td>0</td>\n",
              "    </tr>\n",
              "    <tr>\n",
              "      <th>4</th>\n",
              "      <td>5</td>\n",
              "      <td>03/02/20</td>\n",
              "      <td>Kerala</td>\n",
              "      <td>3</td>\n",
              "      <td>0</td>\n",
              "      <td>0</td>\n",
              "      <td>0</td>\n",
              "    </tr>\n",
              "  </tbody>\n",
              "</table>\n",
              "</div>"
            ],
            "text/plain": [
              "   Sno      Date State/UnionTerritory  ...  ConfirmedForeignNational  Cured  Deaths\n",
              "0    1  30/01/20               Kerala  ...                         0      0       0\n",
              "1    2  31/01/20               Kerala  ...                         0      0       0\n",
              "2    3  01/02/20               Kerala  ...                         0      0       0\n",
              "3    4  02/02/20               Kerala  ...                         0      0       0\n",
              "4    5  03/02/20               Kerala  ...                         0      0       0\n",
              "\n",
              "[5 rows x 7 columns]"
            ]
          },
          "metadata": {
            "tags": []
          },
          "execution_count": 543
        }
      ]
    },
    {
      "cell_type": "code",
      "metadata": {
        "colab": {
          "base_uri": "https://localhost:8080/"
        },
        "id": "n02eKPcqlqna",
        "outputId": "2c275a06-42f1-4a9c-bf62-a9241f17f4b9"
      },
      "source": [
        "df.shape"
      ],
      "execution_count": 544,
      "outputs": [
        {
          "output_type": "execute_result",
          "data": {
            "text/plain": [
              "(270, 7)"
            ]
          },
          "metadata": {
            "tags": []
          },
          "execution_count": 544
        }
      ]
    },
    {
      "cell_type": "code",
      "metadata": {
        "colab": {
          "base_uri": "https://localhost:8080/"
        },
        "id": "6-cTpMNglz6b",
        "outputId": "f4483028-b1b9-4a07-8c4d-f3bcf4478c1b"
      },
      "source": [
        "df.columns"
      ],
      "execution_count": 545,
      "outputs": [
        {
          "output_type": "execute_result",
          "data": {
            "text/plain": [
              "Index(['Sno', 'Date', 'State/UnionTerritory', 'ConfirmedIndianNational',\n",
              "       'ConfirmedForeignNational', 'Cured', 'Deaths'],\n",
              "      dtype='object')"
            ]
          },
          "metadata": {
            "tags": []
          },
          "execution_count": 545
        }
      ]
    },
    {
      "cell_type": "code",
      "metadata": {
        "colab": {
          "base_uri": "https://localhost:8080/"
        },
        "id": "Mmzree9Ol1vP",
        "outputId": "18431444-f16e-47ac-89a3-05ddf805d2e8"
      },
      "source": [
        "df.describe"
      ],
      "execution_count": 546,
      "outputs": [
        {
          "output_type": "execute_result",
          "data": {
            "text/plain": [
              "<bound method NDFrame.describe of      Sno      Date  ... Cured  Deaths\n",
              "0      1  30/01/20  ...     0       0\n",
              "1      2  31/01/20  ...     0       0\n",
              "2      3  01/02/20  ...     0       0\n",
              "3      4  02/02/20  ...     0       0\n",
              "4      5  03/02/20  ...     0       0\n",
              "..   ...       ...  ...   ...     ...\n",
              "265  266  21/03/20  ...     0       0\n",
              "266  267  21/03/20  ...     0       0\n",
              "267  268  21/03/20  ...     9       0\n",
              "268  269  21/03/20  ...     0       0\n",
              "269  270  21/03/20  ...     0       0\n",
              "\n",
              "[270 rows x 7 columns]>"
            ]
          },
          "metadata": {
            "tags": []
          },
          "execution_count": 546
        }
      ]
    },
    {
      "cell_type": "code",
      "metadata": {
        "colab": {
          "base_uri": "https://localhost:8080/"
        },
        "id": "vbXp48clvOWo",
        "outputId": "f8933606-3439-42b3-f2ca-2b54d0dda0ab"
      },
      "source": [
        "df.dtypes"
      ],
      "execution_count": 547,
      "outputs": [
        {
          "output_type": "execute_result",
          "data": {
            "text/plain": [
              "Sno                          int64\n",
              "Date                        object\n",
              "State/UnionTerritory        object\n",
              "ConfirmedIndianNational      int64\n",
              "ConfirmedForeignNational     int64\n",
              "Cured                        int64\n",
              "Deaths                       int64\n",
              "dtype: object"
            ]
          },
          "metadata": {
            "tags": []
          },
          "execution_count": 547
        }
      ]
    },
    {
      "cell_type": "markdown",
      "metadata": {
        "id": "Lu9c8wsekMdF"
      },
      "source": [
        "STATE WISE GROUP BY"
      ]
    },
    {
      "cell_type": "code",
      "metadata": {
        "colab": {
          "base_uri": "https://localhost:8080/",
          "height": 348
        },
        "id": "qhUQGLGxiNRj",
        "outputId": "b276e87c-32e8-4067-ce3e-6999082b073d"
      },
      "source": [
        "df2=df.groupby('State/UnionTerritory', as_index=False,sort='True').sum()\r\n",
        "df2 = df.drop(columns = ['Sno','Date'])\r\n",
        "df2.head(10)"
      ],
      "execution_count": 548,
      "outputs": [
        {
          "output_type": "execute_result",
          "data": {
            "text/html": [
              "<div>\n",
              "<style scoped>\n",
              "    .dataframe tbody tr th:only-of-type {\n",
              "        vertical-align: middle;\n",
              "    }\n",
              "\n",
              "    .dataframe tbody tr th {\n",
              "        vertical-align: top;\n",
              "    }\n",
              "\n",
              "    .dataframe thead th {\n",
              "        text-align: right;\n",
              "    }\n",
              "</style>\n",
              "<table border=\"1\" class=\"dataframe\">\n",
              "  <thead>\n",
              "    <tr style=\"text-align: right;\">\n",
              "      <th></th>\n",
              "      <th>State/UnionTerritory</th>\n",
              "      <th>ConfirmedIndianNational</th>\n",
              "      <th>ConfirmedForeignNational</th>\n",
              "      <th>Cured</th>\n",
              "      <th>Deaths</th>\n",
              "    </tr>\n",
              "  </thead>\n",
              "  <tbody>\n",
              "    <tr>\n",
              "      <th>0</th>\n",
              "      <td>Kerala</td>\n",
              "      <td>1</td>\n",
              "      <td>0</td>\n",
              "      <td>0</td>\n",
              "      <td>0</td>\n",
              "    </tr>\n",
              "    <tr>\n",
              "      <th>1</th>\n",
              "      <td>Kerala</td>\n",
              "      <td>1</td>\n",
              "      <td>0</td>\n",
              "      <td>0</td>\n",
              "      <td>0</td>\n",
              "    </tr>\n",
              "    <tr>\n",
              "      <th>2</th>\n",
              "      <td>Kerala</td>\n",
              "      <td>2</td>\n",
              "      <td>0</td>\n",
              "      <td>0</td>\n",
              "      <td>0</td>\n",
              "    </tr>\n",
              "    <tr>\n",
              "      <th>3</th>\n",
              "      <td>Kerala</td>\n",
              "      <td>3</td>\n",
              "      <td>0</td>\n",
              "      <td>0</td>\n",
              "      <td>0</td>\n",
              "    </tr>\n",
              "    <tr>\n",
              "      <th>4</th>\n",
              "      <td>Kerala</td>\n",
              "      <td>3</td>\n",
              "      <td>0</td>\n",
              "      <td>0</td>\n",
              "      <td>0</td>\n",
              "    </tr>\n",
              "    <tr>\n",
              "      <th>5</th>\n",
              "      <td>Kerala</td>\n",
              "      <td>3</td>\n",
              "      <td>0</td>\n",
              "      <td>0</td>\n",
              "      <td>0</td>\n",
              "    </tr>\n",
              "    <tr>\n",
              "      <th>6</th>\n",
              "      <td>Kerala</td>\n",
              "      <td>3</td>\n",
              "      <td>0</td>\n",
              "      <td>0</td>\n",
              "      <td>0</td>\n",
              "    </tr>\n",
              "    <tr>\n",
              "      <th>7</th>\n",
              "      <td>Kerala</td>\n",
              "      <td>3</td>\n",
              "      <td>0</td>\n",
              "      <td>0</td>\n",
              "      <td>0</td>\n",
              "    </tr>\n",
              "    <tr>\n",
              "      <th>8</th>\n",
              "      <td>Kerala</td>\n",
              "      <td>3</td>\n",
              "      <td>0</td>\n",
              "      <td>0</td>\n",
              "      <td>0</td>\n",
              "    </tr>\n",
              "    <tr>\n",
              "      <th>9</th>\n",
              "      <td>Kerala</td>\n",
              "      <td>3</td>\n",
              "      <td>0</td>\n",
              "      <td>0</td>\n",
              "      <td>0</td>\n",
              "    </tr>\n",
              "  </tbody>\n",
              "</table>\n",
              "</div>"
            ],
            "text/plain": [
              "  State/UnionTerritory  ConfirmedIndianNational  ...  Cured  Deaths\n",
              "0               Kerala                        1  ...      0       0\n",
              "1               Kerala                        1  ...      0       0\n",
              "2               Kerala                        2  ...      0       0\n",
              "3               Kerala                        3  ...      0       0\n",
              "4               Kerala                        3  ...      0       0\n",
              "5               Kerala                        3  ...      0       0\n",
              "6               Kerala                        3  ...      0       0\n",
              "7               Kerala                        3  ...      0       0\n",
              "8               Kerala                        3  ...      0       0\n",
              "9               Kerala                        3  ...      0       0\n",
              "\n",
              "[10 rows x 5 columns]"
            ]
          },
          "metadata": {
            "tags": []
          },
          "execution_count": 548
        }
      ]
    },
    {
      "cell_type": "code",
      "metadata": {
        "colab": {
          "base_uri": "https://localhost:8080/",
          "height": 407
        },
        "id": "5jHalZvojYR0",
        "outputId": "0b09d50a-8e05-4bd6-e06e-982978121eea"
      },
      "source": [
        "e = {'State/UnionTerritory': df2['State/UnionTerritory'], 'Total': np.sum(df2.iloc[:,1:],axis=1)}\r\n",
        "d11= pd.DataFrame(data=e)\r\n",
        "d11"
      ],
      "execution_count": 549,
      "outputs": [
        {
          "output_type": "execute_result",
          "data": {
            "text/html": [
              "<div>\n",
              "<style scoped>\n",
              "    .dataframe tbody tr th:only-of-type {\n",
              "        vertical-align: middle;\n",
              "    }\n",
              "\n",
              "    .dataframe tbody tr th {\n",
              "        vertical-align: top;\n",
              "    }\n",
              "\n",
              "    .dataframe thead th {\n",
              "        text-align: right;\n",
              "    }\n",
              "</style>\n",
              "<table border=\"1\" class=\"dataframe\">\n",
              "  <thead>\n",
              "    <tr style=\"text-align: right;\">\n",
              "      <th></th>\n",
              "      <th>State/UnionTerritory</th>\n",
              "      <th>Total</th>\n",
              "    </tr>\n",
              "  </thead>\n",
              "  <tbody>\n",
              "    <tr>\n",
              "      <th>0</th>\n",
              "      <td>Kerala</td>\n",
              "      <td>1</td>\n",
              "    </tr>\n",
              "    <tr>\n",
              "      <th>1</th>\n",
              "      <td>Kerala</td>\n",
              "      <td>1</td>\n",
              "    </tr>\n",
              "    <tr>\n",
              "      <th>2</th>\n",
              "      <td>Kerala</td>\n",
              "      <td>2</td>\n",
              "    </tr>\n",
              "    <tr>\n",
              "      <th>3</th>\n",
              "      <td>Kerala</td>\n",
              "      <td>3</td>\n",
              "    </tr>\n",
              "    <tr>\n",
              "      <th>4</th>\n",
              "      <td>Kerala</td>\n",
              "      <td>3</td>\n",
              "    </tr>\n",
              "    <tr>\n",
              "      <th>...</th>\n",
              "      <td>...</td>\n",
              "      <td>...</td>\n",
              "    </tr>\n",
              "    <tr>\n",
              "      <th>265</th>\n",
              "      <td>Jammu and Kashmir</td>\n",
              "      <td>4</td>\n",
              "    </tr>\n",
              "    <tr>\n",
              "      <th>266</th>\n",
              "      <td>Ladakh</td>\n",
              "      <td>13</td>\n",
              "    </tr>\n",
              "    <tr>\n",
              "      <th>267</th>\n",
              "      <td>Uttar Pradesh</td>\n",
              "      <td>33</td>\n",
              "    </tr>\n",
              "    <tr>\n",
              "      <th>268</th>\n",
              "      <td>Uttarakhand</td>\n",
              "      <td>3</td>\n",
              "    </tr>\n",
              "    <tr>\n",
              "      <th>269</th>\n",
              "      <td>West Bengal</td>\n",
              "      <td>3</td>\n",
              "    </tr>\n",
              "  </tbody>\n",
              "</table>\n",
              "<p>270 rows × 2 columns</p>\n",
              "</div>"
            ],
            "text/plain": [
              "    State/UnionTerritory  Total\n",
              "0                 Kerala      1\n",
              "1                 Kerala      1\n",
              "2                 Kerala      2\n",
              "3                 Kerala      3\n",
              "4                 Kerala      3\n",
              "..                   ...    ...\n",
              "265    Jammu and Kashmir      4\n",
              "266               Ladakh     13\n",
              "267        Uttar Pradesh     33\n",
              "268          Uttarakhand      3\n",
              "269          West Bengal      3\n",
              "\n",
              "[270 rows x 2 columns]"
            ]
          },
          "metadata": {
            "tags": []
          },
          "execution_count": 549
        }
      ]
    },
    {
      "cell_type": "code",
      "metadata": {
        "colab": {
          "base_uri": "https://localhost:8080/",
          "height": 529
        },
        "id": "lqqkXV9Ti1hW",
        "outputId": "9b5c7602-930f-4b38-8b08-e30c5b395141"
      },
      "source": [
        "fig1 =plt.figure(figsize = (7,5))\r\n",
        "plt.bar(d11['State/UnionTerritory'],d11['Total'],color='brown')\r\n",
        "plt.yticks(np.arange(0, 80, 10))\r\n",
        "plt.xticks(rotation=90)\r\n",
        "plt.title(\"State wise covid 19\")\r\n",
        "plt.xlabel(\"States\")\r\n",
        "plt.ylabel(\"cases\")\r\n",
        "plt.show()"
      ],
      "execution_count": 550,
      "outputs": [
        {
          "output_type": "display_data",
          "data": {
            "image/png": "[encoded data removed]",
            "text/plain": [
              "<Figure size 504x360 with 1 Axes>"
            ]
          },
          "metadata": {
            "tags": [],
            "needs_background": "light"
          }
        }
      ]
    },
    {
      "cell_type": "markdown",
      "metadata": {
        "id": "o2pej-VqkF7V"
      },
      "source": [
        "DATE WISE GROUP BY"
      ]
    },
    {
      "cell_type": "code",
      "metadata": {
        "colab": {
          "base_uri": "https://localhost:8080/",
          "height": 348
        },
        "id": "QTvjC6uOBdcK",
        "outputId": "ba307ffa-167d-4b92-c83c-f515c67417d4"
      },
      "source": [
        "df = df.drop(columns = ['Sno','State/UnionTerritory'])\r\n",
        "df[\"Date\"] = pd.to_datetime(df[\"Date\"]).dt.strftime('%d-%m-%y')\r\n",
        "df[\"Date\"] = pd.to_datetime(df[\"Date\"])\r\n",
        "df=df.groupby('Date', as_index=False,sort='True').sum()\r\n",
        "df.head(10)"
      ],
      "execution_count": 551,
      "outputs": [
        {
          "output_type": "execute_result",
          "data": {
            "text/html": [
              "<div>\n",
              "<style scoped>\n",
              "    .dataframe tbody tr th:only-of-type {\n",
              "        vertical-align: middle;\n",
              "    }\n",
              "\n",
              "    .dataframe tbody tr th {\n",
              "        vertical-align: top;\n",
              "    }\n",
              "\n",
              "    .dataframe thead th {\n",
              "        text-align: right;\n",
              "    }\n",
              "</style>\n",
              "<table border=\"1\" class=\"dataframe\">\n",
              "  <thead>\n",
              "    <tr style=\"text-align: right;\">\n",
              "      <th></th>\n",
              "      <th>Date</th>\n",
              "      <th>ConfirmedIndianNational</th>\n",
              "      <th>ConfirmedForeignNational</th>\n",
              "      <th>Cured</th>\n",
              "      <th>Deaths</th>\n",
              "    </tr>\n",
              "  </thead>\n",
              "  <tbody>\n",
              "    <tr>\n",
              "      <th>0</th>\n",
              "      <td>2020-01-30</td>\n",
              "      <td>1</td>\n",
              "      <td>0</td>\n",
              "      <td>0</td>\n",
              "      <td>0</td>\n",
              "    </tr>\n",
              "    <tr>\n",
              "      <th>1</th>\n",
              "      <td>2020-01-31</td>\n",
              "      <td>1</td>\n",
              "      <td>0</td>\n",
              "      <td>0</td>\n",
              "      <td>0</td>\n",
              "    </tr>\n",
              "    <tr>\n",
              "      <th>2</th>\n",
              "      <td>2020-02-01</td>\n",
              "      <td>2</td>\n",
              "      <td>0</td>\n",
              "      <td>0</td>\n",
              "      <td>0</td>\n",
              "    </tr>\n",
              "    <tr>\n",
              "      <th>3</th>\n",
              "      <td>2020-02-02</td>\n",
              "      <td>3</td>\n",
              "      <td>0</td>\n",
              "      <td>0</td>\n",
              "      <td>0</td>\n",
              "    </tr>\n",
              "    <tr>\n",
              "      <th>4</th>\n",
              "      <td>2020-02-03</td>\n",
              "      <td>3</td>\n",
              "      <td>0</td>\n",
              "      <td>0</td>\n",
              "      <td>0</td>\n",
              "    </tr>\n",
              "    <tr>\n",
              "      <th>5</th>\n",
              "      <td>2020-02-04</td>\n",
              "      <td>3</td>\n",
              "      <td>0</td>\n",
              "      <td>0</td>\n",
              "      <td>0</td>\n",
              "    </tr>\n",
              "    <tr>\n",
              "      <th>6</th>\n",
              "      <td>2020-02-05</td>\n",
              "      <td>3</td>\n",
              "      <td>0</td>\n",
              "      <td>0</td>\n",
              "      <td>0</td>\n",
              "    </tr>\n",
              "    <tr>\n",
              "      <th>7</th>\n",
              "      <td>2020-02-06</td>\n",
              "      <td>3</td>\n",
              "      <td>0</td>\n",
              "      <td>0</td>\n",
              "      <td>0</td>\n",
              "    </tr>\n",
              "    <tr>\n",
              "      <th>8</th>\n",
              "      <td>2020-02-07</td>\n",
              "      <td>3</td>\n",
              "      <td>0</td>\n",
              "      <td>0</td>\n",
              "      <td>0</td>\n",
              "    </tr>\n",
              "    <tr>\n",
              "      <th>9</th>\n",
              "      <td>2020-02-08</td>\n",
              "      <td>3</td>\n",
              "      <td>0</td>\n",
              "      <td>0</td>\n",
              "      <td>0</td>\n",
              "    </tr>\n",
              "  </tbody>\n",
              "</table>\n",
              "</div>"
            ],
            "text/plain": [
              "        Date  ConfirmedIndianNational  ConfirmedForeignNational  Cured  Deaths\n",
              "0 2020-01-30                        1                         0      0       0\n",
              "1 2020-01-31                        1                         0      0       0\n",
              "2 2020-02-01                        2                         0      0       0\n",
              "3 2020-02-02                        3                         0      0       0\n",
              "4 2020-02-03                        3                         0      0       0\n",
              "5 2020-02-04                        3                         0      0       0\n",
              "6 2020-02-05                        3                         0      0       0\n",
              "7 2020-02-06                        3                         0      0       0\n",
              "8 2020-02-07                        3                         0      0       0\n",
              "9 2020-02-08                        3                         0      0       0"
            ]
          },
          "metadata": {
            "tags": []
          },
          "execution_count": 551
        }
      ]
    },
    {
      "cell_type": "code",
      "metadata": {
        "colab": {
          "base_uri": "https://localhost:8080/",
          "height": 398
        },
        "id": "qzjqjE9zbMXp",
        "outputId": "bae3f5df-45bf-4762-fb22-91d7bad8e967"
      },
      "source": [
        "fig1 =plt.figure(figsize = (7,5))\r\n",
        "plt.bar(df['Date'],df['ConfirmedForeignNational'],color='brown')\r\n",
        "plt.yticks(np.arange(0, 40, 5))\r\n",
        "plt.xticks(rotation=90)\r\n",
        "plt.title(\"covid 19\")\r\n",
        "plt.xlabel(\"dates\")\r\n",
        "plt.ylabel(\"cases\")\r\n",
        "plt.show()"
      ],
      "execution_count": 552,
      "outputs": [
        {
          "output_type": "display_data",
          "data": {
            "image/png": "[encoded data removed]",
            "text/plain": [
              "<Figure size 504x360 with 1 Axes>"
            ]
          },
          "metadata": {
            "tags": [],
            "needs_background": "light"
          }
        }
      ]
    },
    {
      "cell_type": "code",
      "metadata": {
        "colab": {
          "base_uri": "https://localhost:8080/",
          "height": 398
        },
        "id": "y3wUNL4zhw68",
        "outputId": "5ebe9147-4e7c-4d8c-ac83-ea2e7f54d3c5"
      },
      "source": [
        "fig1 =plt.figure(figsize = (7,5))\r\n",
        "plt.bar(df['Date'],df['ConfirmedIndianNational'],color='violet')\r\n",
        "plt.yticks(np.arange(0, 270, 40))\r\n",
        "plt.xticks(rotation=90)\r\n",
        "plt.title(\"covid 19\")\r\n",
        "plt.xlabel(\"dates\")\r\n",
        "plt.ylabel(\"cases\")\r\n",
        "plt.show()"
      ],
      "execution_count": 553,
      "outputs": [
        {
          "output_type": "display_data",
          "data": {
            "image/png": "[encoded data removed]",
            "text/plain": [
              "<Figure size 504x360 with 1 Axes>"
            ]
          },
          "metadata": {
            "tags": [],
            "needs_background": "light"
          }
        }
      ]
    },
    {
      "cell_type": "code",
      "metadata": {
        "colab": {
          "base_uri": "https://localhost:8080/",
          "height": 198
        },
        "id": "dwt-gvpqDAIX",
        "outputId": "3923cbbb-e473-44dd-93fc-47c394afcb0f"
      },
      "source": [
        "d = {'Date': df['Date'], 'Total': np.sum(df.iloc[:,1:],axis=1)}\r\n",
        "d1= pd.DataFrame(data=d)\r\n",
        "d1.head(5)"
      ],
      "execution_count": 554,
      "outputs": [
        {
          "output_type": "execute_result",
          "data": {
            "text/html": [
              "<div>\n",
              "<style scoped>\n",
              "    .dataframe tbody tr th:only-of-type {\n",
              "        vertical-align: middle;\n",
              "    }\n",
              "\n",
              "    .dataframe tbody tr th {\n",
              "        vertical-align: top;\n",
              "    }\n",
              "\n",
              "    .dataframe thead th {\n",
              "        text-align: right;\n",
              "    }\n",
              "</style>\n",
              "<table border=\"1\" class=\"dataframe\">\n",
              "  <thead>\n",
              "    <tr style=\"text-align: right;\">\n",
              "      <th></th>\n",
              "      <th>Date</th>\n",
              "      <th>Total</th>\n",
              "    </tr>\n",
              "  </thead>\n",
              "  <tbody>\n",
              "    <tr>\n",
              "      <th>0</th>\n",
              "      <td>2020-01-30</td>\n",
              "      <td>1</td>\n",
              "    </tr>\n",
              "    <tr>\n",
              "      <th>1</th>\n",
              "      <td>2020-01-31</td>\n",
              "      <td>1</td>\n",
              "    </tr>\n",
              "    <tr>\n",
              "      <th>2</th>\n",
              "      <td>2020-02-01</td>\n",
              "      <td>2</td>\n",
              "    </tr>\n",
              "    <tr>\n",
              "      <th>3</th>\n",
              "      <td>2020-02-02</td>\n",
              "      <td>3</td>\n",
              "    </tr>\n",
              "    <tr>\n",
              "      <th>4</th>\n",
              "      <td>2020-02-03</td>\n",
              "      <td>3</td>\n",
              "    </tr>\n",
              "  </tbody>\n",
              "</table>\n",
              "</div>"
            ],
            "text/plain": [
              "        Date  Total\n",
              "0 2020-01-30      1\n",
              "1 2020-01-31      1\n",
              "2 2020-02-01      2\n",
              "3 2020-02-02      3\n",
              "4 2020-02-03      3"
            ]
          },
          "metadata": {
            "tags": []
          },
          "execution_count": 554
        }
      ]
    },
    {
      "cell_type": "code",
      "metadata": {
        "id": "ndqe9TngouSq",
        "colab": {
          "base_uri": "https://localhost:8080/",
          "height": 398
        },
        "outputId": "03c5cc9f-e7ce-4c0a-f012-59779011587a"
      },
      "source": [
        "fig1 =plt.figure(figsize = (10,5))\r\n",
        "plt.plot(d1['Date'],d1['Total'],color='teal')\r\n",
        "plt.yticks(np.arange(0, 350, 50))\r\n",
        "plt.xticks(rotation=90)\r\n",
        "plt.title(\"covid 19 according to dates\")\r\n",
        "plt.xlabel(\"dates\")\r\n",
        "plt.ylabel(\"cases\")\r\n",
        "plt.show()"
      ],
      "execution_count": 555,
      "outputs": [
        {
          "output_type": "display_data",
          "data": {
            "image/png": "[encoded data removed]",
            "text/plain": [
              "<Figure size 720x360 with 1 Axes>"
            ]
          },
          "metadata": {
            "tags": [],
            "needs_background": "light"
          }
        }
      ]
    },
    {
      "cell_type": "code",
      "metadata": {
        "id": "jk3AFVbhupzl",
        "colab": {
          "base_uri": "https://localhost:8080/",
          "height": 304
        },
        "outputId": "4a7430e9-88dc-4340-e0ed-3161f191710e"
      },
      "source": [
        "d1['Change']=pd.Series(d1['Total'].pct_change()).values\r\n",
        "d1['Change'][0]=0\r\n",
        "d1.head(5)"
      ],
      "execution_count": 556,
      "outputs": [
        {
          "output_type": "stream",
          "text": [
            "/usr/local/lib/python3.6/dist-packages/ipykernel_launcher.py:2: SettingWithCopyWarning: \n",
            "A value is trying to be set on a copy of a slice from a DataFrame\n",
            "\n",
            "See the caveats in the documentation: https://pandas.pydata.org/pandas-docs/stable/user_guide/indexing.html#returning-a-view-versus-a-copy\n",
            "  \n"
          ],
          "name": "stderr"
        },
        {
          "output_type": "execute_result",
          "data": {
            "text/html": [
              "<div>\n",
              "<style scoped>\n",
              "    .dataframe tbody tr th:only-of-type {\n",
              "        vertical-align: middle;\n",
              "    }\n",
              "\n",
              "    .dataframe tbody tr th {\n",
              "        vertical-align: top;\n",
              "    }\n",
              "\n",
              "    .dataframe thead th {\n",
              "        text-align: right;\n",
              "    }\n",
              "</style>\n",
              "<table border=\"1\" class=\"dataframe\">\n",
              "  <thead>\n",
              "    <tr style=\"text-align: right;\">\n",
              "      <th></th>\n",
              "      <th>Date</th>\n",
              "      <th>Total</th>\n",
              "      <th>Change</th>\n",
              "    </tr>\n",
              "  </thead>\n",
              "  <tbody>\n",
              "    <tr>\n",
              "      <th>0</th>\n",
              "      <td>2020-01-30</td>\n",
              "      <td>1</td>\n",
              "      <td>0.0</td>\n",
              "    </tr>\n",
              "    <tr>\n",
              "      <th>1</th>\n",
              "      <td>2020-01-31</td>\n",
              "      <td>1</td>\n",
              "      <td>0.0</td>\n",
              "    </tr>\n",
              "    <tr>\n",
              "      <th>2</th>\n",
              "      <td>2020-02-01</td>\n",
              "      <td>2</td>\n",
              "      <td>1.0</td>\n",
              "    </tr>\n",
              "    <tr>\n",
              "      <th>3</th>\n",
              "      <td>2020-02-02</td>\n",
              "      <td>3</td>\n",
              "      <td>0.5</td>\n",
              "    </tr>\n",
              "    <tr>\n",
              "      <th>4</th>\n",
              "      <td>2020-02-03</td>\n",
              "      <td>3</td>\n",
              "      <td>0.0</td>\n",
              "    </tr>\n",
              "  </tbody>\n",
              "</table>\n",
              "</div>"
            ],
            "text/plain": [
              "        Date  Total  Change\n",
              "0 2020-01-30      1     0.0\n",
              "1 2020-01-31      1     0.0\n",
              "2 2020-02-01      2     1.0\n",
              "3 2020-02-02      3     0.5\n",
              "4 2020-02-03      3     0.0"
            ]
          },
          "metadata": {
            "tags": []
          },
          "execution_count": 556
        }
      ]
    },
    {
      "cell_type": "code",
      "metadata": {
        "id": "R6qyhQ0Dy1Pr",
        "colab": {
          "base_uri": "https://localhost:8080/"
        },
        "outputId": "922c50c0-fecd-461a-b4d4-5378b7a3803c"
      },
      "source": [
        "r=d1[34:]['Change'].mean()\r\n",
        "r"
      ],
      "execution_count": 557,
      "outputs": [
        {
          "output_type": "execute_result",
          "data": {
            "text/plain": [
              "0.27572006052343134"
            ]
          },
          "metadata": {
            "tags": []
          },
          "execution_count": 557
        }
      ]
    },
    {
      "cell_type": "code",
      "metadata": {
        "id": "83JovjYd0Pve",
        "colab": {
          "base_uri": "https://localhost:8080/"
        },
        "outputId": "4f76581b-9563-47b0-9e9c-f766f9d24255"
      },
      "source": [
        "import math\r\n",
        "ans=31*math.exp(r*26)\r\n",
        "ans"
      ],
      "execution_count": 558,
      "outputs": [
        {
          "output_type": "execute_result",
          "data": {
            "text/plain": [
              "40243.70117662873"
            ]
          },
          "metadata": {
            "tags": []
          },
          "execution_count": 558
        }
      ]
    }
  ]
}