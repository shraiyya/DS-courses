{
 "cells": [
  {
   "cell_type": "markdown",
   "metadata": {},
   "source": [
    "---\n",
    "\n",
    "_You are currently looking at **version 1.1** of this notebook. To download notebooks and datafiles, as well as get help on Jupyter notebooks in the Coursera platform, visit the [Jupyter Notebook FAQ](https://www.coursera.org/learn/python-data-analysis/resources/0dhYG) course resource._\n",
    "\n",
    "---"
   ]
  },
  {
   "cell_type": "code",
   "execution_count": 84,
   "metadata": {
    "collapsed": true
   },
   "outputs": [],
   "source": [
    "import pandas as pd\n",
    "import numpy as np\n",
    "from scipy.stats import ttest_ind"
   ]
  },
  {
   "cell_type": "markdown",
   "metadata": {},
   "source": [
    "# Assignment 4 - Hypothesis Testing\n",
    "This assignment requires more individual learning than previous assignments - you are encouraged to check out the [pandas documentation](http://pandas.pydata.org/pandas-docs/stable/) to find functions or methods you might not have used yet, or ask questions on [Stack Overflow](http://stackoverflow.com/) and tag them as pandas and python related. And of course, the discussion forums are open for interaction with your peers and the course staff.\n",
    "\n",
    "Definitions:\n",
    "* A _quarter_ is a specific three month period, Q1 is January through March, Q2 is April through June, Q3 is July through September, Q4 is October through December.\n",
    "* A _recession_ is defined as starting with two consecutive quarters of GDP decline, and ending with two consecutive quarters of GDP growth.\n",
    "* A _recession bottom_ is the quarter within a recession which had the lowest GDP.\n",
    "* A _university town_ is a city which has a high percentage of university students compared to the total population of the city.\n",
    "\n",
    "**Hypothesis**: University towns have their mean housing prices less effected by recessions. Run a t-test to compare the ratio of the mean price of houses in university towns the quarter before the recession starts compared to the recession bottom. (`price_ratio=quarter_before_recession/recession_bottom`)\n",
    "\n",
    "The following data files are available for this assignment:\n",
    "* From the [Zillow research data site](http://www.zillow.com/research/data/) there is housing data for the United States. In particular the datafile for [all homes at a city level](http://files.zillowstatic.com/research/public/City/City_Zhvi_AllHomes.csv), ```City_Zhvi_AllHomes.csv```, has median home sale prices at a fine grained level.\n",
    "* From the Wikipedia page on college towns is a list of [university towns in the United States](https://en.wikipedia.org/wiki/List_of_college_towns#College_towns_in_the_United_States) which has been copy and pasted into the file ```university_towns.txt```.\n",
    "* From Bureau of Economic Analysis, US Department of Commerce, the [GDP over time](http://www.bea.gov/national/index.htm#gdp) of the United States in current dollars (use the chained value in 2009 dollars), in quarterly intervals, in the file ```gdplev.xls```. For this assignment, only look at GDP data from the first quarter of 2000 onward.\n",
    "\n",
    "Each function in this assignment below is worth 10%, with the exception of ```run_ttest()```, which is worth 50%."
   ]
  },
  {
   "cell_type": "code",
   "execution_count": 85,
   "metadata": {
    "collapsed": true
   },
   "outputs": [],
   "source": [
    "# Use this dictionary to map state names to two letter acronyms\n",
    "states = {'OH': 'Ohio', 'KY': 'Kentucky', 'AS': 'American Samoa', 'NV': 'Nevada', 'WY': 'Wyoming', 'NA': 'National', 'AL': 'Alabama', 'MD': 'Maryland', 'AK': 'Alaska', 'UT': 'Utah', 'OR': 'Oregon', 'MT': 'Montana', 'IL': 'Illinois', 'TN': 'Tennessee', 'DC': 'District of Columbia', 'VT': 'Vermont', 'ID': 'Idaho', 'AR': 'Arkansas', 'ME': 'Maine', 'WA': 'Washington', 'HI': 'Hawaii', 'WI': 'Wisconsin', 'MI': 'Michigan', 'IN': 'Indiana', 'NJ': 'New Jersey', 'AZ': 'Arizona', 'GU': 'Guam', 'MS': 'Mississippi', 'PR': 'Puerto Rico', 'NC': 'North Carolina', 'TX': 'Texas', 'SD': 'South Dakota', 'MP': 'Northern Mariana Islands', 'IA': 'Iowa', 'MO': 'Missouri', 'CT': 'Connecticut', 'WV': 'West Virginia', 'SC': 'South Carolina', 'LA': 'Louisiana', 'KS': 'Kansas', 'NY': 'New York', 'NE': 'Nebraska', 'OK': 'Oklahoma', 'FL': 'Florida', 'CA': 'California', 'CO': 'Colorado', 'PA': 'Pennsylvania', 'DE': 'Delaware', 'NM': 'New Mexico', 'RI': 'Rhode Island', 'MN': 'Minnesota', 'VI': 'Virgin Islands', 'NH': 'New Hampshire', 'MA': 'Massachusetts', 'GA': 'Georgia', 'ND': 'North Dakota', 'VA': 'Virginia'}"
   ]
  },
  {
   "cell_type": "code",
   "execution_count": 86,
   "metadata": {
    "umich_part_id": "021",
    "umich_partlist_id": "004"
   },
   "outputs": [],
   "source": [
    "import re\n",
    "\n",
    "def get_list_of_university_towns():\n",
    "    '''Returns a DataFrame of towns and the states they are in from the \n",
    "    university_towns.txt list. The format of the DataFrame should be:\n",
    "    DataFrame( [ [\"Michigan\", \"Ann Arbor\"], [\"Michigan\", \"Yipsilanti\"] ], \n",
    "    columns=[\"State\", \"RegionName\"]  )\n",
    "    \n",
    "    The following cleaning needs to be done:\n",
    "\n",
    "    1. For \"State\", removing characters from \"[\" to the end.\n",
    "    2. For \"RegionName\", when applicable, removing every character from \" (\" to the end.\n",
    "    3. Depending on how you read the data, you may need to remove newline character '\\n'. '''\n",
    "    \n",
    "    with open(\"university_towns.txt\") as f:\n",
    "        df= f.readlines() \n",
    "    df = [x.rstrip() for x in df]  \n",
    "    l= list()  \n",
    "    for i in df:\n",
    "        if i[-6:] == '[edit]':\n",
    "            temp_state = i[:-6]\n",
    "        elif '(' in i:\n",
    "            town = i[:i.index('(') - 1]\n",
    "            l.append([temp_state, town])\n",
    "        else:\n",
    "            town = i\n",
    "            l.append([temp_state, town])\n",
    "    ans=pd.DataFrame(l, columns=['State','RegionName'])\n",
    "    return ans\n",
    "\n",
    "#get_list_of_university_towns()"
   ]
  },
  {
   "cell_type": "code",
   "execution_count": 96,
   "metadata": {
    "umich_part_id": "022",
    "umich_partlist_id": "004"
   },
   "outputs": [],
   "source": [
    "df1=pd.read_excel('gdplev.xls')\n",
    "df1=df1[78:]    \n",
    "#first 7 lines to skip headers \n",
    "#next 71 lines to skip the years before 2000\n",
    "df1.reset_index(drop=True,inplace=True)\n",
    "df1.drop(['Unnamed: 1','Unnamed: 2','Unnamed: 3'],axis=1,inplace=True)\n",
    "\n",
    "def get_recession_start():\n",
    "    '''Returns the year and quarter of the recession start time as a \n",
    "    string value in a format such as 2005q3'''\n",
    "    for i in range(len(df1) - 2):\n",
    "        if (df1.iloc[i][2] > df1.iloc[i+1][2]) & (df1.iloc[i+1][2] > df1.iloc[i+2][2]):\n",
    "            break\n",
    "    return df1.iloc[i][1]\n",
    "\n",
    "#get_recession_start()"
   ]
  },
  {
   "cell_type": "code",
   "execution_count": 93,
   "metadata": {
    "umich_part_id": "023",
    "umich_partlist_id": "004"
   },
   "outputs": [],
   "source": [
    "l=[]\n",
    "\n",
    "def get_recession_end():\n",
    "    '''Returns the year and quarter of the recession end time as a \n",
    "    string value in a format such as 2005q3'''\n",
    "    for i in range(len(df1) - 4):\n",
    "         if ((df1.iloc[i][2] > df1.iloc[i+1][2]) & (df1.iloc[i+1][2] > df1.iloc[i+2][2]) & (df1.iloc[i+2][2] < df1.iloc[i+3][2]) & (df1.iloc[i+3][2] < df1.iloc[i+4][2])):\n",
    "            l.append([df1.iloc[i][1],df1.iloc[i+1][1],df1.iloc[i+2][1],df1.iloc[i+3][1],df1.iloc[i+4][1]])\n",
    "    #print(l)\n",
    "    return l[len(l)-1][4]"
   ]
  },
  {
   "cell_type": "code",
   "execution_count": 113,
   "metadata": {
    "umich_part_id": "024",
    "umich_partlist_id": "004"
   },
   "outputs": [],
   "source": [
    "l=[]\n",
    "def get_recession_bottom():\n",
    "    '''Returns the year and quarter of the recession bottom time as a \n",
    "    string value in a format such as 2005q3'''\n",
    "    for i in range(len(df1) - 4):\n",
    "         if ((df1.iloc[i][2] > df1.iloc[i+1][2]) & (df1.iloc[i+1][2] > df1.iloc[i+2][2]) & (df1.iloc[i+2][2] < df1.iloc[i+3][2]) & (df1.iloc[i+3][2] < df1.iloc[i+4][2])):\n",
    "            l.append([df1.iloc[i][1],df1.iloc[i+1][1],df1.iloc[i+2][1],df1.iloc[i+3][1],df1.iloc[i+4][1]])\n",
    "    #print(l)\n",
    "    return l[len(l)-1][2]\n",
    "#get_recession_bottom()"
   ]
  },
  {
   "cell_type": "code",
   "execution_count": 114,
   "metadata": {
    "umich_part_id": "025",
    "umich_partlist_id": "004"
   },
   "outputs": [],
   "source": [
    "def convert_housing_data_to_quarters():\n",
    "    '''Converts the housing data to quarters and returns it as mean \n",
    "    values in a dataframe. This dataframe should be a dataframe with\n",
    "    columns for 2000q1 through 2016q3, and should have a multi-index\n",
    "    in the shape of [\"State\",\"RegionName\"].\n",
    "    \n",
    "    Note: Quarters are defined in the assignment description, they are\n",
    "    not arbitrary three month periods.\n",
    "    \n",
    "    The resulting dataframe should have 67 columns, and 10,730 rows.\n",
    "    '''\n",
    "    \n",
    "    h = pd.read_csv('City_Zhvi_AllHomes.csv')\n",
    "    h.drop(h.columns[0],axis=1,inplace=True)\n",
    "    h.drop(h.columns[2:50],axis=1,inplace=True)\n",
    "    h.replace({'State':states}, inplace = True) #first cell\n",
    "    h.set_index(['State','RegionName'],inplace = True)\n",
    "    #print(h)\n",
    "    \n",
    "    def name(col): # to transform the columns\n",
    "        if col.endswith((\"01\", \"02\", \"03\")):\n",
    "            s=col[:4] + \"q1\"\n",
    "        elif col.endswith((\"04\", \"05\", \"06\")):\n",
    "            s=col[:4] + \"q2\"\n",
    "        elif col.endswith((\"07\", \"08\", \"09\")):\n",
    "            s=col[:4] + \"q3\"\n",
    "        else:\n",
    "            s=col[:4] + \"q4\"\n",
    "        return s  \n",
    "    \n",
    "    h1 = h.iloc[:,2:200].groupby(name, axis = 1).mean()\n",
    "    return h1\n",
    "\n",
    "#convert_housing_data_to_quarters().loc[\"Texas\"].loc[\"Austin\"].loc[\"2010q3\"]\n",
    "#convert_housing_data_to_quarters()"
   ]
  },
  {
   "cell_type": "code",
   "execution_count": 115,
   "metadata": {
    "umich_part_id": "026",
    "umich_partlist_id": "004"
   },
   "outputs": [],
   "source": [
    "def run_ttest():\n",
    "    '''First creates new data showing the decline or growth of housing prices\n",
    "    between the recession start and the recession bottom. Then runs a ttest\n",
    "    comparing the university town values to the non-university towns values, \n",
    "    return whether the alternative hypothesis (that the two groups are the same)\n",
    "    is true or not as well as the p-value of the confidence. \n",
    "    \n",
    "    Return the tuple (different, p, better) where different=True if the t-test is\n",
    "    True at a p<0.01 (we reject the null hypothesis), or different=False if \n",
    "    otherwise (we cannot reject the null hypothesis). The variable p should\n",
    "    be equal to the exact p value returned from scipy.stats.ttest_ind(). The\n",
    "    value for better should be either \"university town\" or \"non-university town\"\n",
    "    depending on which has a lower mean price ratio (which is equivilent to a\n",
    "    reduced market loss).'''\n",
    "    \n",
    "    h = convert_housing_data_to_quarters()\n",
    "    list1 = get_list_of_university_towns()\n",
    "    \n",
    "    h=h.reset_index()\n",
    "    h['recession_diff'] = h[get_recession_start()] - h[get_recession_bottom()]\n",
    "    \n",
    "    towns_houses = pd.merge(h, list1, how='inner', on=['State', 'RegionName'])\n",
    "    towns_houses['ctown'] = True\n",
    "    h = pd.merge(h, towns_houses, how='outer', on = ['State', 'RegionName',\n",
    "                                                              get_recession_bottom(),get_recession_start(), \n",
    "                                                              'recession_diff'])\n",
    "    h['ctown'] = h['ctown'].fillna(False)\n",
    "    unitowns = h[h['ctown'] == True]\n",
    "    not_unitowns = h[h['ctown'] == False]\n",
    "    \n",
    "    t, p = ttest_ind(unitowns['recession_diff'].dropna(), not_unitowns['recession_diff'].dropna())\n",
    "    \n",
    "    #to print p\n",
    "    if p<0.01:\n",
    "        diff=True\n",
    "    else:\n",
    "        diff=False\n",
    "    \n",
    "    #to print university town or not\n",
    "    if unitowns['recession_diff'].mean() < not_unitowns['recession_diff'].mean():\n",
    "        better = \"university town\"  \n",
    "    else:\n",
    "        better =\"non-university town\"\n",
    "    \n",
    "    return diff,p,better\n",
    "\n",
    "#run_ttest()"
   ]
  },
  {
   "cell_type": "code",
   "execution_count": null,
   "metadata": {
    "collapsed": true
   },
   "outputs": [],
   "source": []
  }
 ],
 "metadata": {
  "coursera": {
   "course_slug": "python-data-analysis",
   "graded_item_id": "Il9Fx",
   "launcher_item_id": "TeDW0",
   "part_id": "WGlun"
  },
  "kernelspec": {
   "display_name": "Python 3",
   "language": "python",
   "name": "python3"
  },
  "language_info": {
   "codemirror_mode": {
    "name": "ipython",
    "version": 3
   },
   "file_extension": ".py",
   "mimetype": "text/x-python",
   "name": "python",
   "nbconvert_exporter": "python",
   "pygments_lexer": "ipython3",
   "version": "3.6.2"
  },
  "umich": {
   "id": "Assignment 4",
   "version": "1.1"
  }
 },
 "nbformat": 4,
 "nbformat_minor": 1
}
