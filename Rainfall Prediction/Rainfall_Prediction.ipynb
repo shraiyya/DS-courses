{
  "nbformat": 4,
  "nbformat_minor": 0,
  "metadata": {
    "colab": {
      "name": "Rainfall_Prediction.ipynb",
      "provenance": [],
      "collapsed_sections": []
    },
    "kernelspec": {
      "name": "python3",
      "display_name": "Python 3"
    }
  },
  "cells": [
    {
      "cell_type": "code",
      "metadata": {
        "id": "oDpjDidrv8RB"
      },
      "source": [
        "import pandas as pd\r\n",
        "import numpy as np\r\n",
        "import matplotlib.pyplot as plt\r\n",
        "from matplotlib.pyplot import figure\r\n",
        "import seaborn as sns"
      ],
      "execution_count": 750,
      "outputs": []
    },
    {
      "cell_type": "code",
      "metadata": {
        "id": "C4FMriYYwZjU",
        "colab": {
          "base_uri": "https://localhost:8080/",
          "height": 599
        },
        "outputId": "564eb362-0c3e-4aba-b873-bde237b42d4e"
      },
      "source": [
        "df= pd.read_csv(\"/content/weatherAUS.csv\",error_bad_lines=False)\r\n",
        "df"
      ],
      "execution_count": 751,
      "outputs": [
        {
          "output_type": "execute_result",
          "data": {
            "text/html": [
              "<div>\n",
              "<style scoped>\n",
              "    .dataframe tbody tr th:only-of-type {\n",
              "        vertical-align: middle;\n",
              "    }\n",
              "\n",
              "    .dataframe tbody tr th {\n",
              "        vertical-align: top;\n",
              "    }\n",
              "\n",
              "    .dataframe thead th {\n",
              "        text-align: right;\n",
              "    }\n",
              "</style>\n",
              "<table border=\"1\" class=\"dataframe\">\n",
              "  <thead>\n",
              "    <tr style=\"text-align: right;\">\n",
              "      <th></th>\n",
              "      <th>Date</th>\n",
              "      <th>Location</th>\n",
              "      <th>MinTemp</th>\n",
              "      <th>MaxTemp</th>\n",
              "      <th>Rainfall</th>\n",
              "      <th>Evaporation</th>\n",
              "      <th>Sunshine</th>\n",
              "      <th>WindGustDir</th>\n",
              "      <th>WindGustSpeed</th>\n",
              "      <th>WindDir9am</th>\n",
              "      <th>WindDir3pm</th>\n",
              "      <th>WindSpeed9am</th>\n",
              "      <th>WindSpeed3pm</th>\n",
              "      <th>Humidity9am</th>\n",
              "      <th>Humidity3pm</th>\n",
              "      <th>Pressure9am</th>\n",
              "      <th>Pressure3pm</th>\n",
              "      <th>Cloud9am</th>\n",
              "      <th>Cloud3pm</th>\n",
              "      <th>Temp9am</th>\n",
              "      <th>Temp3pm</th>\n",
              "      <th>RainToday</th>\n",
              "      <th>RISK_MM</th>\n",
              "      <th>RainTomorrow</th>\n",
              "    </tr>\n",
              "  </thead>\n",
              "  <tbody>\n",
              "    <tr>\n",
              "      <th>0</th>\n",
              "      <td>2008-12-01</td>\n",
              "      <td>Albury</td>\n",
              "      <td>13.4</td>\n",
              "      <td>22.9</td>\n",
              "      <td>0.6</td>\n",
              "      <td>NaN</td>\n",
              "      <td>NaN</td>\n",
              "      <td>W</td>\n",
              "      <td>44.0</td>\n",
              "      <td>W</td>\n",
              "      <td>WNW</td>\n",
              "      <td>20.0</td>\n",
              "      <td>24.0</td>\n",
              "      <td>71.0</td>\n",
              "      <td>22.0</td>\n",
              "      <td>1007.7</td>\n",
              "      <td>1007.1</td>\n",
              "      <td>8.0</td>\n",
              "      <td>NaN</td>\n",
              "      <td>16.9</td>\n",
              "      <td>21.8</td>\n",
              "      <td>No</td>\n",
              "      <td>0.0</td>\n",
              "      <td>No</td>\n",
              "    </tr>\n",
              "    <tr>\n",
              "      <th>1</th>\n",
              "      <td>2008-12-02</td>\n",
              "      <td>Albury</td>\n",
              "      <td>7.4</td>\n",
              "      <td>25.1</td>\n",
              "      <td>0.0</td>\n",
              "      <td>NaN</td>\n",
              "      <td>NaN</td>\n",
              "      <td>WNW</td>\n",
              "      <td>44.0</td>\n",
              "      <td>NNW</td>\n",
              "      <td>WSW</td>\n",
              "      <td>4.0</td>\n",
              "      <td>22.0</td>\n",
              "      <td>44.0</td>\n",
              "      <td>25.0</td>\n",
              "      <td>1010.6</td>\n",
              "      <td>1007.8</td>\n",
              "      <td>NaN</td>\n",
              "      <td>NaN</td>\n",
              "      <td>17.2</td>\n",
              "      <td>24.3</td>\n",
              "      <td>No</td>\n",
              "      <td>0.0</td>\n",
              "      <td>No</td>\n",
              "    </tr>\n",
              "    <tr>\n",
              "      <th>2</th>\n",
              "      <td>2008-12-03</td>\n",
              "      <td>Albury</td>\n",
              "      <td>12.9</td>\n",
              "      <td>25.7</td>\n",
              "      <td>0.0</td>\n",
              "      <td>NaN</td>\n",
              "      <td>NaN</td>\n",
              "      <td>WSW</td>\n",
              "      <td>46.0</td>\n",
              "      <td>W</td>\n",
              "      <td>WSW</td>\n",
              "      <td>19.0</td>\n",
              "      <td>26.0</td>\n",
              "      <td>38.0</td>\n",
              "      <td>30.0</td>\n",
              "      <td>1007.6</td>\n",
              "      <td>1008.7</td>\n",
              "      <td>NaN</td>\n",
              "      <td>2.0</td>\n",
              "      <td>21.0</td>\n",
              "      <td>23.2</td>\n",
              "      <td>No</td>\n",
              "      <td>0.0</td>\n",
              "      <td>No</td>\n",
              "    </tr>\n",
              "    <tr>\n",
              "      <th>3</th>\n",
              "      <td>2008-12-04</td>\n",
              "      <td>Albury</td>\n",
              "      <td>9.2</td>\n",
              "      <td>28.0</td>\n",
              "      <td>0.0</td>\n",
              "      <td>NaN</td>\n",
              "      <td>NaN</td>\n",
              "      <td>NE</td>\n",
              "      <td>24.0</td>\n",
              "      <td>SE</td>\n",
              "      <td>E</td>\n",
              "      <td>11.0</td>\n",
              "      <td>9.0</td>\n",
              "      <td>45.0</td>\n",
              "      <td>16.0</td>\n",
              "      <td>1017.6</td>\n",
              "      <td>1012.8</td>\n",
              "      <td>NaN</td>\n",
              "      <td>NaN</td>\n",
              "      <td>18.1</td>\n",
              "      <td>26.5</td>\n",
              "      <td>No</td>\n",
              "      <td>1.0</td>\n",
              "      <td>No</td>\n",
              "    </tr>\n",
              "    <tr>\n",
              "      <th>4</th>\n",
              "      <td>2008-12-05</td>\n",
              "      <td>Albury</td>\n",
              "      <td>17.5</td>\n",
              "      <td>32.3</td>\n",
              "      <td>1.0</td>\n",
              "      <td>NaN</td>\n",
              "      <td>NaN</td>\n",
              "      <td>W</td>\n",
              "      <td>41.0</td>\n",
              "      <td>ENE</td>\n",
              "      <td>NW</td>\n",
              "      <td>7.0</td>\n",
              "      <td>20.0</td>\n",
              "      <td>82.0</td>\n",
              "      <td>33.0</td>\n",
              "      <td>1010.8</td>\n",
              "      <td>1006.0</td>\n",
              "      <td>7.0</td>\n",
              "      <td>8.0</td>\n",
              "      <td>17.8</td>\n",
              "      <td>29.7</td>\n",
              "      <td>No</td>\n",
              "      <td>0.2</td>\n",
              "      <td>No</td>\n",
              "    </tr>\n",
              "    <tr>\n",
              "      <th>...</th>\n",
              "      <td>...</td>\n",
              "      <td>...</td>\n",
              "      <td>...</td>\n",
              "      <td>...</td>\n",
              "      <td>...</td>\n",
              "      <td>...</td>\n",
              "      <td>...</td>\n",
              "      <td>...</td>\n",
              "      <td>...</td>\n",
              "      <td>...</td>\n",
              "      <td>...</td>\n",
              "      <td>...</td>\n",
              "      <td>...</td>\n",
              "      <td>...</td>\n",
              "      <td>...</td>\n",
              "      <td>...</td>\n",
              "      <td>...</td>\n",
              "      <td>...</td>\n",
              "      <td>...</td>\n",
              "      <td>...</td>\n",
              "      <td>...</td>\n",
              "      <td>...</td>\n",
              "      <td>...</td>\n",
              "      <td>...</td>\n",
              "    </tr>\n",
              "    <tr>\n",
              "      <th>142188</th>\n",
              "      <td>2017-06-20</td>\n",
              "      <td>Uluru</td>\n",
              "      <td>3.5</td>\n",
              "      <td>21.8</td>\n",
              "      <td>0.0</td>\n",
              "      <td>NaN</td>\n",
              "      <td>NaN</td>\n",
              "      <td>E</td>\n",
              "      <td>31.0</td>\n",
              "      <td>ESE</td>\n",
              "      <td>E</td>\n",
              "      <td>15.0</td>\n",
              "      <td>13.0</td>\n",
              "      <td>59.0</td>\n",
              "      <td>27.0</td>\n",
              "      <td>1024.7</td>\n",
              "      <td>1021.2</td>\n",
              "      <td>NaN</td>\n",
              "      <td>NaN</td>\n",
              "      <td>9.4</td>\n",
              "      <td>20.9</td>\n",
              "      <td>No</td>\n",
              "      <td>0.0</td>\n",
              "      <td>No</td>\n",
              "    </tr>\n",
              "    <tr>\n",
              "      <th>142189</th>\n",
              "      <td>2017-06-21</td>\n",
              "      <td>Uluru</td>\n",
              "      <td>2.8</td>\n",
              "      <td>23.4</td>\n",
              "      <td>0.0</td>\n",
              "      <td>NaN</td>\n",
              "      <td>NaN</td>\n",
              "      <td>E</td>\n",
              "      <td>31.0</td>\n",
              "      <td>SE</td>\n",
              "      <td>ENE</td>\n",
              "      <td>13.0</td>\n",
              "      <td>11.0</td>\n",
              "      <td>51.0</td>\n",
              "      <td>24.0</td>\n",
              "      <td>1024.6</td>\n",
              "      <td>1020.3</td>\n",
              "      <td>NaN</td>\n",
              "      <td>NaN</td>\n",
              "      <td>10.1</td>\n",
              "      <td>22.4</td>\n",
              "      <td>No</td>\n",
              "      <td>0.0</td>\n",
              "      <td>No</td>\n",
              "    </tr>\n",
              "    <tr>\n",
              "      <th>142190</th>\n",
              "      <td>2017-06-22</td>\n",
              "      <td>Uluru</td>\n",
              "      <td>3.6</td>\n",
              "      <td>25.3</td>\n",
              "      <td>0.0</td>\n",
              "      <td>NaN</td>\n",
              "      <td>NaN</td>\n",
              "      <td>NNW</td>\n",
              "      <td>22.0</td>\n",
              "      <td>SE</td>\n",
              "      <td>N</td>\n",
              "      <td>13.0</td>\n",
              "      <td>9.0</td>\n",
              "      <td>56.0</td>\n",
              "      <td>21.0</td>\n",
              "      <td>1023.5</td>\n",
              "      <td>1019.1</td>\n",
              "      <td>NaN</td>\n",
              "      <td>NaN</td>\n",
              "      <td>10.9</td>\n",
              "      <td>24.5</td>\n",
              "      <td>No</td>\n",
              "      <td>0.0</td>\n",
              "      <td>No</td>\n",
              "    </tr>\n",
              "    <tr>\n",
              "      <th>142191</th>\n",
              "      <td>2017-06-23</td>\n",
              "      <td>Uluru</td>\n",
              "      <td>5.4</td>\n",
              "      <td>26.9</td>\n",
              "      <td>0.0</td>\n",
              "      <td>NaN</td>\n",
              "      <td>NaN</td>\n",
              "      <td>N</td>\n",
              "      <td>37.0</td>\n",
              "      <td>SE</td>\n",
              "      <td>WNW</td>\n",
              "      <td>9.0</td>\n",
              "      <td>9.0</td>\n",
              "      <td>53.0</td>\n",
              "      <td>24.0</td>\n",
              "      <td>1021.0</td>\n",
              "      <td>1016.8</td>\n",
              "      <td>NaN</td>\n",
              "      <td>NaN</td>\n",
              "      <td>12.5</td>\n",
              "      <td>26.1</td>\n",
              "      <td>No</td>\n",
              "      <td>0.0</td>\n",
              "      <td>No</td>\n",
              "    </tr>\n",
              "    <tr>\n",
              "      <th>142192</th>\n",
              "      <td>2017-06-24</td>\n",
              "      <td>Uluru</td>\n",
              "      <td>7.8</td>\n",
              "      <td>27.0</td>\n",
              "      <td>0.0</td>\n",
              "      <td>NaN</td>\n",
              "      <td>NaN</td>\n",
              "      <td>SE</td>\n",
              "      <td>28.0</td>\n",
              "      <td>SSE</td>\n",
              "      <td>N</td>\n",
              "      <td>13.0</td>\n",
              "      <td>7.0</td>\n",
              "      <td>51.0</td>\n",
              "      <td>24.0</td>\n",
              "      <td>1019.4</td>\n",
              "      <td>1016.5</td>\n",
              "      <td>3.0</td>\n",
              "      <td>2.0</td>\n",
              "      <td>15.1</td>\n",
              "      <td>26.0</td>\n",
              "      <td>No</td>\n",
              "      <td>0.0</td>\n",
              "      <td>No</td>\n",
              "    </tr>\n",
              "  </tbody>\n",
              "</table>\n",
              "<p>142193 rows × 24 columns</p>\n",
              "</div>"
            ],
            "text/plain": [
              "              Date Location  MinTemp  ...  RainToday  RISK_MM  RainTomorrow\n",
              "0       2008-12-01   Albury     13.4  ...         No      0.0            No\n",
              "1       2008-12-02   Albury      7.4  ...         No      0.0            No\n",
              "2       2008-12-03   Albury     12.9  ...         No      0.0            No\n",
              "3       2008-12-04   Albury      9.2  ...         No      1.0            No\n",
              "4       2008-12-05   Albury     17.5  ...         No      0.2            No\n",
              "...            ...      ...      ...  ...        ...      ...           ...\n",
              "142188  2017-06-20    Uluru      3.5  ...         No      0.0            No\n",
              "142189  2017-06-21    Uluru      2.8  ...         No      0.0            No\n",
              "142190  2017-06-22    Uluru      3.6  ...         No      0.0            No\n",
              "142191  2017-06-23    Uluru      5.4  ...         No      0.0            No\n",
              "142192  2017-06-24    Uluru      7.8  ...         No      0.0            No\n",
              "\n",
              "[142193 rows x 24 columns]"
            ]
          },
          "metadata": {
            "tags": []
          },
          "execution_count": 751
        }
      ]
    },
    {
      "cell_type": "code",
      "metadata": {
        "id": "LfztWYNjyMJZ",
        "colab": {
          "base_uri": "https://localhost:8080/"
        },
        "outputId": "50c9bc64-c8d4-4279-e282-f8b2b10ee096"
      },
      "source": [
        "df.shape"
      ],
      "execution_count": 752,
      "outputs": [
        {
          "output_type": "execute_result",
          "data": {
            "text/plain": [
              "(142193, 24)"
            ]
          },
          "metadata": {
            "tags": []
          },
          "execution_count": 752
        }
      ]
    },
    {
      "cell_type": "code",
      "metadata": {
        "colab": {
          "base_uri": "https://localhost:8080/"
        },
        "id": "N9poAF7Ny804",
        "outputId": "52d0ceaf-0554-4333-ce2b-d5cdcd7c7e65"
      },
      "source": [
        "df.columns"
      ],
      "execution_count": 753,
      "outputs": [
        {
          "output_type": "execute_result",
          "data": {
            "text/plain": [
              "Index(['Date', 'Location', 'MinTemp', 'MaxTemp', 'Rainfall', 'Evaporation',\n",
              "       'Sunshine', 'WindGustDir', 'WindGustSpeed', 'WindDir9am', 'WindDir3pm',\n",
              "       'WindSpeed9am', 'WindSpeed3pm', 'Humidity9am', 'Humidity3pm',\n",
              "       'Pressure9am', 'Pressure3pm', 'Cloud9am', 'Cloud3pm', 'Temp9am',\n",
              "       'Temp3pm', 'RainToday', 'RISK_MM', 'RainTomorrow'],\n",
              "      dtype='object')"
            ]
          },
          "metadata": {
            "tags": []
          },
          "execution_count": 753
        }
      ]
    },
    {
      "cell_type": "code",
      "metadata": {
        "colab": {
          "base_uri": "https://localhost:8080/"
        },
        "id": "MCPtwFTozE1q",
        "outputId": "cbd28c73-b8c6-49ba-a162-4ca035e8db80"
      },
      "source": [
        "df.describe"
      ],
      "execution_count": 754,
      "outputs": [
        {
          "output_type": "execute_result",
          "data": {
            "text/plain": [
              "<bound method NDFrame.describe of               Date Location  MinTemp  ...  RainToday  RISK_MM  RainTomorrow\n",
              "0       2008-12-01   Albury     13.4  ...         No      0.0            No\n",
              "1       2008-12-02   Albury      7.4  ...         No      0.0            No\n",
              "2       2008-12-03   Albury     12.9  ...         No      0.0            No\n",
              "3       2008-12-04   Albury      9.2  ...         No      1.0            No\n",
              "4       2008-12-05   Albury     17.5  ...         No      0.2            No\n",
              "...            ...      ...      ...  ...        ...      ...           ...\n",
              "142188  2017-06-20    Uluru      3.5  ...         No      0.0            No\n",
              "142189  2017-06-21    Uluru      2.8  ...         No      0.0            No\n",
              "142190  2017-06-22    Uluru      3.6  ...         No      0.0            No\n",
              "142191  2017-06-23    Uluru      5.4  ...         No      0.0            No\n",
              "142192  2017-06-24    Uluru      7.8  ...         No      0.0            No\n",
              "\n",
              "[142193 rows x 24 columns]>"
            ]
          },
          "metadata": {
            "tags": []
          },
          "execution_count": 754
        }
      ]
    },
    {
      "cell_type": "code",
      "metadata": {
        "colab": {
          "base_uri": "https://localhost:8080/"
        },
        "id": "I2GycUpozGSz",
        "outputId": "fc0ddf48-2340-483a-b639-559189c65ee4"
      },
      "source": [
        "df.dtypes"
      ],
      "execution_count": 755,
      "outputs": [
        {
          "output_type": "execute_result",
          "data": {
            "text/plain": [
              "Date              object\n",
              "Location          object\n",
              "MinTemp          float64\n",
              "MaxTemp          float64\n",
              "Rainfall         float64\n",
              "Evaporation      float64\n",
              "Sunshine         float64\n",
              "WindGustDir       object\n",
              "WindGustSpeed    float64\n",
              "WindDir9am        object\n",
              "WindDir3pm        object\n",
              "WindSpeed9am     float64\n",
              "WindSpeed3pm     float64\n",
              "Humidity9am      float64\n",
              "Humidity3pm      float64\n",
              "Pressure9am      float64\n",
              "Pressure3pm      float64\n",
              "Cloud9am         float64\n",
              "Cloud3pm         float64\n",
              "Temp9am          float64\n",
              "Temp3pm          float64\n",
              "RainToday         object\n",
              "RISK_MM          float64\n",
              "RainTomorrow      object\n",
              "dtype: object"
            ]
          },
          "metadata": {
            "tags": []
          },
          "execution_count": 755
        }
      ]
    },
    {
      "cell_type": "code",
      "metadata": {
        "colab": {
          "base_uri": "https://localhost:8080/"
        },
        "id": "4ZaHJ1vCzIrQ",
        "outputId": "f4ce0610-13c3-4064-b783-5d58de91a065"
      },
      "source": [
        "df.info()"
      ],
      "execution_count": 756,
      "outputs": [
        {
          "output_type": "stream",
          "text": [
            "<class 'pandas.core.frame.DataFrame'>\n",
            "RangeIndex: 142193 entries, 0 to 142192\n",
            "Data columns (total 24 columns):\n",
            " #   Column         Non-Null Count   Dtype  \n",
            "---  ------         --------------   -----  \n",
            " 0   Date           142193 non-null  object \n",
            " 1   Location       142193 non-null  object \n",
            " 2   MinTemp        141556 non-null  float64\n",
            " 3   MaxTemp        141871 non-null  float64\n",
            " 4   Rainfall       140787 non-null  float64\n",
            " 5   Evaporation    81350 non-null   float64\n",
            " 6   Sunshine       74377 non-null   float64\n",
            " 7   WindGustDir    132863 non-null  object \n",
            " 8   WindGustSpeed  132923 non-null  float64\n",
            " 9   WindDir9am     132180 non-null  object \n",
            " 10  WindDir3pm     138415 non-null  object \n",
            " 11  WindSpeed9am   140845 non-null  float64\n",
            " 12  WindSpeed3pm   139563 non-null  float64\n",
            " 13  Humidity9am    140419 non-null  float64\n",
            " 14  Humidity3pm    138583 non-null  float64\n",
            " 15  Pressure9am    128179 non-null  float64\n",
            " 16  Pressure3pm    128212 non-null  float64\n",
            " 17  Cloud9am       88536 non-null   float64\n",
            " 18  Cloud3pm       85099 non-null   float64\n",
            " 19  Temp9am        141289 non-null  float64\n",
            " 20  Temp3pm        139467 non-null  float64\n",
            " 21  RainToday      140787 non-null  object \n",
            " 22  RISK_MM        142193 non-null  float64\n",
            " 23  RainTomorrow   142193 non-null  object \n",
            "dtypes: float64(17), object(7)\n",
            "memory usage: 26.0+ MB\n"
          ],
          "name": "stdout"
        }
      ]
    },
    {
      "cell_type": "code",
      "metadata": {
        "colab": {
          "base_uri": "https://localhost:8080/"
        },
        "id": "1ODD4EFPzLdJ",
        "outputId": "5b0b03cb-3566-4da0-f226-6b76b114a622"
      },
      "source": [
        "df.nunique()"
      ],
      "execution_count": 757,
      "outputs": [
        {
          "output_type": "execute_result",
          "data": {
            "text/plain": [
              "Date             3436\n",
              "Location           49\n",
              "MinTemp           389\n",
              "MaxTemp           505\n",
              "Rainfall          679\n",
              "Evaporation       356\n",
              "Sunshine          145\n",
              "WindGustDir        16\n",
              "WindGustSpeed      67\n",
              "WindDir9am         16\n",
              "WindDir3pm         16\n",
              "WindSpeed9am       43\n",
              "WindSpeed3pm       44\n",
              "Humidity9am       101\n",
              "Humidity3pm       101\n",
              "Pressure9am       546\n",
              "Pressure3pm       549\n",
              "Cloud9am           10\n",
              "Cloud3pm           10\n",
              "Temp9am           440\n",
              "Temp3pm           500\n",
              "RainToday           2\n",
              "RISK_MM           681\n",
              "RainTomorrow        2\n",
              "dtype: int64"
            ]
          },
          "metadata": {
            "tags": []
          },
          "execution_count": 757
        }
      ]
    },
    {
      "cell_type": "code",
      "metadata": {
        "colab": {
          "base_uri": "https://localhost:8080/",
          "height": 599
        },
        "id": "iElNvchizlEf",
        "outputId": "146f0062-4d7b-4e6d-be6e-d1af34400a3c"
      },
      "source": [
        "df.dropna(inplace=True)\r\n",
        "df"
      ],
      "execution_count": 758,
      "outputs": [
        {
          "output_type": "execute_result",
          "data": {
            "text/html": [
              "<div>\n",
              "<style scoped>\n",
              "    .dataframe tbody tr th:only-of-type {\n",
              "        vertical-align: middle;\n",
              "    }\n",
              "\n",
              "    .dataframe tbody tr th {\n",
              "        vertical-align: top;\n",
              "    }\n",
              "\n",
              "    .dataframe thead th {\n",
              "        text-align: right;\n",
              "    }\n",
              "</style>\n",
              "<table border=\"1\" class=\"dataframe\">\n",
              "  <thead>\n",
              "    <tr style=\"text-align: right;\">\n",
              "      <th></th>\n",
              "      <th>Date</th>\n",
              "      <th>Location</th>\n",
              "      <th>MinTemp</th>\n",
              "      <th>MaxTemp</th>\n",
              "      <th>Rainfall</th>\n",
              "      <th>Evaporation</th>\n",
              "      <th>Sunshine</th>\n",
              "      <th>WindGustDir</th>\n",
              "      <th>WindGustSpeed</th>\n",
              "      <th>WindDir9am</th>\n",
              "      <th>WindDir3pm</th>\n",
              "      <th>WindSpeed9am</th>\n",
              "      <th>WindSpeed3pm</th>\n",
              "      <th>Humidity9am</th>\n",
              "      <th>Humidity3pm</th>\n",
              "      <th>Pressure9am</th>\n",
              "      <th>Pressure3pm</th>\n",
              "      <th>Cloud9am</th>\n",
              "      <th>Cloud3pm</th>\n",
              "      <th>Temp9am</th>\n",
              "      <th>Temp3pm</th>\n",
              "      <th>RainToday</th>\n",
              "      <th>RISK_MM</th>\n",
              "      <th>RainTomorrow</th>\n",
              "    </tr>\n",
              "  </thead>\n",
              "  <tbody>\n",
              "    <tr>\n",
              "      <th>5939</th>\n",
              "      <td>2009-01-01</td>\n",
              "      <td>Cobar</td>\n",
              "      <td>17.9</td>\n",
              "      <td>35.2</td>\n",
              "      <td>0.0</td>\n",
              "      <td>12.0</td>\n",
              "      <td>12.3</td>\n",
              "      <td>SSW</td>\n",
              "      <td>48.0</td>\n",
              "      <td>ENE</td>\n",
              "      <td>SW</td>\n",
              "      <td>6.0</td>\n",
              "      <td>20.0</td>\n",
              "      <td>20.0</td>\n",
              "      <td>13.0</td>\n",
              "      <td>1006.3</td>\n",
              "      <td>1004.4</td>\n",
              "      <td>2.0</td>\n",
              "      <td>5.0</td>\n",
              "      <td>26.6</td>\n",
              "      <td>33.4</td>\n",
              "      <td>No</td>\n",
              "      <td>0.0</td>\n",
              "      <td>No</td>\n",
              "    </tr>\n",
              "    <tr>\n",
              "      <th>5940</th>\n",
              "      <td>2009-01-02</td>\n",
              "      <td>Cobar</td>\n",
              "      <td>18.4</td>\n",
              "      <td>28.9</td>\n",
              "      <td>0.0</td>\n",
              "      <td>14.8</td>\n",
              "      <td>13.0</td>\n",
              "      <td>S</td>\n",
              "      <td>37.0</td>\n",
              "      <td>SSE</td>\n",
              "      <td>SSE</td>\n",
              "      <td>19.0</td>\n",
              "      <td>19.0</td>\n",
              "      <td>30.0</td>\n",
              "      <td>8.0</td>\n",
              "      <td>1012.9</td>\n",
              "      <td>1012.1</td>\n",
              "      <td>1.0</td>\n",
              "      <td>1.0</td>\n",
              "      <td>20.3</td>\n",
              "      <td>27.0</td>\n",
              "      <td>No</td>\n",
              "      <td>0.0</td>\n",
              "      <td>No</td>\n",
              "    </tr>\n",
              "    <tr>\n",
              "      <th>5942</th>\n",
              "      <td>2009-01-04</td>\n",
              "      <td>Cobar</td>\n",
              "      <td>19.4</td>\n",
              "      <td>37.6</td>\n",
              "      <td>0.0</td>\n",
              "      <td>10.8</td>\n",
              "      <td>10.6</td>\n",
              "      <td>NNE</td>\n",
              "      <td>46.0</td>\n",
              "      <td>NNE</td>\n",
              "      <td>NNW</td>\n",
              "      <td>30.0</td>\n",
              "      <td>15.0</td>\n",
              "      <td>42.0</td>\n",
              "      <td>22.0</td>\n",
              "      <td>1012.3</td>\n",
              "      <td>1009.2</td>\n",
              "      <td>1.0</td>\n",
              "      <td>6.0</td>\n",
              "      <td>28.7</td>\n",
              "      <td>34.9</td>\n",
              "      <td>No</td>\n",
              "      <td>0.0</td>\n",
              "      <td>No</td>\n",
              "    </tr>\n",
              "    <tr>\n",
              "      <th>5943</th>\n",
              "      <td>2009-01-05</td>\n",
              "      <td>Cobar</td>\n",
              "      <td>21.9</td>\n",
              "      <td>38.4</td>\n",
              "      <td>0.0</td>\n",
              "      <td>11.4</td>\n",
              "      <td>12.2</td>\n",
              "      <td>WNW</td>\n",
              "      <td>31.0</td>\n",
              "      <td>WNW</td>\n",
              "      <td>WSW</td>\n",
              "      <td>6.0</td>\n",
              "      <td>6.0</td>\n",
              "      <td>37.0</td>\n",
              "      <td>22.0</td>\n",
              "      <td>1012.7</td>\n",
              "      <td>1009.1</td>\n",
              "      <td>1.0</td>\n",
              "      <td>5.0</td>\n",
              "      <td>29.1</td>\n",
              "      <td>35.6</td>\n",
              "      <td>No</td>\n",
              "      <td>0.0</td>\n",
              "      <td>No</td>\n",
              "    </tr>\n",
              "    <tr>\n",
              "      <th>5944</th>\n",
              "      <td>2009-01-06</td>\n",
              "      <td>Cobar</td>\n",
              "      <td>24.2</td>\n",
              "      <td>41.0</td>\n",
              "      <td>0.0</td>\n",
              "      <td>11.2</td>\n",
              "      <td>8.4</td>\n",
              "      <td>WNW</td>\n",
              "      <td>35.0</td>\n",
              "      <td>NW</td>\n",
              "      <td>WNW</td>\n",
              "      <td>17.0</td>\n",
              "      <td>13.0</td>\n",
              "      <td>19.0</td>\n",
              "      <td>15.0</td>\n",
              "      <td>1010.7</td>\n",
              "      <td>1007.4</td>\n",
              "      <td>1.0</td>\n",
              "      <td>6.0</td>\n",
              "      <td>33.6</td>\n",
              "      <td>37.6</td>\n",
              "      <td>No</td>\n",
              "      <td>0.0</td>\n",
              "      <td>No</td>\n",
              "    </tr>\n",
              "    <tr>\n",
              "      <th>...</th>\n",
              "      <td>...</td>\n",
              "      <td>...</td>\n",
              "      <td>...</td>\n",
              "      <td>...</td>\n",
              "      <td>...</td>\n",
              "      <td>...</td>\n",
              "      <td>...</td>\n",
              "      <td>...</td>\n",
              "      <td>...</td>\n",
              "      <td>...</td>\n",
              "      <td>...</td>\n",
              "      <td>...</td>\n",
              "      <td>...</td>\n",
              "      <td>...</td>\n",
              "      <td>...</td>\n",
              "      <td>...</td>\n",
              "      <td>...</td>\n",
              "      <td>...</td>\n",
              "      <td>...</td>\n",
              "      <td>...</td>\n",
              "      <td>...</td>\n",
              "      <td>...</td>\n",
              "      <td>...</td>\n",
              "      <td>...</td>\n",
              "    </tr>\n",
              "    <tr>\n",
              "      <th>139108</th>\n",
              "      <td>2017-06-20</td>\n",
              "      <td>Darwin</td>\n",
              "      <td>19.3</td>\n",
              "      <td>33.4</td>\n",
              "      <td>0.0</td>\n",
              "      <td>6.0</td>\n",
              "      <td>11.0</td>\n",
              "      <td>ENE</td>\n",
              "      <td>35.0</td>\n",
              "      <td>SE</td>\n",
              "      <td>NE</td>\n",
              "      <td>9.0</td>\n",
              "      <td>20.0</td>\n",
              "      <td>63.0</td>\n",
              "      <td>32.0</td>\n",
              "      <td>1013.9</td>\n",
              "      <td>1010.5</td>\n",
              "      <td>0.0</td>\n",
              "      <td>1.0</td>\n",
              "      <td>24.5</td>\n",
              "      <td>32.3</td>\n",
              "      <td>No</td>\n",
              "      <td>0.0</td>\n",
              "      <td>No</td>\n",
              "    </tr>\n",
              "    <tr>\n",
              "      <th>139109</th>\n",
              "      <td>2017-06-21</td>\n",
              "      <td>Darwin</td>\n",
              "      <td>21.2</td>\n",
              "      <td>32.6</td>\n",
              "      <td>0.0</td>\n",
              "      <td>7.6</td>\n",
              "      <td>8.6</td>\n",
              "      <td>E</td>\n",
              "      <td>37.0</td>\n",
              "      <td>SE</td>\n",
              "      <td>SE</td>\n",
              "      <td>13.0</td>\n",
              "      <td>11.0</td>\n",
              "      <td>56.0</td>\n",
              "      <td>28.0</td>\n",
              "      <td>1014.6</td>\n",
              "      <td>1011.2</td>\n",
              "      <td>7.0</td>\n",
              "      <td>0.0</td>\n",
              "      <td>24.8</td>\n",
              "      <td>32.0</td>\n",
              "      <td>No</td>\n",
              "      <td>0.0</td>\n",
              "      <td>No</td>\n",
              "    </tr>\n",
              "    <tr>\n",
              "      <th>139110</th>\n",
              "      <td>2017-06-22</td>\n",
              "      <td>Darwin</td>\n",
              "      <td>20.7</td>\n",
              "      <td>32.8</td>\n",
              "      <td>0.0</td>\n",
              "      <td>5.6</td>\n",
              "      <td>11.0</td>\n",
              "      <td>E</td>\n",
              "      <td>33.0</td>\n",
              "      <td>E</td>\n",
              "      <td>W</td>\n",
              "      <td>17.0</td>\n",
              "      <td>11.0</td>\n",
              "      <td>46.0</td>\n",
              "      <td>23.0</td>\n",
              "      <td>1015.3</td>\n",
              "      <td>1011.8</td>\n",
              "      <td>0.0</td>\n",
              "      <td>0.0</td>\n",
              "      <td>24.8</td>\n",
              "      <td>32.1</td>\n",
              "      <td>No</td>\n",
              "      <td>0.0</td>\n",
              "      <td>No</td>\n",
              "    </tr>\n",
              "    <tr>\n",
              "      <th>139111</th>\n",
              "      <td>2017-06-23</td>\n",
              "      <td>Darwin</td>\n",
              "      <td>19.5</td>\n",
              "      <td>31.8</td>\n",
              "      <td>0.0</td>\n",
              "      <td>6.2</td>\n",
              "      <td>10.6</td>\n",
              "      <td>ESE</td>\n",
              "      <td>26.0</td>\n",
              "      <td>SE</td>\n",
              "      <td>NNW</td>\n",
              "      <td>9.0</td>\n",
              "      <td>17.0</td>\n",
              "      <td>62.0</td>\n",
              "      <td>58.0</td>\n",
              "      <td>1014.9</td>\n",
              "      <td>1010.7</td>\n",
              "      <td>1.0</td>\n",
              "      <td>1.0</td>\n",
              "      <td>24.8</td>\n",
              "      <td>29.2</td>\n",
              "      <td>No</td>\n",
              "      <td>0.0</td>\n",
              "      <td>No</td>\n",
              "    </tr>\n",
              "    <tr>\n",
              "      <th>139112</th>\n",
              "      <td>2017-06-24</td>\n",
              "      <td>Darwin</td>\n",
              "      <td>20.2</td>\n",
              "      <td>31.7</td>\n",
              "      <td>0.0</td>\n",
              "      <td>5.6</td>\n",
              "      <td>10.7</td>\n",
              "      <td>ENE</td>\n",
              "      <td>30.0</td>\n",
              "      <td>ENE</td>\n",
              "      <td>NNW</td>\n",
              "      <td>15.0</td>\n",
              "      <td>7.0</td>\n",
              "      <td>73.0</td>\n",
              "      <td>32.0</td>\n",
              "      <td>1013.9</td>\n",
              "      <td>1009.7</td>\n",
              "      <td>6.0</td>\n",
              "      <td>5.0</td>\n",
              "      <td>25.4</td>\n",
              "      <td>31.0</td>\n",
              "      <td>No</td>\n",
              "      <td>0.0</td>\n",
              "      <td>No</td>\n",
              "    </tr>\n",
              "  </tbody>\n",
              "</table>\n",
              "<p>56420 rows × 24 columns</p>\n",
              "</div>"
            ],
            "text/plain": [
              "              Date Location  MinTemp  ...  RainToday  RISK_MM  RainTomorrow\n",
              "5939    2009-01-01    Cobar     17.9  ...         No      0.0            No\n",
              "5940    2009-01-02    Cobar     18.4  ...         No      0.0            No\n",
              "5942    2009-01-04    Cobar     19.4  ...         No      0.0            No\n",
              "5943    2009-01-05    Cobar     21.9  ...         No      0.0            No\n",
              "5944    2009-01-06    Cobar     24.2  ...         No      0.0            No\n",
              "...            ...      ...      ...  ...        ...      ...           ...\n",
              "139108  2017-06-20   Darwin     19.3  ...         No      0.0            No\n",
              "139109  2017-06-21   Darwin     21.2  ...         No      0.0            No\n",
              "139110  2017-06-22   Darwin     20.7  ...         No      0.0            No\n",
              "139111  2017-06-23   Darwin     19.5  ...         No      0.0            No\n",
              "139112  2017-06-24   Darwin     20.2  ...         No      0.0            No\n",
              "\n",
              "[56420 rows x 24 columns]"
            ]
          },
          "metadata": {
            "tags": []
          },
          "execution_count": 758
        }
      ]
    },
    {
      "cell_type": "code",
      "metadata": {
        "colab": {
          "base_uri": "https://localhost:8080/"
        },
        "id": "CiI5LtQXIwbj",
        "outputId": "71841075-6feb-4786-fe51-0faaa721e1cc"
      },
      "source": [
        "a=df['WindGustDir'].value_counts()\r\n",
        "#print(len(list(a.index)))\r\n",
        "a"
      ],
      "execution_count": 759,
      "outputs": [
        {
          "output_type": "execute_result",
          "data": {
            "text/plain": [
              "E      4516\n",
              "N      4210\n",
              "W      4161\n",
              "SW     4052\n",
              "ENE    4028\n",
              "SE     3930\n",
              "SSW    3898\n",
              "WSW    3791\n",
              "S      3636\n",
              "ESE    3312\n",
              "SSE    3295\n",
              "NE     3185\n",
              "WNW    2989\n",
              "NW     2612\n",
              "NNE    2516\n",
              "NNW    2289\n",
              "Name: WindGustDir, dtype: int64"
            ]
          },
          "metadata": {
            "tags": []
          },
          "execution_count": 759
        }
      ]
    },
    {
      "cell_type": "code",
      "metadata": {
        "colab": {
          "base_uri": "https://localhost:8080/",
          "height": 407
        },
        "id": "XOtGvGtgI6W4",
        "outputId": "ceadef3a-7ae7-437a-9652-ce11bcc91d82"
      },
      "source": [
        "fig1 =plt.figure(figsize = (9,4))\r\n",
        "plt.title('WindGustDir',pad=90,fontsize=14)\r\n",
        "plt.pie(a, labels=a.index, autopct='%2.2f%%',radius=1.7,shadow=True)\r\n",
        "plt.show()"
      ],
      "execution_count": 760,
      "outputs": [
        {
          "output_type": "display_data",
          "data": {
            "image/png": "[encoded data removed]",
            "text/plain": [
              "<Figure size 648x288 with 1 Axes>"
            ]
          },
          "metadata": {
            "tags": []
          }
        }
      ]
    },
    {
      "cell_type": "code",
      "metadata": {
        "colab": {
          "base_uri": "https://localhost:8080/"
        },
        "id": "zOM5_sxmJLcW",
        "outputId": "b4f741f7-f6d7-4410-de83-c118dcc68b92"
      },
      "source": [
        "c=df['WindDir9am'].value_counts()\r\n",
        "#print(len(list(a.index)))\r\n",
        "c"
      ],
      "execution_count": 761,
      "outputs": [
        {
          "output_type": "execute_result",
          "data": {
            "text/plain": [
              "N      4967\n",
              "E      4456\n",
              "ENE    3932\n",
              "SSE    3893\n",
              "SE     3880\n",
              "W      3707\n",
              "S      3421\n",
              "ESE    3400\n",
              "NE     3390\n",
              "SW     3356\n",
              "NNE    3267\n",
              "WSW    3037\n",
              "NNW    3016\n",
              "SSW    2926\n",
              "WNW    2918\n",
              "NW     2854\n",
              "Name: WindDir9am, dtype: int64"
            ]
          },
          "metadata": {
            "tags": []
          },
          "execution_count": 761
        }
      ]
    },
    {
      "cell_type": "code",
      "metadata": {
        "colab": {
          "base_uri": "https://localhost:8080/",
          "height": 413
        },
        "id": "M423LBW5JI3-",
        "outputId": "16fcbe19-6578-44c3-ad8d-a72f53d7024f"
      },
      "source": [
        "fig1 =plt.figure(figsize = (9,6))\r\n",
        "plt.bar(c.index,c,color='lavender',width = 0.70)\r\n",
        "plt.yticks(np.arange(0, 6000,600))\r\n",
        "plt.xticks(rotation=20)\r\n",
        "plt.title(\"WindDir9am\")\r\n",
        "plt.xlabel(\"Dir\")\r\n",
        "plt.ylabel(\"VALUES\")\r\n",
        "plt.show()"
      ],
      "execution_count": 762,
      "outputs": [
        {
          "output_type": "display_data",
          "data": {
            "image/png": "[encoded data removed]",
            "text/plain": [
              "<Figure size 648x432 with 1 Axes>"
            ]
          },
          "metadata": {
            "tags": [],
            "needs_background": "light"
          }
        }
      ]
    },
    {
      "cell_type": "code",
      "metadata": {
        "colab": {
          "base_uri": "https://localhost:8080/",
          "height": 599
        },
        "id": "-My0CZpO8PKM",
        "outputId": "62016d24-fdac-4235-d6d8-d9ec068c812c"
      },
      "source": [
        "from sklearn import preprocessing\r\n",
        "le = preprocessing.LabelEncoder()\r\n",
        "df['WindGustDir']=le.fit_transform(df['WindGustDir'])\r\n",
        "\r\n",
        "le1 = preprocessing.LabelEncoder()\r\n",
        "df['WindDir9am']=le1.fit_transform(df['WindDir9am'])\r\n",
        "\r\n",
        "le2 = preprocessing.LabelEncoder()\r\n",
        "df['WindDir3pm']=le2.fit_transform(df['WindDir3pm'])\r\n",
        "\r\n",
        "le3 = preprocessing.LabelEncoder()\r\n",
        "df['RainToday']=le3.fit_transform(df['RainToday'])\r\n",
        "\r\n",
        "le4 = preprocessing.LabelEncoder()\r\n",
        "df['RainTomorrow']=le4.fit_transform(df['RainTomorrow'])\r\n",
        "\r\n",
        "df"
      ],
      "execution_count": 763,
      "outputs": [
        {
          "output_type": "execute_result",
          "data": {
            "text/html": [
              "<div>\n",
              "<style scoped>\n",
              "    .dataframe tbody tr th:only-of-type {\n",
              "        vertical-align: middle;\n",
              "    }\n",
              "\n",
              "    .dataframe tbody tr th {\n",
              "        vertical-align: top;\n",
              "    }\n",
              "\n",
              "    .dataframe thead th {\n",
              "        text-align: right;\n",
              "    }\n",
              "</style>\n",
              "<table border=\"1\" class=\"dataframe\">\n",
              "  <thead>\n",
              "    <tr style=\"text-align: right;\">\n",
              "      <th></th>\n",
              "      <th>Date</th>\n",
              "      <th>Location</th>\n",
              "      <th>MinTemp</th>\n",
              "      <th>MaxTemp</th>\n",
              "      <th>Rainfall</th>\n",
              "      <th>Evaporation</th>\n",
              "      <th>Sunshine</th>\n",
              "      <th>WindGustDir</th>\n",
              "      <th>WindGustSpeed</th>\n",
              "      <th>WindDir9am</th>\n",
              "      <th>WindDir3pm</th>\n",
              "      <th>WindSpeed9am</th>\n",
              "      <th>WindSpeed3pm</th>\n",
              "      <th>Humidity9am</th>\n",
              "      <th>Humidity3pm</th>\n",
              "      <th>Pressure9am</th>\n",
              "      <th>Pressure3pm</th>\n",
              "      <th>Cloud9am</th>\n",
              "      <th>Cloud3pm</th>\n",
              "      <th>Temp9am</th>\n",
              "      <th>Temp3pm</th>\n",
              "      <th>RainToday</th>\n",
              "      <th>RISK_MM</th>\n",
              "      <th>RainTomorrow</th>\n",
              "    </tr>\n",
              "  </thead>\n",
              "  <tbody>\n",
              "    <tr>\n",
              "      <th>5939</th>\n",
              "      <td>2009-01-01</td>\n",
              "      <td>Cobar</td>\n",
              "      <td>17.9</td>\n",
              "      <td>35.2</td>\n",
              "      <td>0.0</td>\n",
              "      <td>12.0</td>\n",
              "      <td>12.3</td>\n",
              "      <td>11</td>\n",
              "      <td>48.0</td>\n",
              "      <td>1</td>\n",
              "      <td>12</td>\n",
              "      <td>6.0</td>\n",
              "      <td>20.0</td>\n",
              "      <td>20.0</td>\n",
              "      <td>13.0</td>\n",
              "      <td>1006.3</td>\n",
              "      <td>1004.4</td>\n",
              "      <td>2.0</td>\n",
              "      <td>5.0</td>\n",
              "      <td>26.6</td>\n",
              "      <td>33.4</td>\n",
              "      <td>0</td>\n",
              "      <td>0.0</td>\n",
              "      <td>0</td>\n",
              "    </tr>\n",
              "    <tr>\n",
              "      <th>5940</th>\n",
              "      <td>2009-01-02</td>\n",
              "      <td>Cobar</td>\n",
              "      <td>18.4</td>\n",
              "      <td>28.9</td>\n",
              "      <td>0.0</td>\n",
              "      <td>14.8</td>\n",
              "      <td>13.0</td>\n",
              "      <td>8</td>\n",
              "      <td>37.0</td>\n",
              "      <td>10</td>\n",
              "      <td>10</td>\n",
              "      <td>19.0</td>\n",
              "      <td>19.0</td>\n",
              "      <td>30.0</td>\n",
              "      <td>8.0</td>\n",
              "      <td>1012.9</td>\n",
              "      <td>1012.1</td>\n",
              "      <td>1.0</td>\n",
              "      <td>1.0</td>\n",
              "      <td>20.3</td>\n",
              "      <td>27.0</td>\n",
              "      <td>0</td>\n",
              "      <td>0.0</td>\n",
              "      <td>0</td>\n",
              "    </tr>\n",
              "    <tr>\n",
              "      <th>5942</th>\n",
              "      <td>2009-01-04</td>\n",
              "      <td>Cobar</td>\n",
              "      <td>19.4</td>\n",
              "      <td>37.6</td>\n",
              "      <td>0.0</td>\n",
              "      <td>10.8</td>\n",
              "      <td>10.6</td>\n",
              "      <td>5</td>\n",
              "      <td>46.0</td>\n",
              "      <td>5</td>\n",
              "      <td>6</td>\n",
              "      <td>30.0</td>\n",
              "      <td>15.0</td>\n",
              "      <td>42.0</td>\n",
              "      <td>22.0</td>\n",
              "      <td>1012.3</td>\n",
              "      <td>1009.2</td>\n",
              "      <td>1.0</td>\n",
              "      <td>6.0</td>\n",
              "      <td>28.7</td>\n",
              "      <td>34.9</td>\n",
              "      <td>0</td>\n",
              "      <td>0.0</td>\n",
              "      <td>0</td>\n",
              "    </tr>\n",
              "    <tr>\n",
              "      <th>5943</th>\n",
              "      <td>2009-01-05</td>\n",
              "      <td>Cobar</td>\n",
              "      <td>21.9</td>\n",
              "      <td>38.4</td>\n",
              "      <td>0.0</td>\n",
              "      <td>11.4</td>\n",
              "      <td>12.2</td>\n",
              "      <td>14</td>\n",
              "      <td>31.0</td>\n",
              "      <td>14</td>\n",
              "      <td>15</td>\n",
              "      <td>6.0</td>\n",
              "      <td>6.0</td>\n",
              "      <td>37.0</td>\n",
              "      <td>22.0</td>\n",
              "      <td>1012.7</td>\n",
              "      <td>1009.1</td>\n",
              "      <td>1.0</td>\n",
              "      <td>5.0</td>\n",
              "      <td>29.1</td>\n",
              "      <td>35.6</td>\n",
              "      <td>0</td>\n",
              "      <td>0.0</td>\n",
              "      <td>0</td>\n",
              "    </tr>\n",
              "    <tr>\n",
              "      <th>5944</th>\n",
              "      <td>2009-01-06</td>\n",
              "      <td>Cobar</td>\n",
              "      <td>24.2</td>\n",
              "      <td>41.0</td>\n",
              "      <td>0.0</td>\n",
              "      <td>11.2</td>\n",
              "      <td>8.4</td>\n",
              "      <td>14</td>\n",
              "      <td>35.0</td>\n",
              "      <td>7</td>\n",
              "      <td>14</td>\n",
              "      <td>17.0</td>\n",
              "      <td>13.0</td>\n",
              "      <td>19.0</td>\n",
              "      <td>15.0</td>\n",
              "      <td>1010.7</td>\n",
              "      <td>1007.4</td>\n",
              "      <td>1.0</td>\n",
              "      <td>6.0</td>\n",
              "      <td>33.6</td>\n",
              "      <td>37.6</td>\n",
              "      <td>0</td>\n",
              "      <td>0.0</td>\n",
              "      <td>0</td>\n",
              "    </tr>\n",
              "    <tr>\n",
              "      <th>...</th>\n",
              "      <td>...</td>\n",
              "      <td>...</td>\n",
              "      <td>...</td>\n",
              "      <td>...</td>\n",
              "      <td>...</td>\n",
              "      <td>...</td>\n",
              "      <td>...</td>\n",
              "      <td>...</td>\n",
              "      <td>...</td>\n",
              "      <td>...</td>\n",
              "      <td>...</td>\n",
              "      <td>...</td>\n",
              "      <td>...</td>\n",
              "      <td>...</td>\n",
              "      <td>...</td>\n",
              "      <td>...</td>\n",
              "      <td>...</td>\n",
              "      <td>...</td>\n",
              "      <td>...</td>\n",
              "      <td>...</td>\n",
              "      <td>...</td>\n",
              "      <td>...</td>\n",
              "      <td>...</td>\n",
              "      <td>...</td>\n",
              "    </tr>\n",
              "    <tr>\n",
              "      <th>139108</th>\n",
              "      <td>2017-06-20</td>\n",
              "      <td>Darwin</td>\n",
              "      <td>19.3</td>\n",
              "      <td>33.4</td>\n",
              "      <td>0.0</td>\n",
              "      <td>6.0</td>\n",
              "      <td>11.0</td>\n",
              "      <td>1</td>\n",
              "      <td>35.0</td>\n",
              "      <td>9</td>\n",
              "      <td>4</td>\n",
              "      <td>9.0</td>\n",
              "      <td>20.0</td>\n",
              "      <td>63.0</td>\n",
              "      <td>32.0</td>\n",
              "      <td>1013.9</td>\n",
              "      <td>1010.5</td>\n",
              "      <td>0.0</td>\n",
              "      <td>1.0</td>\n",
              "      <td>24.5</td>\n",
              "      <td>32.3</td>\n",
              "      <td>0</td>\n",
              "      <td>0.0</td>\n",
              "      <td>0</td>\n",
              "    </tr>\n",
              "    <tr>\n",
              "      <th>139109</th>\n",
              "      <td>2017-06-21</td>\n",
              "      <td>Darwin</td>\n",
              "      <td>21.2</td>\n",
              "      <td>32.6</td>\n",
              "      <td>0.0</td>\n",
              "      <td>7.6</td>\n",
              "      <td>8.6</td>\n",
              "      <td>0</td>\n",
              "      <td>37.0</td>\n",
              "      <td>9</td>\n",
              "      <td>9</td>\n",
              "      <td>13.0</td>\n",
              "      <td>11.0</td>\n",
              "      <td>56.0</td>\n",
              "      <td>28.0</td>\n",
              "      <td>1014.6</td>\n",
              "      <td>1011.2</td>\n",
              "      <td>7.0</td>\n",
              "      <td>0.0</td>\n",
              "      <td>24.8</td>\n",
              "      <td>32.0</td>\n",
              "      <td>0</td>\n",
              "      <td>0.0</td>\n",
              "      <td>0</td>\n",
              "    </tr>\n",
              "    <tr>\n",
              "      <th>139110</th>\n",
              "      <td>2017-06-22</td>\n",
              "      <td>Darwin</td>\n",
              "      <td>20.7</td>\n",
              "      <td>32.8</td>\n",
              "      <td>0.0</td>\n",
              "      <td>5.6</td>\n",
              "      <td>11.0</td>\n",
              "      <td>0</td>\n",
              "      <td>33.0</td>\n",
              "      <td>0</td>\n",
              "      <td>13</td>\n",
              "      <td>17.0</td>\n",
              "      <td>11.0</td>\n",
              "      <td>46.0</td>\n",
              "      <td>23.0</td>\n",
              "      <td>1015.3</td>\n",
              "      <td>1011.8</td>\n",
              "      <td>0.0</td>\n",
              "      <td>0.0</td>\n",
              "      <td>24.8</td>\n",
              "      <td>32.1</td>\n",
              "      <td>0</td>\n",
              "      <td>0.0</td>\n",
              "      <td>0</td>\n",
              "    </tr>\n",
              "    <tr>\n",
              "      <th>139111</th>\n",
              "      <td>2017-06-23</td>\n",
              "      <td>Darwin</td>\n",
              "      <td>19.5</td>\n",
              "      <td>31.8</td>\n",
              "      <td>0.0</td>\n",
              "      <td>6.2</td>\n",
              "      <td>10.6</td>\n",
              "      <td>2</td>\n",
              "      <td>26.0</td>\n",
              "      <td>9</td>\n",
              "      <td>6</td>\n",
              "      <td>9.0</td>\n",
              "      <td>17.0</td>\n",
              "      <td>62.0</td>\n",
              "      <td>58.0</td>\n",
              "      <td>1014.9</td>\n",
              "      <td>1010.7</td>\n",
              "      <td>1.0</td>\n",
              "      <td>1.0</td>\n",
              "      <td>24.8</td>\n",
              "      <td>29.2</td>\n",
              "      <td>0</td>\n",
              "      <td>0.0</td>\n",
              "      <td>0</td>\n",
              "    </tr>\n",
              "    <tr>\n",
              "      <th>139112</th>\n",
              "      <td>2017-06-24</td>\n",
              "      <td>Darwin</td>\n",
              "      <td>20.2</td>\n",
              "      <td>31.7</td>\n",
              "      <td>0.0</td>\n",
              "      <td>5.6</td>\n",
              "      <td>10.7</td>\n",
              "      <td>1</td>\n",
              "      <td>30.0</td>\n",
              "      <td>1</td>\n",
              "      <td>6</td>\n",
              "      <td>15.0</td>\n",
              "      <td>7.0</td>\n",
              "      <td>73.0</td>\n",
              "      <td>32.0</td>\n",
              "      <td>1013.9</td>\n",
              "      <td>1009.7</td>\n",
              "      <td>6.0</td>\n",
              "      <td>5.0</td>\n",
              "      <td>25.4</td>\n",
              "      <td>31.0</td>\n",
              "      <td>0</td>\n",
              "      <td>0.0</td>\n",
              "      <td>0</td>\n",
              "    </tr>\n",
              "  </tbody>\n",
              "</table>\n",
              "<p>56420 rows × 24 columns</p>\n",
              "</div>"
            ],
            "text/plain": [
              "              Date Location  MinTemp  ...  RainToday  RISK_MM  RainTomorrow\n",
              "5939    2009-01-01    Cobar     17.9  ...          0      0.0             0\n",
              "5940    2009-01-02    Cobar     18.4  ...          0      0.0             0\n",
              "5942    2009-01-04    Cobar     19.4  ...          0      0.0             0\n",
              "5943    2009-01-05    Cobar     21.9  ...          0      0.0             0\n",
              "5944    2009-01-06    Cobar     24.2  ...          0      0.0             0\n",
              "...            ...      ...      ...  ...        ...      ...           ...\n",
              "139108  2017-06-20   Darwin     19.3  ...          0      0.0             0\n",
              "139109  2017-06-21   Darwin     21.2  ...          0      0.0             0\n",
              "139110  2017-06-22   Darwin     20.7  ...          0      0.0             0\n",
              "139111  2017-06-23   Darwin     19.5  ...          0      0.0             0\n",
              "139112  2017-06-24   Darwin     20.2  ...          0      0.0             0\n",
              "\n",
              "[56420 rows x 24 columns]"
            ]
          },
          "metadata": {
            "tags": []
          },
          "execution_count": 763
        }
      ]
    },
    {
      "cell_type": "code",
      "metadata": {
        "colab": {
          "base_uri": "https://localhost:8080/",
          "height": 427
        },
        "id": "xobwQ2Vn0Ofs",
        "outputId": "819cccbb-be17-4b1d-9be7-404e08902176"
      },
      "source": [
        "df.drop(['Location','Date','RISK_MM','WindGustDir','WindDir9am'],axis=1,inplace=True)\r\n",
        "df"
      ],
      "execution_count": 764,
      "outputs": [
        {
          "output_type": "execute_result",
          "data": {
            "text/html": [
              "<div>\n",
              "<style scoped>\n",
              "    .dataframe tbody tr th:only-of-type {\n",
              "        vertical-align: middle;\n",
              "    }\n",
              "\n",
              "    .dataframe tbody tr th {\n",
              "        vertical-align: top;\n",
              "    }\n",
              "\n",
              "    .dataframe thead th {\n",
              "        text-align: right;\n",
              "    }\n",
              "</style>\n",
              "<table border=\"1\" class=\"dataframe\">\n",
              "  <thead>\n",
              "    <tr style=\"text-align: right;\">\n",
              "      <th></th>\n",
              "      <th>MinTemp</th>\n",
              "      <th>MaxTemp</th>\n",
              "      <th>Rainfall</th>\n",
              "      <th>Evaporation</th>\n",
              "      <th>Sunshine</th>\n",
              "      <th>WindGustSpeed</th>\n",
              "      <th>WindDir3pm</th>\n",
              "      <th>WindSpeed9am</th>\n",
              "      <th>WindSpeed3pm</th>\n",
              "      <th>Humidity9am</th>\n",
              "      <th>Humidity3pm</th>\n",
              "      <th>Pressure9am</th>\n",
              "      <th>Pressure3pm</th>\n",
              "      <th>Cloud9am</th>\n",
              "      <th>Cloud3pm</th>\n",
              "      <th>Temp9am</th>\n",
              "      <th>Temp3pm</th>\n",
              "      <th>RainToday</th>\n",
              "      <th>RainTomorrow</th>\n",
              "    </tr>\n",
              "  </thead>\n",
              "  <tbody>\n",
              "    <tr>\n",
              "      <th>5939</th>\n",
              "      <td>17.9</td>\n",
              "      <td>35.2</td>\n",
              "      <td>0.0</td>\n",
              "      <td>12.0</td>\n",
              "      <td>12.3</td>\n",
              "      <td>48.0</td>\n",
              "      <td>12</td>\n",
              "      <td>6.0</td>\n",
              "      <td>20.0</td>\n",
              "      <td>20.0</td>\n",
              "      <td>13.0</td>\n",
              "      <td>1006.3</td>\n",
              "      <td>1004.4</td>\n",
              "      <td>2.0</td>\n",
              "      <td>5.0</td>\n",
              "      <td>26.6</td>\n",
              "      <td>33.4</td>\n",
              "      <td>0</td>\n",
              "      <td>0</td>\n",
              "    </tr>\n",
              "    <tr>\n",
              "      <th>5940</th>\n",
              "      <td>18.4</td>\n",
              "      <td>28.9</td>\n",
              "      <td>0.0</td>\n",
              "      <td>14.8</td>\n",
              "      <td>13.0</td>\n",
              "      <td>37.0</td>\n",
              "      <td>10</td>\n",
              "      <td>19.0</td>\n",
              "      <td>19.0</td>\n",
              "      <td>30.0</td>\n",
              "      <td>8.0</td>\n",
              "      <td>1012.9</td>\n",
              "      <td>1012.1</td>\n",
              "      <td>1.0</td>\n",
              "      <td>1.0</td>\n",
              "      <td>20.3</td>\n",
              "      <td>27.0</td>\n",
              "      <td>0</td>\n",
              "      <td>0</td>\n",
              "    </tr>\n",
              "    <tr>\n",
              "      <th>5942</th>\n",
              "      <td>19.4</td>\n",
              "      <td>37.6</td>\n",
              "      <td>0.0</td>\n",
              "      <td>10.8</td>\n",
              "      <td>10.6</td>\n",
              "      <td>46.0</td>\n",
              "      <td>6</td>\n",
              "      <td>30.0</td>\n",
              "      <td>15.0</td>\n",
              "      <td>42.0</td>\n",
              "      <td>22.0</td>\n",
              "      <td>1012.3</td>\n",
              "      <td>1009.2</td>\n",
              "      <td>1.0</td>\n",
              "      <td>6.0</td>\n",
              "      <td>28.7</td>\n",
              "      <td>34.9</td>\n",
              "      <td>0</td>\n",
              "      <td>0</td>\n",
              "    </tr>\n",
              "    <tr>\n",
              "      <th>5943</th>\n",
              "      <td>21.9</td>\n",
              "      <td>38.4</td>\n",
              "      <td>0.0</td>\n",
              "      <td>11.4</td>\n",
              "      <td>12.2</td>\n",
              "      <td>31.0</td>\n",
              "      <td>15</td>\n",
              "      <td>6.0</td>\n",
              "      <td>6.0</td>\n",
              "      <td>37.0</td>\n",
              "      <td>22.0</td>\n",
              "      <td>1012.7</td>\n",
              "      <td>1009.1</td>\n",
              "      <td>1.0</td>\n",
              "      <td>5.0</td>\n",
              "      <td>29.1</td>\n",
              "      <td>35.6</td>\n",
              "      <td>0</td>\n",
              "      <td>0</td>\n",
              "    </tr>\n",
              "    <tr>\n",
              "      <th>5944</th>\n",
              "      <td>24.2</td>\n",
              "      <td>41.0</td>\n",
              "      <td>0.0</td>\n",
              "      <td>11.2</td>\n",
              "      <td>8.4</td>\n",
              "      <td>35.0</td>\n",
              "      <td>14</td>\n",
              "      <td>17.0</td>\n",
              "      <td>13.0</td>\n",
              "      <td>19.0</td>\n",
              "      <td>15.0</td>\n",
              "      <td>1010.7</td>\n",
              "      <td>1007.4</td>\n",
              "      <td>1.0</td>\n",
              "      <td>6.0</td>\n",
              "      <td>33.6</td>\n",
              "      <td>37.6</td>\n",
              "      <td>0</td>\n",
              "      <td>0</td>\n",
              "    </tr>\n",
              "    <tr>\n",
              "      <th>...</th>\n",
              "      <td>...</td>\n",
              "      <td>...</td>\n",
              "      <td>...</td>\n",
              "      <td>...</td>\n",
              "      <td>...</td>\n",
              "      <td>...</td>\n",
              "      <td>...</td>\n",
              "      <td>...</td>\n",
              "      <td>...</td>\n",
              "      <td>...</td>\n",
              "      <td>...</td>\n",
              "      <td>...</td>\n",
              "      <td>...</td>\n",
              "      <td>...</td>\n",
              "      <td>...</td>\n",
              "      <td>...</td>\n",
              "      <td>...</td>\n",
              "      <td>...</td>\n",
              "      <td>...</td>\n",
              "    </tr>\n",
              "    <tr>\n",
              "      <th>139108</th>\n",
              "      <td>19.3</td>\n",
              "      <td>33.4</td>\n",
              "      <td>0.0</td>\n",
              "      <td>6.0</td>\n",
              "      <td>11.0</td>\n",
              "      <td>35.0</td>\n",
              "      <td>4</td>\n",
              "      <td>9.0</td>\n",
              "      <td>20.0</td>\n",
              "      <td>63.0</td>\n",
              "      <td>32.0</td>\n",
              "      <td>1013.9</td>\n",
              "      <td>1010.5</td>\n",
              "      <td>0.0</td>\n",
              "      <td>1.0</td>\n",
              "      <td>24.5</td>\n",
              "      <td>32.3</td>\n",
              "      <td>0</td>\n",
              "      <td>0</td>\n",
              "    </tr>\n",
              "    <tr>\n",
              "      <th>139109</th>\n",
              "      <td>21.2</td>\n",
              "      <td>32.6</td>\n",
              "      <td>0.0</td>\n",
              "      <td>7.6</td>\n",
              "      <td>8.6</td>\n",
              "      <td>37.0</td>\n",
              "      <td>9</td>\n",
              "      <td>13.0</td>\n",
              "      <td>11.0</td>\n",
              "      <td>56.0</td>\n",
              "      <td>28.0</td>\n",
              "      <td>1014.6</td>\n",
              "      <td>1011.2</td>\n",
              "      <td>7.0</td>\n",
              "      <td>0.0</td>\n",
              "      <td>24.8</td>\n",
              "      <td>32.0</td>\n",
              "      <td>0</td>\n",
              "      <td>0</td>\n",
              "    </tr>\n",
              "    <tr>\n",
              "      <th>139110</th>\n",
              "      <td>20.7</td>\n",
              "      <td>32.8</td>\n",
              "      <td>0.0</td>\n",
              "      <td>5.6</td>\n",
              "      <td>11.0</td>\n",
              "      <td>33.0</td>\n",
              "      <td>13</td>\n",
              "      <td>17.0</td>\n",
              "      <td>11.0</td>\n",
              "      <td>46.0</td>\n",
              "      <td>23.0</td>\n",
              "      <td>1015.3</td>\n",
              "      <td>1011.8</td>\n",
              "      <td>0.0</td>\n",
              "      <td>0.0</td>\n",
              "      <td>24.8</td>\n",
              "      <td>32.1</td>\n",
              "      <td>0</td>\n",
              "      <td>0</td>\n",
              "    </tr>\n",
              "    <tr>\n",
              "      <th>139111</th>\n",
              "      <td>19.5</td>\n",
              "      <td>31.8</td>\n",
              "      <td>0.0</td>\n",
              "      <td>6.2</td>\n",
              "      <td>10.6</td>\n",
              "      <td>26.0</td>\n",
              "      <td>6</td>\n",
              "      <td>9.0</td>\n",
              "      <td>17.0</td>\n",
              "      <td>62.0</td>\n",
              "      <td>58.0</td>\n",
              "      <td>1014.9</td>\n",
              "      <td>1010.7</td>\n",
              "      <td>1.0</td>\n",
              "      <td>1.0</td>\n",
              "      <td>24.8</td>\n",
              "      <td>29.2</td>\n",
              "      <td>0</td>\n",
              "      <td>0</td>\n",
              "    </tr>\n",
              "    <tr>\n",
              "      <th>139112</th>\n",
              "      <td>20.2</td>\n",
              "      <td>31.7</td>\n",
              "      <td>0.0</td>\n",
              "      <td>5.6</td>\n",
              "      <td>10.7</td>\n",
              "      <td>30.0</td>\n",
              "      <td>6</td>\n",
              "      <td>15.0</td>\n",
              "      <td>7.0</td>\n",
              "      <td>73.0</td>\n",
              "      <td>32.0</td>\n",
              "      <td>1013.9</td>\n",
              "      <td>1009.7</td>\n",
              "      <td>6.0</td>\n",
              "      <td>5.0</td>\n",
              "      <td>25.4</td>\n",
              "      <td>31.0</td>\n",
              "      <td>0</td>\n",
              "      <td>0</td>\n",
              "    </tr>\n",
              "  </tbody>\n",
              "</table>\n",
              "<p>56420 rows × 19 columns</p>\n",
              "</div>"
            ],
            "text/plain": [
              "        MinTemp  MaxTemp  Rainfall  ...  Temp3pm  RainToday  RainTomorrow\n",
              "5939       17.9     35.2       0.0  ...     33.4          0             0\n",
              "5940       18.4     28.9       0.0  ...     27.0          0             0\n",
              "5942       19.4     37.6       0.0  ...     34.9          0             0\n",
              "5943       21.9     38.4       0.0  ...     35.6          0             0\n",
              "5944       24.2     41.0       0.0  ...     37.6          0             0\n",
              "...         ...      ...       ...  ...      ...        ...           ...\n",
              "139108     19.3     33.4       0.0  ...     32.3          0             0\n",
              "139109     21.2     32.6       0.0  ...     32.0          0             0\n",
              "139110     20.7     32.8       0.0  ...     32.1          0             0\n",
              "139111     19.5     31.8       0.0  ...     29.2          0             0\n",
              "139112     20.2     31.7       0.0  ...     31.0          0             0\n",
              "\n",
              "[56420 rows x 19 columns]"
            ]
          },
          "metadata": {
            "tags": []
          },
          "execution_count": 764
        }
      ]
    },
    {
      "cell_type": "code",
      "metadata": {
        "id": "bRXbtKm-5i3w"
      },
      "source": [
        "from sklearn.model_selection import train_test_split \r\n",
        "from sklearn import metrics\r\n",
        "from sklearn.metrics import accuracy_score,confusion_matrix\r\n",
        "\r\n",
        "from sklearn.tree import DecisionTreeClassifier\r\n",
        "from sklearn.naive_bayes import GaussianNB\r\n",
        "from sklearn.neighbors import KNeighborsClassifier\r\n",
        "from sklearn.ensemble import RandomForestClassifier\r\n",
        "from sklearn.linear_model import LogisticRegression\r\n",
        "\r\n",
        "from sklearn.metrics import f1_score\r\n",
        "from sklearn.metrics import roc_auc_score\r\n",
        "from sklearn.metrics import classification_report\r\n",
        "from sklearn import tree"
      ],
      "execution_count": 765,
      "outputs": []
    },
    {
      "cell_type": "code",
      "metadata": {
        "colab": {
          "base_uri": "https://localhost:8080/"
        },
        "id": "b615f4EF4QLN",
        "outputId": "2024e734-d424-471f-cf54-57d253f23ff9"
      },
      "source": [
        "x = df.loc[:,df.columns != 'RainTomorrow'].values\r\n",
        "print(x) \r\n",
        "y = df['RainTomorrow'].values  \r\n",
        "print(y)\r\n",
        "x_train1, x_test1, y_train1,y_test1=train_test_split(x,y,test_size=0.20,random_state=42) "
      ],
      "execution_count": 766,
      "outputs": [
        {
          "output_type": "stream",
          "text": [
            "[[17.9 35.2  0.  ... 26.6 33.4  0. ]\n",
            " [18.4 28.9  0.  ... 20.3 27.   0. ]\n",
            " [19.4 37.6  0.  ... 28.7 34.9  0. ]\n",
            " ...\n",
            " [20.7 32.8  0.  ... 24.8 32.1  0. ]\n",
            " [19.5 31.8  0.  ... 24.8 29.2  0. ]\n",
            " [20.2 31.7  0.  ... 25.4 31.   0. ]]\n",
            "[0 0 0 ... 0 0 0]\n"
          ],
          "name": "stdout"
        }
      ]
    },
    {
      "cell_type": "markdown",
      "metadata": {
        "id": "21Azh6HIQZRQ"
      },
      "source": [
        "***GaussianNB***"
      ]
    },
    {
      "cell_type": "code",
      "metadata": {
        "colab": {
          "base_uri": "https://localhost:8080/"
        },
        "id": "9lY-_Fdc6lBz",
        "outputId": "45293f59-d704-4333-af2a-6b56524bfb19"
      },
      "source": [
        "ans1=GaussianNB()\r\n",
        "ans1.fit(x_train1, y_train1)\r\n",
        "y_pre1= ans1.predict(x_test1)\r\n",
        "print(\"GaussianNB accuracy %:\",accuracy_score(y_test1,y_pre1)*100)\r\n",
        "print(\"GaussianNB roc_auc_score :\",roc_auc_score(y_test1,y_pre1))"
      ],
      "execution_count": 767,
      "outputs": [
        {
          "output_type": "stream",
          "text": [
            "GaussianNB accuracy %: 79.94505494505495\n",
            "GaussianNB roc_auc_score : 0.7553222277179384\n"
          ],
          "name": "stdout"
        }
      ]
    },
    {
      "cell_type": "code",
      "metadata": {
        "colab": {
          "base_uri": "https://localhost:8080/",
          "height": 366
        },
        "id": "xtAMwG98H00F",
        "outputId": "cc1e1a1b-b518-434b-eb31-0963cfc8041c"
      },
      "source": [
        "print(\"THE FIRST TEN PREDICTIONS ARE : \",end=\" \")\r\n",
        "df_1 = pd.DataFrame()\r\n",
        "df_1['ACTUAL'] = y_test1\r\n",
        "df_1['PREDICTED'] = y_pre1\r\n",
        "df_1.head(10)"
      ],
      "execution_count": 768,
      "outputs": [
        {
          "output_type": "stream",
          "text": [
            "THE FIRST TEN PREDICTIONS ARE :  "
          ],
          "name": "stdout"
        },
        {
          "output_type": "execute_result",
          "data": {
            "text/html": [
              "<div>\n",
              "<style scoped>\n",
              "    .dataframe tbody tr th:only-of-type {\n",
              "        vertical-align: middle;\n",
              "    }\n",
              "\n",
              "    .dataframe tbody tr th {\n",
              "        vertical-align: top;\n",
              "    }\n",
              "\n",
              "    .dataframe thead th {\n",
              "        text-align: right;\n",
              "    }\n",
              "</style>\n",
              "<table border=\"1\" class=\"dataframe\">\n",
              "  <thead>\n",
              "    <tr style=\"text-align: right;\">\n",
              "      <th></th>\n",
              "      <th>ACTUAL</th>\n",
              "      <th>PREDICTED</th>\n",
              "    </tr>\n",
              "  </thead>\n",
              "  <tbody>\n",
              "    <tr>\n",
              "      <th>0</th>\n",
              "      <td>1</td>\n",
              "      <td>0</td>\n",
              "    </tr>\n",
              "    <tr>\n",
              "      <th>1</th>\n",
              "      <td>0</td>\n",
              "      <td>0</td>\n",
              "    </tr>\n",
              "    <tr>\n",
              "      <th>2</th>\n",
              "      <td>0</td>\n",
              "      <td>1</td>\n",
              "    </tr>\n",
              "    <tr>\n",
              "      <th>3</th>\n",
              "      <td>0</td>\n",
              "      <td>1</td>\n",
              "    </tr>\n",
              "    <tr>\n",
              "      <th>4</th>\n",
              "      <td>0</td>\n",
              "      <td>0</td>\n",
              "    </tr>\n",
              "    <tr>\n",
              "      <th>5</th>\n",
              "      <td>0</td>\n",
              "      <td>0</td>\n",
              "    </tr>\n",
              "    <tr>\n",
              "      <th>6</th>\n",
              "      <td>1</td>\n",
              "      <td>1</td>\n",
              "    </tr>\n",
              "    <tr>\n",
              "      <th>7</th>\n",
              "      <td>0</td>\n",
              "      <td>0</td>\n",
              "    </tr>\n",
              "    <tr>\n",
              "      <th>8</th>\n",
              "      <td>1</td>\n",
              "      <td>1</td>\n",
              "    </tr>\n",
              "    <tr>\n",
              "      <th>9</th>\n",
              "      <td>0</td>\n",
              "      <td>1</td>\n",
              "    </tr>\n",
              "  </tbody>\n",
              "</table>\n",
              "</div>"
            ],
            "text/plain": [
              "   ACTUAL  PREDICTED\n",
              "0       1          0\n",
              "1       0          0\n",
              "2       0          1\n",
              "3       0          1\n",
              "4       0          0\n",
              "5       0          0\n",
              "6       1          1\n",
              "7       0          0\n",
              "8       1          1\n",
              "9       0          1"
            ]
          },
          "metadata": {
            "tags": []
          },
          "execution_count": 768
        }
      ]
    },
    {
      "cell_type": "code",
      "metadata": {
        "colab": {
          "base_uri": "https://localhost:8080/",
          "height": 370
        },
        "id": "Irvn3RUMIUrc",
        "outputId": "3a9023e3-6fb7-40d6-a0e3-ee94ba02e57e"
      },
      "source": [
        "ax1 = sns.distplot(y_test1, hist=False, color=\"r\", label=\"Actual Value of Pred\")\r\n",
        "sns.distplot(y_pre1, hist=False, color=\"b\", label=\"Fitted Values of Pred\" , ax=ax1)"
      ],
      "execution_count": 769,
      "outputs": [
        {
          "output_type": "stream",
          "text": [
            "/usr/local/lib/python3.6/dist-packages/seaborn/distributions.py:2557: FutureWarning: `distplot` is a deprecated function and will be removed in a future version. Please adapt your code to use either `displot` (a figure-level function with similar flexibility) or `kdeplot` (an axes-level function for kernel density plots).\n",
            "  warnings.warn(msg, FutureWarning)\n",
            "/usr/local/lib/python3.6/dist-packages/seaborn/distributions.py:2557: FutureWarning: `distplot` is a deprecated function and will be removed in a future version. Please adapt your code to use either `displot` (a figure-level function with similar flexibility) or `kdeplot` (an axes-level function for kernel density plots).\n",
            "  warnings.warn(msg, FutureWarning)\n"
          ],
          "name": "stderr"
        },
        {
          "output_type": "execute_result",
          "data": {
            "text/plain": [
              "<matplotlib.axes._subplots.AxesSubplot at 0x7f99e80b80b8>"
            ]
          },
          "metadata": {
            "tags": []
          },
          "execution_count": 769
        },
        {
          "output_type": "display_data",
          "data": {
            "image/png": "[encoded data removed]",
            "text/plain": [
              "<Figure size 432x288 with 1 Axes>"
            ]
          },
          "metadata": {
            "tags": [],
            "needs_background": "light"
          }
        }
      ]
    },
    {
      "cell_type": "code",
      "metadata": {
        "colab": {
          "base_uri": "https://localhost:8080/"
        },
        "id": "wRCucL0V-RyF",
        "outputId": "5f280416-9b58-4db5-9f82-2f687db0e334"
      },
      "source": [
        "print(\"Report : \", classification_report(y_test1, y_pre1))"
      ],
      "execution_count": 770,
      "outputs": [
        {
          "output_type": "stream",
          "text": [
            "Report :                precision    recall  f1-score   support\n",
            "\n",
            "           0       0.90      0.83      0.87      8799\n",
            "           1       0.54      0.68      0.60      2485\n",
            "\n",
            "    accuracy                           0.80     11284\n",
            "   macro avg       0.72      0.76      0.73     11284\n",
            "weighted avg       0.82      0.80      0.81     11284\n",
            "\n"
          ],
          "name": "stdout"
        }
      ]
    },
    {
      "cell_type": "markdown",
      "metadata": {
        "id": "JVu7LwS-VzaX"
      },
      "source": [
        "***LogisticRegression***"
      ]
    },
    {
      "cell_type": "code",
      "metadata": {
        "colab": {
          "base_uri": "https://localhost:8080/"
        },
        "id": "touK8iHyUJUq",
        "outputId": "c5e67a4b-c718-4b4a-c46e-e399076f2295"
      },
      "source": [
        "logreg = LogisticRegression(max_iter=10000)\r\n",
        "logreg.fit(x_train1, y_train1)\r\n",
        "y_pre11= logreg.predict(x_test1)\r\n",
        "print(\"LogisticRegression accuracy %:\",accuracy_score(y_test1,y_pre11)*100)\r\n",
        "print(\"LogisticRegression roc_auc_score :\",roc_auc_score(y_test1,y_pre11))"
      ],
      "execution_count": 748,
      "outputs": [
        {
          "output_type": "stream",
          "text": [
            "LogisticRegression accuracy %: 85.51931939028712\n",
            "LogisticRegression roc_auc_score : 0.7376433621618335\n"
          ],
          "name": "stdout"
        }
      ]
    },
    {
      "cell_type": "code",
      "metadata": {
        "colab": {
          "base_uri": "https://localhost:8080/",
          "height": 366
        },
        "id": "nu2KmViIV6cF",
        "outputId": "d8115a03-0cd0-4c86-9ff9-82e7f230238a"
      },
      "source": [
        "print(\"THE FIRST TEN PREDICTIONS ARE : \",end=\" \")\r\n",
        "df_2 = pd.DataFrame()\r\n",
        "df_2['ACTUAL'] = y_test1\r\n",
        "df_2['PREDICTED'] = y_pre11\r\n",
        "df_2.head(10)"
      ],
      "execution_count": 771,
      "outputs": [
        {
          "output_type": "stream",
          "text": [
            "THE FIRST TEN PREDICTIONS ARE :  "
          ],
          "name": "stdout"
        },
        {
          "output_type": "execute_result",
          "data": {
            "text/html": [
              "<div>\n",
              "<style scoped>\n",
              "    .dataframe tbody tr th:only-of-type {\n",
              "        vertical-align: middle;\n",
              "    }\n",
              "\n",
              "    .dataframe tbody tr th {\n",
              "        vertical-align: top;\n",
              "    }\n",
              "\n",
              "    .dataframe thead th {\n",
              "        text-align: right;\n",
              "    }\n",
              "</style>\n",
              "<table border=\"1\" class=\"dataframe\">\n",
              "  <thead>\n",
              "    <tr style=\"text-align: right;\">\n",
              "      <th></th>\n",
              "      <th>ACTUAL</th>\n",
              "      <th>PREDICTED</th>\n",
              "    </tr>\n",
              "  </thead>\n",
              "  <tbody>\n",
              "    <tr>\n",
              "      <th>0</th>\n",
              "      <td>1</td>\n",
              "      <td>0</td>\n",
              "    </tr>\n",
              "    <tr>\n",
              "      <th>1</th>\n",
              "      <td>0</td>\n",
              "      <td>0</td>\n",
              "    </tr>\n",
              "    <tr>\n",
              "      <th>2</th>\n",
              "      <td>0</td>\n",
              "      <td>0</td>\n",
              "    </tr>\n",
              "    <tr>\n",
              "      <th>3</th>\n",
              "      <td>0</td>\n",
              "      <td>0</td>\n",
              "    </tr>\n",
              "    <tr>\n",
              "      <th>4</th>\n",
              "      <td>0</td>\n",
              "      <td>0</td>\n",
              "    </tr>\n",
              "    <tr>\n",
              "      <th>5</th>\n",
              "      <td>0</td>\n",
              "      <td>0</td>\n",
              "    </tr>\n",
              "    <tr>\n",
              "      <th>6</th>\n",
              "      <td>1</td>\n",
              "      <td>0</td>\n",
              "    </tr>\n",
              "    <tr>\n",
              "      <th>7</th>\n",
              "      <td>0</td>\n",
              "      <td>0</td>\n",
              "    </tr>\n",
              "    <tr>\n",
              "      <th>8</th>\n",
              "      <td>1</td>\n",
              "      <td>0</td>\n",
              "    </tr>\n",
              "    <tr>\n",
              "      <th>9</th>\n",
              "      <td>0</td>\n",
              "      <td>0</td>\n",
              "    </tr>\n",
              "  </tbody>\n",
              "</table>\n",
              "</div>"
            ],
            "text/plain": [
              "   ACTUAL  PREDICTED\n",
              "0       1          0\n",
              "1       0          0\n",
              "2       0          0\n",
              "3       0          0\n",
              "4       0          0\n",
              "5       0          0\n",
              "6       1          0\n",
              "7       0          0\n",
              "8       1          0\n",
              "9       0          0"
            ]
          },
          "metadata": {
            "tags": []
          },
          "execution_count": 771
        }
      ]
    },
    {
      "cell_type": "code",
      "metadata": {
        "colab": {
          "base_uri": "https://localhost:8080/",
          "height": 370
        },
        "id": "k6NdIJDWWNmD",
        "outputId": "6943dbf2-ebbb-4c1d-b786-0901aa747c67"
      },
      "source": [
        "ax1 = sns.distplot(y_test1, hist=False, color=\"r\", label=\"Actual Value of Pred\")\r\n",
        "sns.distplot(y_pre11, hist=False, color=\"b\", label=\"Fitted Values of Pred\" , ax=ax1)"
      ],
      "execution_count": 772,
      "outputs": [
        {
          "output_type": "stream",
          "text": [
            "/usr/local/lib/python3.6/dist-packages/seaborn/distributions.py:2557: FutureWarning: `distplot` is a deprecated function and will be removed in a future version. Please adapt your code to use either `displot` (a figure-level function with similar flexibility) or `kdeplot` (an axes-level function for kernel density plots).\n",
            "  warnings.warn(msg, FutureWarning)\n",
            "/usr/local/lib/python3.6/dist-packages/seaborn/distributions.py:2557: FutureWarning: `distplot` is a deprecated function and will be removed in a future version. Please adapt your code to use either `displot` (a figure-level function with similar flexibility) or `kdeplot` (an axes-level function for kernel density plots).\n",
            "  warnings.warn(msg, FutureWarning)\n"
          ],
          "name": "stderr"
        },
        {
          "output_type": "execute_result",
          "data": {
            "text/plain": [
              "<matplotlib.axes._subplots.AxesSubplot at 0x7f99e8015c18>"
            ]
          },
          "metadata": {
            "tags": []
          },
          "execution_count": 772
        },
        {
          "output_type": "display_data",
          "data": {
            "image/png": "[encoded data removed]",
            "text/plain": [
              "<Figure size 432x288 with 1 Axes>"
            ]
          },
          "metadata": {
            "tags": [],
            "needs_background": "light"
          }
        }
      ]
    },
    {
      "cell_type": "code",
      "metadata": {
        "colab": {
          "base_uri": "https://localhost:8080/"
        },
        "id": "wUn3HrifWVHZ",
        "outputId": "d46e4095-3caa-49c2-b796-1298d4c822ab"
      },
      "source": [
        "print(\"Report : \", classification_report(y_test1, y_pre11))"
      ],
      "execution_count": 773,
      "outputs": [
        {
          "output_type": "stream",
          "text": [
            "Report :                precision    recall  f1-score   support\n",
            "\n",
            "           0       0.88      0.95      0.91      8799\n",
            "           1       0.74      0.53      0.62      2485\n",
            "\n",
            "    accuracy                           0.86     11284\n",
            "   macro avg       0.81      0.74      0.76     11284\n",
            "weighted avg       0.85      0.86      0.85     11284\n",
            "\n"
          ],
          "name": "stdout"
        }
      ]
    },
    {
      "cell_type": "markdown",
      "metadata": {
        "id": "PyXtbUz1Qg_1"
      },
      "source": [
        "**KNeighborsClassifier**"
      ]
    },
    {
      "cell_type": "code",
      "metadata": {
        "colab": {
          "base_uri": "https://localhost:8080/"
        },
        "id": "OGDTVXC13K7R",
        "outputId": "7809dc3c-fd28-4036-86a0-86b0c5ae45bd"
      },
      "source": [
        "ans2=KNeighborsClassifier()\r\n",
        "ans2.fit(x_train1, y_train1)\r\n",
        "y_pre2= ans2.predict(x_test1)\r\n",
        "print(\"KNN accuracy % :\",accuracy_score(y_test1,y_pre2)*100)\r\n",
        "print(\"KNN roc_auc_score :\",roc_auc_score(y_test1,y_pre2))"
      ],
      "execution_count": 774,
      "outputs": [
        {
          "output_type": "stream",
          "text": [
            "KNN accuracy % : 84.02162353775256\n",
            "KNN roc_auc_score : 0.7239972852228727\n"
          ],
          "name": "stdout"
        }
      ]
    },
    {
      "cell_type": "code",
      "metadata": {
        "colab": {
          "base_uri": "https://localhost:8080/",
          "height": 366
        },
        "id": "dZWN8kdDH9Ag",
        "outputId": "a036861e-d2a0-4a5b-b1d2-c4a834ac41a4"
      },
      "source": [
        "print(\"THE FIRST TEN PREDICTIONS ARE : \",end=\" \")\r\n",
        "df_1 = pd.DataFrame()\r\n",
        "df_1['ACTUAL'] = y_test1\r\n",
        "df_1['PREDICTED'] = y_pre2\r\n",
        "df_1.head(10)"
      ],
      "execution_count": 775,
      "outputs": [
        {
          "output_type": "stream",
          "text": [
            "THE FIRST TEN PREDICTIONS ARE :  "
          ],
          "name": "stdout"
        },
        {
          "output_type": "execute_result",
          "data": {
            "text/html": [
              "<div>\n",
              "<style scoped>\n",
              "    .dataframe tbody tr th:only-of-type {\n",
              "        vertical-align: middle;\n",
              "    }\n",
              "\n",
              "    .dataframe tbody tr th {\n",
              "        vertical-align: top;\n",
              "    }\n",
              "\n",
              "    .dataframe thead th {\n",
              "        text-align: right;\n",
              "    }\n",
              "</style>\n",
              "<table border=\"1\" class=\"dataframe\">\n",
              "  <thead>\n",
              "    <tr style=\"text-align: right;\">\n",
              "      <th></th>\n",
              "      <th>ACTUAL</th>\n",
              "      <th>PREDICTED</th>\n",
              "    </tr>\n",
              "  </thead>\n",
              "  <tbody>\n",
              "    <tr>\n",
              "      <th>0</th>\n",
              "      <td>1</td>\n",
              "      <td>0</td>\n",
              "    </tr>\n",
              "    <tr>\n",
              "      <th>1</th>\n",
              "      <td>0</td>\n",
              "      <td>0</td>\n",
              "    </tr>\n",
              "    <tr>\n",
              "      <th>2</th>\n",
              "      <td>0</td>\n",
              "      <td>0</td>\n",
              "    </tr>\n",
              "    <tr>\n",
              "      <th>3</th>\n",
              "      <td>0</td>\n",
              "      <td>0</td>\n",
              "    </tr>\n",
              "    <tr>\n",
              "      <th>4</th>\n",
              "      <td>0</td>\n",
              "      <td>0</td>\n",
              "    </tr>\n",
              "    <tr>\n",
              "      <th>5</th>\n",
              "      <td>0</td>\n",
              "      <td>0</td>\n",
              "    </tr>\n",
              "    <tr>\n",
              "      <th>6</th>\n",
              "      <td>1</td>\n",
              "      <td>1</td>\n",
              "    </tr>\n",
              "    <tr>\n",
              "      <th>7</th>\n",
              "      <td>0</td>\n",
              "      <td>0</td>\n",
              "    </tr>\n",
              "    <tr>\n",
              "      <th>8</th>\n",
              "      <td>1</td>\n",
              "      <td>1</td>\n",
              "    </tr>\n",
              "    <tr>\n",
              "      <th>9</th>\n",
              "      <td>0</td>\n",
              "      <td>0</td>\n",
              "    </tr>\n",
              "  </tbody>\n",
              "</table>\n",
              "</div>"
            ],
            "text/plain": [
              "   ACTUAL  PREDICTED\n",
              "0       1          0\n",
              "1       0          0\n",
              "2       0          0\n",
              "3       0          0\n",
              "4       0          0\n",
              "5       0          0\n",
              "6       1          1\n",
              "7       0          0\n",
              "8       1          1\n",
              "9       0          0"
            ]
          },
          "metadata": {
            "tags": []
          },
          "execution_count": 775
        }
      ]
    },
    {
      "cell_type": "code",
      "metadata": {
        "colab": {
          "base_uri": "https://localhost:8080/",
          "height": 373
        },
        "id": "G261MCf1IRiw",
        "outputId": "7c2818c5-717f-48ae-a105-8bc36cfd523a"
      },
      "source": [
        "ax1 = sns.distplot(y_test1, hist=False, color=\"r\", label=\"Actual Value of Pred\")\r\n",
        "sns.distplot(y_pre2, hist=False, color=\"b\", label=\"Fitted Values of Pred\" , ax=ax1)"
      ],
      "execution_count": 776,
      "outputs": [
        {
          "output_type": "stream",
          "text": [
            "/usr/local/lib/python3.6/dist-packages/seaborn/distributions.py:2557: FutureWarning: `distplot` is a deprecated function and will be removed in a future version. Please adapt your code to use either `displot` (a figure-level function with similar flexibility) or `kdeplot` (an axes-level function for kernel density plots).\n",
            "  warnings.warn(msg, FutureWarning)\n",
            "/usr/local/lib/python3.6/dist-packages/seaborn/distributions.py:2557: FutureWarning: `distplot` is a deprecated function and will be removed in a future version. Please adapt your code to use either `displot` (a figure-level function with similar flexibility) or `kdeplot` (an axes-level function for kernel density plots).\n",
            "  warnings.warn(msg, FutureWarning)\n"
          ],
          "name": "stderr"
        },
        {
          "output_type": "execute_result",
          "data": {
            "text/plain": [
              "<matplotlib.axes._subplots.AxesSubplot at 0x7f99e808b588>"
            ]
          },
          "metadata": {
            "tags": []
          },
          "execution_count": 776
        },
        {
          "output_type": "display_data",
          "data": {
            "image/png": "[encoded data removed]",
            "text/plain": [
              "<Figure size 432x288 with 1 Axes>"
            ]
          },
          "metadata": {
            "tags": [],
            "needs_background": "light"
          }
        }
      ]
    },
    {
      "cell_type": "code",
      "metadata": {
        "colab": {
          "base_uri": "https://localhost:8080/",
          "height": 352
        },
        "id": "b6qf_OYoLT_r",
        "outputId": "934e2dc5-4d68-4c18-c054-1287f486dacb"
      },
      "source": [
        "array2=confusion_matrix(y_test1, y_pre2)\r\n",
        "cm_df = pd.DataFrame(array2,[0,1],[0,1])                      \r\n",
        "plt.figure(figsize=(5,5))   \r\n",
        "plt.title('Confusion Matrix',fontsize=15,color='green')\r\n",
        "sns.heatmap(cm_df, annot=True,fmt='.2f',cmap=\"Spectral\")\r\n",
        "plt.xlabel('Predicted')\r\n",
        "plt.ylabel('True')\r\n",
        "plt.show()"
      ],
      "execution_count": 777,
      "outputs": [
        {
          "output_type": "display_data",
          "data": {
            "image/png": "[encoded data removed]",
            "text/plain": [
              "<Figure size 360x360 with 2 Axes>"
            ]
          },
          "metadata": {
            "tags": [],
            "needs_background": "light"
          }
        }
      ]
    },
    {
      "cell_type": "code",
      "metadata": {
        "colab": {
          "base_uri": "https://localhost:8080/"
        },
        "id": "sI-TsFeN-WGi",
        "outputId": "0406fc40-0779-499b-ca6f-a144bf4e4900"
      },
      "source": [
        "print(\"Report : \", classification_report(y_test1, y_pre2))"
      ],
      "execution_count": 778,
      "outputs": [
        {
          "output_type": "stream",
          "text": [
            "Report :                precision    recall  f1-score   support\n",
            "\n",
            "           0       0.87      0.93      0.90      8799\n",
            "           1       0.68      0.52      0.59      2485\n",
            "\n",
            "    accuracy                           0.84     11284\n",
            "   macro avg       0.78      0.72      0.74     11284\n",
            "weighted avg       0.83      0.84      0.83     11284\n",
            "\n"
          ],
          "name": "stdout"
        }
      ]
    },
    {
      "cell_type": "markdown",
      "metadata": {
        "id": "HEQL4qHdRkNf"
      },
      "source": [
        "***Random Forest Classifier***\r\n"
      ]
    },
    {
      "cell_type": "code",
      "metadata": {
        "colab": {
          "base_uri": "https://localhost:8080/"
        },
        "id": "7OZrk7noPrq4",
        "outputId": "5430a5e9-8884-4586-fa90-bbd7db16da60"
      },
      "source": [
        "ans3=RandomForestClassifier()\r\n",
        "ans3.fit(x_train1, y_train1)\r\n",
        "y_pre3= ans3.predict(x_test1)\r\n",
        "print(\"RANDOM FOREST accuracy % :\",accuracy_score(y_test1,y_pre3)*100)\r\n",
        "print(\"RANDOM FOREST roc_auc_score :\",roc_auc_score(y_test1,y_pre3))"
      ],
      "execution_count": 779,
      "outputs": [
        {
          "output_type": "stream",
          "text": [
            "RANDOM FOREST accuracy % : 86.12194257355547\n",
            "RANDOM FOREST roc_auc_score : 0.742662498459332\n"
          ],
          "name": "stdout"
        }
      ]
    },
    {
      "cell_type": "code",
      "metadata": {
        "colab": {
          "base_uri": "https://localhost:8080/",
          "height": 366
        },
        "id": "JxBf2_YeP6ma",
        "outputId": "790f11c5-f515-42bf-d53f-a6682993996a"
      },
      "source": [
        "print(\"THE FIRST TEN PREDICTIONS ARE : \",end=\" \")\r\n",
        "df_1 = pd.DataFrame()\r\n",
        "df_1['ACTUAL'] = y_test1\r\n",
        "df_1['PREDICTED'] = y_pre3\r\n",
        "df_1.head(10)"
      ],
      "execution_count": 780,
      "outputs": [
        {
          "output_type": "stream",
          "text": [
            "THE FIRST TEN PREDICTIONS ARE :  "
          ],
          "name": "stdout"
        },
        {
          "output_type": "execute_result",
          "data": {
            "text/html": [
              "<div>\n",
              "<style scoped>\n",
              "    .dataframe tbody tr th:only-of-type {\n",
              "        vertical-align: middle;\n",
              "    }\n",
              "\n",
              "    .dataframe tbody tr th {\n",
              "        vertical-align: top;\n",
              "    }\n",
              "\n",
              "    .dataframe thead th {\n",
              "        text-align: right;\n",
              "    }\n",
              "</style>\n",
              "<table border=\"1\" class=\"dataframe\">\n",
              "  <thead>\n",
              "    <tr style=\"text-align: right;\">\n",
              "      <th></th>\n",
              "      <th>ACTUAL</th>\n",
              "      <th>PREDICTED</th>\n",
              "    </tr>\n",
              "  </thead>\n",
              "  <tbody>\n",
              "    <tr>\n",
              "      <th>0</th>\n",
              "      <td>1</td>\n",
              "      <td>0</td>\n",
              "    </tr>\n",
              "    <tr>\n",
              "      <th>1</th>\n",
              "      <td>0</td>\n",
              "      <td>0</td>\n",
              "    </tr>\n",
              "    <tr>\n",
              "      <th>2</th>\n",
              "      <td>0</td>\n",
              "      <td>0</td>\n",
              "    </tr>\n",
              "    <tr>\n",
              "      <th>3</th>\n",
              "      <td>0</td>\n",
              "      <td>0</td>\n",
              "    </tr>\n",
              "    <tr>\n",
              "      <th>4</th>\n",
              "      <td>0</td>\n",
              "      <td>0</td>\n",
              "    </tr>\n",
              "    <tr>\n",
              "      <th>5</th>\n",
              "      <td>0</td>\n",
              "      <td>0</td>\n",
              "    </tr>\n",
              "    <tr>\n",
              "      <th>6</th>\n",
              "      <td>1</td>\n",
              "      <td>1</td>\n",
              "    </tr>\n",
              "    <tr>\n",
              "      <th>7</th>\n",
              "      <td>0</td>\n",
              "      <td>0</td>\n",
              "    </tr>\n",
              "    <tr>\n",
              "      <th>8</th>\n",
              "      <td>1</td>\n",
              "      <td>1</td>\n",
              "    </tr>\n",
              "    <tr>\n",
              "      <th>9</th>\n",
              "      <td>0</td>\n",
              "      <td>0</td>\n",
              "    </tr>\n",
              "  </tbody>\n",
              "</table>\n",
              "</div>"
            ],
            "text/plain": [
              "   ACTUAL  PREDICTED\n",
              "0       1          0\n",
              "1       0          0\n",
              "2       0          0\n",
              "3       0          0\n",
              "4       0          0\n",
              "5       0          0\n",
              "6       1          1\n",
              "7       0          0\n",
              "8       1          1\n",
              "9       0          0"
            ]
          },
          "metadata": {
            "tags": []
          },
          "execution_count": 780
        }
      ]
    },
    {
      "cell_type": "code",
      "metadata": {
        "colab": {
          "base_uri": "https://localhost:8080/",
          "height": 370
        },
        "id": "b4K2ROQ_QEmT",
        "outputId": "f5fc3e37-68f3-431f-ed02-d8e32801322e"
      },
      "source": [
        "ax1 = sns.distplot(y_test1, hist=False, color=\"green\", label=\"Actual Value of Pred\")\r\n",
        "sns.distplot(y_pre3, hist=False, color=\"brown\", label=\"Fitted Values of Pred\" , ax=ax1)"
      ],
      "execution_count": 781,
      "outputs": [
        {
          "output_type": "stream",
          "text": [
            "/usr/local/lib/python3.6/dist-packages/seaborn/distributions.py:2557: FutureWarning: `distplot` is a deprecated function and will be removed in a future version. Please adapt your code to use either `displot` (a figure-level function with similar flexibility) or `kdeplot` (an axes-level function for kernel density plots).\n",
            "  warnings.warn(msg, FutureWarning)\n",
            "/usr/local/lib/python3.6/dist-packages/seaborn/distributions.py:2557: FutureWarning: `distplot` is a deprecated function and will be removed in a future version. Please adapt your code to use either `displot` (a figure-level function with similar flexibility) or `kdeplot` (an axes-level function for kernel density plots).\n",
            "  warnings.warn(msg, FutureWarning)\n"
          ],
          "name": "stderr"
        },
        {
          "output_type": "execute_result",
          "data": {
            "text/plain": [
              "<matplotlib.axes._subplots.AxesSubplot at 0x7f99e7d6fc18>"
            ]
          },
          "metadata": {
            "tags": []
          },
          "execution_count": 781
        },
        {
          "output_type": "display_data",
          "data": {
            "image/png": "[encoded data removed]",
            "text/plain": [
              "<Figure size 432x288 with 1 Axes>"
            ]
          },
          "metadata": {
            "tags": [],
            "needs_background": "light"
          }
        }
      ]
    },
    {
      "cell_type": "markdown",
      "metadata": {
        "id": "Jqgq9dyKROki"
      },
      "source": [
        "***Decision Tree Classifier***"
      ]
    },
    {
      "cell_type": "code",
      "metadata": {
        "colab": {
          "base_uri": "https://localhost:8080/"
        },
        "id": "v_t0fd3m-ozk",
        "outputId": "7b55709d-a122-434f-ba2b-7b506b37ea65"
      },
      "source": [
        "ans4 = DecisionTreeClassifier()\r\n",
        "ans4.fit(x_train1, y_train1)\r\n",
        "y_pre4= ans4.predict(x_test1)\r\n",
        "print(\"decision tree accuracy % :\",accuracy_score(y_test1,y_pre4)*100)\r\n",
        "print(\"decision tree roc_auc_score :\",roc_auc_score(y_test1,y_pre4))"
      ],
      "execution_count": 782,
      "outputs": [
        {
          "output_type": "stream",
          "text": [
            "decision tree accuracy % : 79.64374335342077\n",
            "decision tree roc_auc_score : 0.7051664001511055\n"
          ],
          "name": "stdout"
        }
      ]
    },
    {
      "cell_type": "code",
      "metadata": {
        "colab": {
          "base_uri": "https://localhost:8080/",
          "height": 366
        },
        "id": "n0bnEju_H_dw",
        "outputId": "025f632f-b0d7-49bb-eab2-d7eb25c65cbd"
      },
      "source": [
        "print(\"THE FIRST TEN PREDICTIONS ARE : \",end=\" \")\r\n",
        "df_3 = pd.DataFrame()\r\n",
        "df_3['ACTUAL'] = y_test1\r\n",
        "df_3['PREDICTED'] = y_pre4\r\n",
        "df_3.head(10)"
      ],
      "execution_count": 749,
      "outputs": [
        {
          "output_type": "stream",
          "text": [
            "THE FIRST TEN PREDICTIONS ARE :  "
          ],
          "name": "stdout"
        },
        {
          "output_type": "execute_result",
          "data": {
            "text/html": [
              "<div>\n",
              "<style scoped>\n",
              "    .dataframe tbody tr th:only-of-type {\n",
              "        vertical-align: middle;\n",
              "    }\n",
              "\n",
              "    .dataframe tbody tr th {\n",
              "        vertical-align: top;\n",
              "    }\n",
              "\n",
              "    .dataframe thead th {\n",
              "        text-align: right;\n",
              "    }\n",
              "</style>\n",
              "<table border=\"1\" class=\"dataframe\">\n",
              "  <thead>\n",
              "    <tr style=\"text-align: right;\">\n",
              "      <th></th>\n",
              "      <th>ACTUAL</th>\n",
              "      <th>PREDICTED</th>\n",
              "    </tr>\n",
              "  </thead>\n",
              "  <tbody>\n",
              "    <tr>\n",
              "      <th>0</th>\n",
              "      <td>1</td>\n",
              "      <td>0</td>\n",
              "    </tr>\n",
              "    <tr>\n",
              "      <th>1</th>\n",
              "      <td>0</td>\n",
              "      <td>0</td>\n",
              "    </tr>\n",
              "    <tr>\n",
              "      <th>2</th>\n",
              "      <td>0</td>\n",
              "      <td>0</td>\n",
              "    </tr>\n",
              "    <tr>\n",
              "      <th>3</th>\n",
              "      <td>0</td>\n",
              "      <td>0</td>\n",
              "    </tr>\n",
              "    <tr>\n",
              "      <th>4</th>\n",
              "      <td>0</td>\n",
              "      <td>0</td>\n",
              "    </tr>\n",
              "    <tr>\n",
              "      <th>5</th>\n",
              "      <td>0</td>\n",
              "      <td>0</td>\n",
              "    </tr>\n",
              "    <tr>\n",
              "      <th>6</th>\n",
              "      <td>1</td>\n",
              "      <td>1</td>\n",
              "    </tr>\n",
              "    <tr>\n",
              "      <th>7</th>\n",
              "      <td>0</td>\n",
              "      <td>0</td>\n",
              "    </tr>\n",
              "    <tr>\n",
              "      <th>8</th>\n",
              "      <td>1</td>\n",
              "      <td>1</td>\n",
              "    </tr>\n",
              "    <tr>\n",
              "      <th>9</th>\n",
              "      <td>0</td>\n",
              "      <td>0</td>\n",
              "    </tr>\n",
              "  </tbody>\n",
              "</table>\n",
              "</div>"
            ],
            "text/plain": [
              "   ACTUAL  PREDICTED\n",
              "0       1          0\n",
              "1       0          0\n",
              "2       0          0\n",
              "3       0          0\n",
              "4       0          0\n",
              "5       0          0\n",
              "6       1          1\n",
              "7       0          0\n",
              "8       1          1\n",
              "9       0          0"
            ]
          },
          "metadata": {
            "tags": []
          },
          "execution_count": 749
        }
      ]
    },
    {
      "cell_type": "code",
      "metadata": {
        "colab": {
          "base_uri": "https://localhost:8080/",
          "height": 370
        },
        "id": "s6HWY0EaIKxc",
        "outputId": "23543ab0-4af9-4dfb-fec1-76eae03dc3f2"
      },
      "source": [
        "ax1 = sns.distplot(y_test1, hist=False, color=\"coral\", label=\"Actual Value of Pred\")\r\n",
        "sns.distplot(y_pre4, hist=False, color=\"black\", label=\"Fitted Values of Pred\" , ax=ax1)"
      ],
      "execution_count": 783,
      "outputs": [
        {
          "output_type": "stream",
          "text": [
            "/usr/local/lib/python3.6/dist-packages/seaborn/distributions.py:2557: FutureWarning: `distplot` is a deprecated function and will be removed in a future version. Please adapt your code to use either `displot` (a figure-level function with similar flexibility) or `kdeplot` (an axes-level function for kernel density plots).\n",
            "  warnings.warn(msg, FutureWarning)\n",
            "/usr/local/lib/python3.6/dist-packages/seaborn/distributions.py:2557: FutureWarning: `distplot` is a deprecated function and will be removed in a future version. Please adapt your code to use either `displot` (a figure-level function with similar flexibility) or `kdeplot` (an axes-level function for kernel density plots).\n",
            "  warnings.warn(msg, FutureWarning)\n"
          ],
          "name": "stderr"
        },
        {
          "output_type": "execute_result",
          "data": {
            "text/plain": [
              "<matplotlib.axes._subplots.AxesSubplot at 0x7f99e7debc50>"
            ]
          },
          "metadata": {
            "tags": []
          },
          "execution_count": 783
        },
        {
          "output_type": "display_data",
          "data": {
            "image/png": "[encoded data removed]",
            "text/plain": [
              "<Figure size 432x288 with 1 Axes>"
            ]
          },
          "metadata": {
            "tags": [],
            "needs_background": "light"
          }
        }
      ]
    },
    {
      "cell_type": "code",
      "metadata": {
        "colab": {
          "base_uri": "https://localhost:8080/"
        },
        "id": "JTZfm09P-5zt",
        "outputId": "a12460bf-25ce-4ce9-da75-f84c9553087b"
      },
      "source": [
        "print(\"Report : \", classification_report(y_test1, y_pre4))"
      ],
      "execution_count": 784,
      "outputs": [
        {
          "output_type": "stream",
          "text": [
            "Report :                precision    recall  f1-score   support\n",
            "\n",
            "           0       0.87      0.87      0.87      8799\n",
            "           1       0.54      0.54      0.54      2485\n",
            "\n",
            "    accuracy                           0.80     11284\n",
            "   macro avg       0.70      0.71      0.70     11284\n",
            "weighted avg       0.80      0.80      0.80     11284\n",
            "\n"
          ],
          "name": "stdout"
        }
      ]
    },
    {
      "cell_type": "code",
      "metadata": {
        "colab": {
          "base_uri": "https://localhost:8080/"
        },
        "id": "WB850uc-594T",
        "outputId": "7f95211a-6385-450e-bd90-54e4fd38df72"
      },
      "source": [
        "from sklearn.model_selection import GridSearchCV\r\n",
        "params = {'max_leaf_nodes': list(range(2, 100)), 'min_samples_split': [2, 3, 4]}\r\n",
        "grid_search_cv = GridSearchCV(DecisionTreeClassifier(random_state=42), params, verbose=1, cv=3)\r\n",
        "grid_search_cv.fit(x_train1, y_train1)"
      ],
      "execution_count": 745,
      "outputs": [
        {
          "output_type": "stream",
          "text": [
            "Fitting 3 folds for each of 294 candidates, totalling 882 fits\n"
          ],
          "name": "stdout"
        },
        {
          "output_type": "stream",
          "text": [
            "[Parallel(n_jobs=1)]: Using backend SequentialBackend with 1 concurrent workers.\n",
            "[Parallel(n_jobs=1)]: Done 882 out of 882 | elapsed:  2.5min finished\n"
          ],
          "name": "stderr"
        },
        {
          "output_type": "execute_result",
          "data": {
            "text/plain": [
              "GridSearchCV(cv=3, error_score=nan,\n",
              "             estimator=DecisionTreeClassifier(ccp_alpha=0.0, class_weight=None,\n",
              "                                              criterion='gini', max_depth=None,\n",
              "                                              max_features=None,\n",
              "                                              max_leaf_nodes=None,\n",
              "                                              min_impurity_decrease=0.0,\n",
              "                                              min_impurity_split=None,\n",
              "                                              min_samples_leaf=1,\n",
              "                                              min_samples_split=2,\n",
              "                                              min_weight_fraction_leaf=0.0,\n",
              "                                              presort='deprecated',\n",
              "                                              random_state=42,\n",
              "                                              splitter='best'),\n",
              "             iid='deprecated', n_jobs=None,\n",
              "             param_grid={'max_leaf_nodes': [2, 3, 4, 5, 6, 7, 8, 9, 10, 11, 12,\n",
              "                                            13, 14, 15, 16, 17, 18, 19, 20, 21,\n",
              "                                            22, 23, 24, 25, 26, 27, 28, 29, 30,\n",
              "                                            31, ...],\n",
              "                         'min_samples_split': [2, 3, 4]},\n",
              "             pre_dispatch='2*n_jobs', refit=True, return_train_score=False,\n",
              "             scoring=None, verbose=1)"
            ]
          },
          "metadata": {
            "tags": []
          },
          "execution_count": 745
        }
      ]
    },
    {
      "cell_type": "code",
      "metadata": {
        "id": "_UOJewA09jSV"
      },
      "source": [
        "model=grid_search_cv.best_estimator_"
      ],
      "execution_count": 746,
      "outputs": []
    },
    {
      "cell_type": "code",
      "metadata": {
        "id": "NloIMl459lJm",
        "colab": {
          "base_uri": "https://localhost:8080/",
          "height": 1000
        },
        "outputId": "65f7769c-25b4-45e9-8322-c13b0925a56b"
      },
      "source": [
        "from IPython.display import display\r\n",
        "import graphviz\r\n",
        "display(graphviz.Source(tree.export_graphviz(model)))"
      ],
      "execution_count": 747,
      "outputs": [
        {
          "output_type": "display_data",
          "data": {
            "text/plain": [
              "<graphviz.files.Source at 0x7f99e82027f0>"
            ],
            "image/svg+xml": "<?xml version=\"1.0\" encoding=\"UTF-8\" standalone=\"no\"?>\n<!DOCTYPE svg PUBLIC \"-//W3C//DTD SVG 1.1//EN\"\n \"http://www.w3.org/Graphics/SVG/1.1/DTD/svg11.dtd\">\n<!-- Generated by graphviz version 2.40.1 (20161225.0304)\n -->\n<!-- Title: Tree Pages: 1 -->\n<svg width=\"5219pt\" height=\"893pt\"\n viewBox=\"0.00 0.00 5219.00 893.00\" xmlns=\"http://www.w3.org/2000/svg\" xmlns:xlink=\"http://www.w3.org/1999/xlink\">\n<g id=\"graph0\" class=\"graph\" transform=\"scale(1 1) rotate(0) translate(4 889)\">\n<title>Tree</title>\n<polygon fill=\"#ffffff\" stroke=\"transparent\" points=\"-4,4 -4,-889 5215,-889 5215,4 -4,4\"/>\n<!-- 0 -->\n<g id=\"node1\" class=\"node\">\n<title>0</title>\n<polygon fill=\"none\" stroke=\"#000000\" points=\"3669,-885 3522,-885 3522,-817 3669,-817 3669,-885\"/>\n<text text-anchor=\"middle\" x=\"3595.5\" y=\"-869.8\" font-family=\"Times,serif\" font-size=\"14.00\" fill=\"#000000\">X[10] &lt;= 69.5</text>\n<text text-anchor=\"middle\" x=\"3595.5\" y=\"-854.8\" font-family=\"Times,serif\" font-size=\"14.00\" fill=\"#000000\">gini = 0.343</text>\n<text text-anchor=\"middle\" x=\"3595.5\" y=\"-839.8\" font-family=\"Times,serif\" font-size=\"14.00\" fill=\"#000000\">samples = 45136</text>\n<text text-anchor=\"middle\" x=\"3595.5\" y=\"-824.8\" font-family=\"Times,serif\" font-size=\"14.00\" fill=\"#000000\">value = [35194, 9942]</text>\n</g>\n<!-- 1 -->\n<g id=\"node2\" class=\"node\">\n<title>1</title>\n<polygon fill=\"none\" stroke=\"#000000\" points=\"2819,-781 2672,-781 2672,-713 2819,-713 2819,-781\"/>\n<text text-anchor=\"middle\" x=\"2745.5\" y=\"-765.8\" font-family=\"Times,serif\" font-size=\"14.00\" fill=\"#000000\">X[4] &lt;= 7.75</text>\n<text text-anchor=\"middle\" x=\"2745.5\" y=\"-750.8\" font-family=\"Times,serif\" font-size=\"14.00\" fill=\"#000000\">gini = 0.24</text>\n<text text-anchor=\"middle\" x=\"2745.5\" y=\"-735.8\" font-family=\"Times,serif\" font-size=\"14.00\" fill=\"#000000\">samples = 38033</text>\n<text text-anchor=\"middle\" x=\"2745.5\" y=\"-720.8\" font-family=\"Times,serif\" font-size=\"14.00\" fill=\"#000000\">value = [32717, 5316]</text>\n</g>\n<!-- 0&#45;&gt;1 -->\n<g id=\"edge1\" class=\"edge\">\n<title>0&#45;&gt;1</title>\n<path fill=\"none\" stroke=\"#000000\" d=\"M3521.9248,-841.9979C3364.4066,-822.725 2995.3925,-777.5751 2829.2193,-757.2433\"/>\n<polygon fill=\"#000000\" stroke=\"#000000\" points=\"2829.4034,-753.7398 2819.0523,-755.9993 2828.5532,-760.688 2829.4034,-753.7398\"/>\n<text text-anchor=\"middle\" x=\"2834.4522\" y=\"-771.9931\" font-family=\"Times,serif\" font-size=\"14.00\" fill=\"#000000\">True</text>\n</g>\n<!-- 2 -->\n<g id=\"node73\" class=\"node\">\n<title>2</title>\n<polygon fill=\"none\" stroke=\"#000000\" points=\"4054.5,-781 3914.5,-781 3914.5,-713 4054.5,-713 4054.5,-781\"/>\n<text text-anchor=\"middle\" x=\"3984.5\" y=\"-765.8\" font-family=\"Times,serif\" font-size=\"14.00\" fill=\"#000000\">X[10] &lt;= 81.5</text>\n<text text-anchor=\"middle\" x=\"3984.5\" y=\"-750.8\" font-family=\"Times,serif\" font-size=\"14.00\" fill=\"#000000\">gini = 0.454</text>\n<text text-anchor=\"middle\" x=\"3984.5\" y=\"-735.8\" font-family=\"Times,serif\" font-size=\"14.00\" fill=\"#000000\">samples = 7103</text>\n<text text-anchor=\"middle\" x=\"3984.5\" y=\"-720.8\" font-family=\"Times,serif\" font-size=\"14.00\" fill=\"#000000\">value = [2477, 4626]</text>\n</g>\n<!-- 0&#45;&gt;2 -->\n<g id=\"edge72\" class=\"edge\">\n<title>0&#45;&gt;2</title>\n<path fill=\"none\" stroke=\"#000000\" d=\"M3669.1252,-831.3161C3736.3058,-813.3553 3835.3616,-786.8725 3904.4764,-768.3945\"/>\n<polygon fill=\"#000000\" stroke=\"#000000\" points=\"3905.6924,-771.6924 3914.4491,-765.7283 3903.8844,-764.9299 3905.6924,-771.6924\"/>\n<text text-anchor=\"middle\" x=\"3901.937\" y=\"-783.6719\" font-family=\"Times,serif\" font-size=\"14.00\" fill=\"#000000\">False</text>\n</g>\n<!-- 3 -->\n<g id=\"node3\" class=\"node\">\n<title>3</title>\n<polygon fill=\"none\" stroke=\"#000000\" points=\"1435.5,-677 1295.5,-677 1295.5,-609 1435.5,-609 1435.5,-677\"/>\n<text text-anchor=\"middle\" x=\"1365.5\" y=\"-661.8\" font-family=\"Times,serif\" font-size=\"14.00\" fill=\"#000000\">X[12] &lt;= 1013.85</text>\n<text text-anchor=\"middle\" x=\"1365.5\" y=\"-646.8\" font-family=\"Times,serif\" font-size=\"14.00\" fill=\"#000000\">gini = 0.401</text>\n<text text-anchor=\"middle\" x=\"1365.5\" y=\"-631.8\" font-family=\"Times,serif\" font-size=\"14.00\" fill=\"#000000\">samples = 12869</text>\n<text text-anchor=\"middle\" x=\"1365.5\" y=\"-616.8\" font-family=\"Times,serif\" font-size=\"14.00\" fill=\"#000000\">value = [9301, 3568]</text>\n</g>\n<!-- 1&#45;&gt;3 -->\n<g id=\"edge2\" class=\"edge\">\n<title>1&#45;&gt;3</title>\n<path fill=\"none\" stroke=\"#000000\" d=\"M2671.7931,-741.4453C2434.6112,-723.5707 1692.2695,-667.6261 1445.8792,-649.0576\"/>\n<polygon fill=\"#000000\" stroke=\"#000000\" points=\"1445.8068,-645.5423 1435.5721,-648.2808 1445.2807,-652.5225 1445.8068,-645.5423\"/>\n</g>\n<!-- 4 -->\n<g id=\"node42\" class=\"node\">\n<title>4</title>\n<polygon fill=\"none\" stroke=\"#000000\" points=\"2819,-677 2672,-677 2672,-609 2819,-609 2819,-677\"/>\n<text text-anchor=\"middle\" x=\"2745.5\" y=\"-661.8\" font-family=\"Times,serif\" font-size=\"14.00\" fill=\"#000000\">X[12] &lt;= 1008.55</text>\n<text text-anchor=\"middle\" x=\"2745.5\" y=\"-646.8\" font-family=\"Times,serif\" font-size=\"14.00\" fill=\"#000000\">gini = 0.129</text>\n<text text-anchor=\"middle\" x=\"2745.5\" y=\"-631.8\" font-family=\"Times,serif\" font-size=\"14.00\" fill=\"#000000\">samples = 25164</text>\n<text text-anchor=\"middle\" x=\"2745.5\" y=\"-616.8\" font-family=\"Times,serif\" font-size=\"14.00\" fill=\"#000000\">value = [23416, 1748]</text>\n</g>\n<!-- 1&#45;&gt;4 -->\n<g id=\"edge41\" class=\"edge\">\n<title>1&#45;&gt;4</title>\n<path fill=\"none\" stroke=\"#000000\" d=\"M2745.5,-712.9465C2745.5,-704.776 2745.5,-695.9318 2745.5,-687.3697\"/>\n<polygon fill=\"#000000\" stroke=\"#000000\" points=\"2749.0001,-687.13 2745.5,-677.13 2742.0001,-687.13 2749.0001,-687.13\"/>\n</g>\n<!-- 7 -->\n<g id=\"node4\" class=\"node\">\n<title>7</title>\n<polygon fill=\"none\" stroke=\"#000000\" points=\"847,-573 708,-573 708,-505 847,-505 847,-573\"/>\n<text text-anchor=\"middle\" x=\"777.5\" y=\"-557.8\" font-family=\"Times,serif\" font-size=\"14.00\" fill=\"#000000\">X[5] &lt;= 55.0</text>\n<text text-anchor=\"middle\" x=\"777.5\" y=\"-542.8\" font-family=\"Times,serif\" font-size=\"14.00\" fill=\"#000000\">gini = 0.483</text>\n<text text-anchor=\"middle\" x=\"777.5\" y=\"-527.8\" font-family=\"Times,serif\" font-size=\"14.00\" fill=\"#000000\">samples = 5261</text>\n<text text-anchor=\"middle\" x=\"777.5\" y=\"-512.8\" font-family=\"Times,serif\" font-size=\"14.00\" fill=\"#000000\">value = [3113, 2148]</text>\n</g>\n<!-- 3&#45;&gt;7 -->\n<g id=\"edge3\" class=\"edge\">\n<title>3&#45;&gt;7</title>\n<path fill=\"none\" stroke=\"#000000\" d=\"M1295.4488,-630.61C1185.375,-611.1412 972.5682,-573.5019 856.9471,-553.0519\"/>\n<polygon fill=\"#000000\" stroke=\"#000000\" points=\"857.547,-549.6037 847.0902,-551.3085 856.3277,-556.4967 857.547,-549.6037\"/>\n</g>\n<!-- 8 -->\n<g id=\"node23\" class=\"node\">\n<title>8</title>\n<polygon fill=\"none\" stroke=\"#000000\" points=\"1435.5,-573 1295.5,-573 1295.5,-505 1435.5,-505 1435.5,-573\"/>\n<text text-anchor=\"middle\" x=\"1365.5\" y=\"-557.8\" font-family=\"Times,serif\" font-size=\"14.00\" fill=\"#000000\">X[5] &lt;= 43.5</text>\n<text text-anchor=\"middle\" x=\"1365.5\" y=\"-542.8\" font-family=\"Times,serif\" font-size=\"14.00\" fill=\"#000000\">gini = 0.304</text>\n<text text-anchor=\"middle\" x=\"1365.5\" y=\"-527.8\" font-family=\"Times,serif\" font-size=\"14.00\" fill=\"#000000\">samples = 7608</text>\n<text text-anchor=\"middle\" x=\"1365.5\" y=\"-512.8\" font-family=\"Times,serif\" font-size=\"14.00\" fill=\"#000000\">value = [6188, 1420]</text>\n</g>\n<!-- 3&#45;&gt;8 -->\n<g id=\"edge22\" class=\"edge\">\n<title>3&#45;&gt;8</title>\n<path fill=\"none\" stroke=\"#000000\" d=\"M1365.5,-608.9465C1365.5,-600.776 1365.5,-591.9318 1365.5,-583.3697\"/>\n<polygon fill=\"#000000\" stroke=\"#000000\" points=\"1369.0001,-583.13 1365.5,-573.13 1362.0001,-583.13 1369.0001,-583.13\"/>\n</g>\n<!-- 11 -->\n<g id=\"node5\" class=\"node\">\n<title>11</title>\n<polygon fill=\"none\" stroke=\"#000000\" points=\"489.5,-469 349.5,-469 349.5,-401 489.5,-401 489.5,-469\"/>\n<text text-anchor=\"middle\" x=\"419.5\" y=\"-453.8\" font-family=\"Times,serif\" font-size=\"14.00\" fill=\"#000000\">X[10] &lt;= 57.5</text>\n<text text-anchor=\"middle\" x=\"419.5\" y=\"-438.8\" font-family=\"Times,serif\" font-size=\"14.00\" fill=\"#000000\">gini = 0.451</text>\n<text text-anchor=\"middle\" x=\"419.5\" y=\"-423.8\" font-family=\"Times,serif\" font-size=\"14.00\" fill=\"#000000\">samples = 3614</text>\n<text text-anchor=\"middle\" x=\"419.5\" y=\"-408.8\" font-family=\"Times,serif\" font-size=\"14.00\" fill=\"#000000\">value = [2371, 1243]</text>\n</g>\n<!-- 7&#45;&gt;11 -->\n<g id=\"edge4\" class=\"edge\">\n<title>7&#45;&gt;11</title>\n<path fill=\"none\" stroke=\"#000000\" d=\"M707.6241,-518.7009C647.8435,-501.3344 561.8043,-476.3398 499.3228,-458.1887\"/>\n<polygon fill=\"#000000\" stroke=\"#000000\" points=\"500.0842,-454.7653 489.5048,-455.3366 498.1314,-461.4874 500.0842,-454.7653\"/>\n</g>\n<!-- 12 -->\n<g id=\"node16\" class=\"node\">\n<title>12</title>\n<polygon fill=\"none\" stroke=\"#000000\" points=\"840,-469 715,-469 715,-401 840,-401 840,-469\"/>\n<text text-anchor=\"middle\" x=\"777.5\" y=\"-453.8\" font-family=\"Times,serif\" font-size=\"14.00\" fill=\"#000000\">X[10] &lt;= 53.5</text>\n<text text-anchor=\"middle\" x=\"777.5\" y=\"-438.8\" font-family=\"Times,serif\" font-size=\"14.00\" fill=\"#000000\">gini = 0.495</text>\n<text text-anchor=\"middle\" x=\"777.5\" y=\"-423.8\" font-family=\"Times,serif\" font-size=\"14.00\" fill=\"#000000\">samples = 1647</text>\n<text text-anchor=\"middle\" x=\"777.5\" y=\"-408.8\" font-family=\"Times,serif\" font-size=\"14.00\" fill=\"#000000\">value = [742, 905]</text>\n</g>\n<!-- 7&#45;&gt;12 -->\n<g id=\"edge15\" class=\"edge\">\n<title>7&#45;&gt;12</title>\n<path fill=\"none\" stroke=\"#000000\" d=\"M777.5,-504.9465C777.5,-496.776 777.5,-487.9318 777.5,-479.3697\"/>\n<polygon fill=\"#000000\" stroke=\"#000000\" points=\"781.0001,-479.13 777.5,-469.13 774.0001,-479.13 781.0001,-479.13\"/>\n</g>\n<!-- 23 -->\n<g id=\"node6\" class=\"node\">\n<title>23</title>\n<polygon fill=\"none\" stroke=\"#000000\" points=\"267.5,-365 135.5,-365 135.5,-297 267.5,-297 267.5,-365\"/>\n<text text-anchor=\"middle\" x=\"201.5\" y=\"-349.8\" font-family=\"Times,serif\" font-size=\"14.00\" fill=\"#000000\">X[10] &lt;= 27.5</text>\n<text text-anchor=\"middle\" x=\"201.5\" y=\"-334.8\" font-family=\"Times,serif\" font-size=\"14.00\" fill=\"#000000\">gini = 0.396</text>\n<text text-anchor=\"middle\" x=\"201.5\" y=\"-319.8\" font-family=\"Times,serif\" font-size=\"14.00\" fill=\"#000000\">samples = 2022</text>\n<text text-anchor=\"middle\" x=\"201.5\" y=\"-304.8\" font-family=\"Times,serif\" font-size=\"14.00\" fill=\"#000000\">value = [1471, 551]</text>\n</g>\n<!-- 11&#45;&gt;23 -->\n<g id=\"edge5\" class=\"edge\">\n<title>11&#45;&gt;23</title>\n<path fill=\"none\" stroke=\"#000000\" d=\"M349.3235,-401.5213C326.248,-390.5128 300.5022,-378.2304 277.0454,-367.04\"/>\n<polygon fill=\"#000000\" stroke=\"#000000\" points=\"278.3694,-363.7938 267.8368,-362.6469 275.3553,-370.1117 278.3694,-363.7938\"/>\n</g>\n<!-- 24 -->\n<g id=\"node13\" class=\"node\">\n<title>24</title>\n<polygon fill=\"none\" stroke=\"#000000\" points=\"482,-365 357,-365 357,-297 482,-297 482,-365\"/>\n<text text-anchor=\"middle\" x=\"419.5\" y=\"-349.8\" font-family=\"Times,serif\" font-size=\"14.00\" fill=\"#000000\">X[2] &lt;= 0.1</text>\n<text text-anchor=\"middle\" x=\"419.5\" y=\"-334.8\" font-family=\"Times,serif\" font-size=\"14.00\" fill=\"#000000\">gini = 0.491</text>\n<text text-anchor=\"middle\" x=\"419.5\" y=\"-319.8\" font-family=\"Times,serif\" font-size=\"14.00\" fill=\"#000000\">samples = 1592</text>\n<text text-anchor=\"middle\" x=\"419.5\" y=\"-304.8\" font-family=\"Times,serif\" font-size=\"14.00\" fill=\"#000000\">value = [900, 692]</text>\n</g>\n<!-- 11&#45;&gt;24 -->\n<g id=\"edge12\" class=\"edge\">\n<title>11&#45;&gt;24</title>\n<path fill=\"none\" stroke=\"#000000\" d=\"M419.5,-400.9465C419.5,-392.776 419.5,-383.9318 419.5,-375.3697\"/>\n<polygon fill=\"#000000\" stroke=\"#000000\" points=\"423.0001,-375.13 419.5,-365.13 416.0001,-375.13 423.0001,-375.13\"/>\n</g>\n<!-- 47 -->\n<g id=\"node7\" class=\"node\">\n<title>47</title>\n<polygon fill=\"none\" stroke=\"#000000\" points=\"117,-253.5 0,-253.5 0,-200.5 117,-200.5 117,-253.5\"/>\n<text text-anchor=\"middle\" x=\"58.5\" y=\"-238.3\" font-family=\"Times,serif\" font-size=\"14.00\" fill=\"#000000\">gini = 0.153</text>\n<text text-anchor=\"middle\" x=\"58.5\" y=\"-223.3\" font-family=\"Times,serif\" font-size=\"14.00\" fill=\"#000000\">samples = 251</text>\n<text text-anchor=\"middle\" x=\"58.5\" y=\"-208.3\" font-family=\"Times,serif\" font-size=\"14.00\" fill=\"#000000\">value = [230, 21]</text>\n</g>\n<!-- 23&#45;&gt;47 -->\n<g id=\"edge6\" class=\"edge\">\n<title>23&#45;&gt;47</title>\n<path fill=\"none\" stroke=\"#000000\" d=\"M154.6765,-296.9465C138.1679,-284.9403 119.6588,-271.4791 103.3198,-259.5962\"/>\n<polygon fill=\"#000000\" stroke=\"#000000\" points=\"105.1415,-256.5933 94.9955,-253.5422 101.0242,-262.2545 105.1415,-256.5933\"/>\n</g>\n<!-- 48 -->\n<g id=\"node8\" class=\"node\">\n<title>48</title>\n<polygon fill=\"none\" stroke=\"#000000\" points=\"267.5,-261 135.5,-261 135.5,-193 267.5,-193 267.5,-261\"/>\n<text text-anchor=\"middle\" x=\"201.5\" y=\"-245.8\" font-family=\"Times,serif\" font-size=\"14.00\" fill=\"#000000\">X[12] &lt;= 1007.65</text>\n<text text-anchor=\"middle\" x=\"201.5\" y=\"-230.8\" font-family=\"Times,serif\" font-size=\"14.00\" fill=\"#000000\">gini = 0.419</text>\n<text text-anchor=\"middle\" x=\"201.5\" y=\"-215.8\" font-family=\"Times,serif\" font-size=\"14.00\" fill=\"#000000\">samples = 1771</text>\n<text text-anchor=\"middle\" x=\"201.5\" y=\"-200.8\" font-family=\"Times,serif\" font-size=\"14.00\" fill=\"#000000\">value = [1241, 530]</text>\n</g>\n<!-- 23&#45;&gt;48 -->\n<g id=\"edge7\" class=\"edge\">\n<title>23&#45;&gt;48</title>\n<path fill=\"none\" stroke=\"#000000\" d=\"M201.5,-296.9465C201.5,-288.776 201.5,-279.9318 201.5,-271.3697\"/>\n<polygon fill=\"#000000\" stroke=\"#000000\" points=\"205.0001,-271.13 201.5,-261.13 198.0001,-271.13 205.0001,-271.13\"/>\n</g>\n<!-- 61 -->\n<g id=\"node9\" class=\"node\">\n<title>61</title>\n<polygon fill=\"none\" stroke=\"#000000\" points=\"193,-149.5 68,-149.5 68,-96.5 193,-96.5 193,-149.5\"/>\n<text text-anchor=\"middle\" x=\"130.5\" y=\"-134.3\" font-family=\"Times,serif\" font-size=\"14.00\" fill=\"#000000\">gini = 0.486</text>\n<text text-anchor=\"middle\" x=\"130.5\" y=\"-119.3\" font-family=\"Times,serif\" font-size=\"14.00\" fill=\"#000000\">samples = 447</text>\n<text text-anchor=\"middle\" x=\"130.5\" y=\"-104.3\" font-family=\"Times,serif\" font-size=\"14.00\" fill=\"#000000\">value = [261, 186]</text>\n</g>\n<!-- 48&#45;&gt;61 -->\n<g id=\"edge8\" class=\"edge\">\n<title>48&#45;&gt;61</title>\n<path fill=\"none\" stroke=\"#000000\" d=\"M178.2519,-192.9465C170.5818,-181.7113 162.0418,-169.2021 154.3289,-157.9043\"/>\n<polygon fill=\"#000000\" stroke=\"#000000\" points=\"157.1491,-155.8277 148.6201,-149.5422 151.3678,-159.7745 157.1491,-155.8277\"/>\n</g>\n<!-- 62 -->\n<g id=\"node10\" class=\"node\">\n<title>62</title>\n<polygon fill=\"none\" stroke=\"#000000\" points=\"336,-157 211,-157 211,-89 336,-89 336,-157\"/>\n<text text-anchor=\"middle\" x=\"273.5\" y=\"-141.8\" font-family=\"Times,serif\" font-size=\"14.00\" fill=\"#000000\">X[4] &lt;= 1.95</text>\n<text text-anchor=\"middle\" x=\"273.5\" y=\"-126.8\" font-family=\"Times,serif\" font-size=\"14.00\" fill=\"#000000\">gini = 0.385</text>\n<text text-anchor=\"middle\" x=\"273.5\" y=\"-111.8\" font-family=\"Times,serif\" font-size=\"14.00\" fill=\"#000000\">samples = 1324</text>\n<text text-anchor=\"middle\" x=\"273.5\" y=\"-96.8\" font-family=\"Times,serif\" font-size=\"14.00\" fill=\"#000000\">value = [980, 344]</text>\n</g>\n<!-- 48&#45;&gt;62 -->\n<g id=\"edge9\" class=\"edge\">\n<title>48&#45;&gt;62</title>\n<path fill=\"none\" stroke=\"#000000\" d=\"M225.0755,-192.9465C231.1671,-184.1475 237.7996,-174.5672 244.1466,-165.3993\"/>\n<polygon fill=\"#000000\" stroke=\"#000000\" points=\"247.0571,-167.3442 249.8715,-157.13 241.3017,-163.3597 247.0571,-167.3442\"/>\n</g>\n<!-- 93 -->\n<g id=\"node11\" class=\"node\">\n<title>93</title>\n<polygon fill=\"none\" stroke=\"#000000\" points=\"262.5,-53 146.5,-53 146.5,0 262.5,0 262.5,-53\"/>\n<text text-anchor=\"middle\" x=\"204.5\" y=\"-37.8\" font-family=\"Times,serif\" font-size=\"14.00\" fill=\"#000000\">gini = 0.484</text>\n<text text-anchor=\"middle\" x=\"204.5\" y=\"-22.8\" font-family=\"Times,serif\" font-size=\"14.00\" fill=\"#000000\">samples = 195</text>\n<text text-anchor=\"middle\" x=\"204.5\" y=\"-7.8\" font-family=\"Times,serif\" font-size=\"14.00\" fill=\"#000000\">value = [115, 80]</text>\n</g>\n<!-- 62&#45;&gt;93 -->\n<g id=\"edge10\" class=\"edge\">\n<title>62&#45;&gt;93</title>\n<path fill=\"none\" stroke=\"#000000\" d=\"M249.1732,-88.9777C242.8221,-80.0954 235.966,-70.5067 229.5768,-61.5711\"/>\n<polygon fill=\"#000000\" stroke=\"#000000\" points=\"232.2893,-59.3472 223.6259,-53.2485 226.5952,-63.4187 232.2893,-59.3472\"/>\n</g>\n<!-- 94 -->\n<g id=\"node12\" class=\"node\">\n<title>94</title>\n<polygon fill=\"none\" stroke=\"#000000\" points=\"406,-53 281,-53 281,0 406,0 406,-53\"/>\n<text text-anchor=\"middle\" x=\"343.5\" y=\"-37.8\" font-family=\"Times,serif\" font-size=\"14.00\" fill=\"#000000\">gini = 0.358</text>\n<text text-anchor=\"middle\" x=\"343.5\" y=\"-22.8\" font-family=\"Times,serif\" font-size=\"14.00\" fill=\"#000000\">samples = 1129</text>\n<text text-anchor=\"middle\" x=\"343.5\" y=\"-7.8\" font-family=\"Times,serif\" font-size=\"14.00\" fill=\"#000000\">value = [865, 264]</text>\n</g>\n<!-- 62&#45;&gt;94 -->\n<g id=\"edge11\" class=\"edge\">\n<title>62&#45;&gt;94</title>\n<path fill=\"none\" stroke=\"#000000\" d=\"M298.1794,-88.9777C304.6225,-80.0954 311.578,-70.5067 318.0598,-61.5711\"/>\n<polygon fill=\"#000000\" stroke=\"#000000\" points=\"321.0583,-63.3982 324.097,-53.2485 315.3921,-59.288 321.0583,-63.3982\"/>\n</g>\n<!-- 59 -->\n<g id=\"node14\" class=\"node\">\n<title>59</title>\n<polygon fill=\"none\" stroke=\"#000000\" points=\"411,-253.5 286,-253.5 286,-200.5 411,-200.5 411,-253.5\"/>\n<text text-anchor=\"middle\" x=\"348.5\" y=\"-238.3\" font-family=\"Times,serif\" font-size=\"14.00\" fill=\"#000000\">gini = 0.453</text>\n<text text-anchor=\"middle\" x=\"348.5\" y=\"-223.3\" font-family=\"Times,serif\" font-size=\"14.00\" fill=\"#000000\">samples = 636</text>\n<text text-anchor=\"middle\" x=\"348.5\" y=\"-208.3\" font-family=\"Times,serif\" font-size=\"14.00\" fill=\"#000000\">value = [416, 220]</text>\n</g>\n<!-- 24&#45;&gt;59 -->\n<g id=\"edge13\" class=\"edge\">\n<title>24&#45;&gt;59</title>\n<path fill=\"none\" stroke=\"#000000\" d=\"M396.2519,-296.9465C388.5818,-285.7113 380.0418,-273.2021 372.3289,-261.9043\"/>\n<polygon fill=\"#000000\" stroke=\"#000000\" points=\"375.1491,-259.8277 366.6201,-253.5422 369.3678,-263.7745 375.1491,-259.8277\"/>\n</g>\n<!-- 60 -->\n<g id=\"node15\" class=\"node\">\n<title>60</title>\n<polygon fill=\"none\" stroke=\"#000000\" points=\"554,-253.5 429,-253.5 429,-200.5 554,-200.5 554,-253.5\"/>\n<text text-anchor=\"middle\" x=\"491.5\" y=\"-238.3\" font-family=\"Times,serif\" font-size=\"14.00\" fill=\"#000000\">gini = 0.5</text>\n<text text-anchor=\"middle\" x=\"491.5\" y=\"-223.3\" font-family=\"Times,serif\" font-size=\"14.00\" fill=\"#000000\">samples = 956</text>\n<text text-anchor=\"middle\" x=\"491.5\" y=\"-208.3\" font-family=\"Times,serif\" font-size=\"14.00\" fill=\"#000000\">value = [484, 472]</text>\n</g>\n<!-- 24&#45;&gt;60 -->\n<g id=\"edge14\" class=\"edge\">\n<title>24&#45;&gt;60</title>\n<path fill=\"none\" stroke=\"#000000\" d=\"M443.0755,-296.9465C450.8537,-285.7113 459.5139,-273.2021 467.3355,-261.9043\"/>\n<polygon fill=\"#000000\" stroke=\"#000000\" points=\"470.3102,-263.7564 473.1247,-253.5422 464.5548,-259.7719 470.3102,-263.7564\"/>\n</g>\n<!-- 19 -->\n<g id=\"node17\" class=\"node\">\n<title>19</title>\n<polygon fill=\"none\" stroke=\"#000000\" points=\"768,-365 643,-365 643,-297 768,-297 768,-365\"/>\n<text text-anchor=\"middle\" x=\"705.5\" y=\"-349.8\" font-family=\"Times,serif\" font-size=\"14.00\" fill=\"#000000\">X[12] &lt;= 1007.55</text>\n<text text-anchor=\"middle\" x=\"705.5\" y=\"-334.8\" font-family=\"Times,serif\" font-size=\"14.00\" fill=\"#000000\">gini = 0.493</text>\n<text text-anchor=\"middle\" x=\"705.5\" y=\"-319.8\" font-family=\"Times,serif\" font-size=\"14.00\" fill=\"#000000\">samples = 960</text>\n<text text-anchor=\"middle\" x=\"705.5\" y=\"-304.8\" font-family=\"Times,serif\" font-size=\"14.00\" fill=\"#000000\">value = [538, 422]</text>\n</g>\n<!-- 12&#45;&gt;19 -->\n<g id=\"edge16\" class=\"edge\">\n<title>12&#45;&gt;19</title>\n<path fill=\"none\" stroke=\"#000000\" d=\"M753.9245,-400.9465C747.8329,-392.1475 741.2004,-382.5672 734.8534,-373.3993\"/>\n<polygon fill=\"#000000\" stroke=\"#000000\" points=\"737.6983,-371.3597 729.1285,-365.13 731.9429,-375.3442 737.6983,-371.3597\"/>\n</g>\n<!-- 20 -->\n<g id=\"node22\" class=\"node\">\n<title>20</title>\n<polygon fill=\"none\" stroke=\"#000000\" points=\"911,-357.5 786,-357.5 786,-304.5 911,-304.5 911,-357.5\"/>\n<text text-anchor=\"middle\" x=\"848.5\" y=\"-342.3\" font-family=\"Times,serif\" font-size=\"14.00\" fill=\"#000000\">gini = 0.418</text>\n<text text-anchor=\"middle\" x=\"848.5\" y=\"-327.3\" font-family=\"Times,serif\" font-size=\"14.00\" fill=\"#000000\">samples = 687</text>\n<text text-anchor=\"middle\" x=\"848.5\" y=\"-312.3\" font-family=\"Times,serif\" font-size=\"14.00\" fill=\"#000000\">value = [204, 483]</text>\n</g>\n<!-- 12&#45;&gt;20 -->\n<g id=\"edge21\" class=\"edge\">\n<title>12&#45;&gt;20</title>\n<path fill=\"none\" stroke=\"#000000\" d=\"M800.7481,-400.9465C808.4182,-389.7113 816.9582,-377.2021 824.6711,-365.9043\"/>\n<polygon fill=\"#000000\" stroke=\"#000000\" points=\"827.6322,-367.7745 830.3799,-357.5422 821.8509,-363.8277 827.6322,-367.7745\"/>\n</g>\n<!-- 53 -->\n<g id=\"node18\" class=\"node\">\n<title>53</title>\n<polygon fill=\"none\" stroke=\"#000000\" points=\"697,-261 572,-261 572,-193 697,-193 697,-261\"/>\n<text text-anchor=\"middle\" x=\"634.5\" y=\"-245.8\" font-family=\"Times,serif\" font-size=\"14.00\" fill=\"#000000\">X[10] &lt;= 28.5</text>\n<text text-anchor=\"middle\" x=\"634.5\" y=\"-230.8\" font-family=\"Times,serif\" font-size=\"14.00\" fill=\"#000000\">gini = 0.499</text>\n<text text-anchor=\"middle\" x=\"634.5\" y=\"-215.8\" font-family=\"Times,serif\" font-size=\"14.00\" fill=\"#000000\">samples = 564</text>\n<text text-anchor=\"middle\" x=\"634.5\" y=\"-200.8\" font-family=\"Times,serif\" font-size=\"14.00\" fill=\"#000000\">value = [269, 295]</text>\n</g>\n<!-- 19&#45;&gt;53 -->\n<g id=\"edge17\" class=\"edge\">\n<title>19&#45;&gt;53</title>\n<path fill=\"none\" stroke=\"#000000\" d=\"M682.2519,-296.9465C676.245,-288.1475 669.7045,-278.5672 663.4457,-269.3993\"/>\n<polygon fill=\"#000000\" stroke=\"#000000\" points=\"666.3293,-267.4155 657.8003,-261.13 660.548,-271.3623 666.3293,-267.4155\"/>\n</g>\n<!-- 54 -->\n<g id=\"node21\" class=\"node\">\n<title>54</title>\n<polygon fill=\"none\" stroke=\"#000000\" points=\"840,-253.5 715,-253.5 715,-200.5 840,-200.5 840,-253.5\"/>\n<text text-anchor=\"middle\" x=\"777.5\" y=\"-238.3\" font-family=\"Times,serif\" font-size=\"14.00\" fill=\"#000000\">gini = 0.436</text>\n<text text-anchor=\"middle\" x=\"777.5\" y=\"-223.3\" font-family=\"Times,serif\" font-size=\"14.00\" fill=\"#000000\">samples = 396</text>\n<text text-anchor=\"middle\" x=\"777.5\" y=\"-208.3\" font-family=\"Times,serif\" font-size=\"14.00\" fill=\"#000000\">value = [269, 127]</text>\n</g>\n<!-- 19&#45;&gt;54 -->\n<g id=\"edge20\" class=\"edge\">\n<title>19&#45;&gt;54</title>\n<path fill=\"none\" stroke=\"#000000\" d=\"M729.0755,-296.9465C736.8537,-285.7113 745.5139,-273.2021 753.3355,-261.9043\"/>\n<polygon fill=\"#000000\" stroke=\"#000000\" points=\"756.3102,-263.7564 759.1247,-253.5422 750.5548,-259.7719 756.3102,-263.7564\"/>\n</g>\n<!-- 73 -->\n<g id=\"node19\" class=\"node\">\n<title>73</title>\n<polygon fill=\"none\" stroke=\"#000000\" points=\"623,-149.5 506,-149.5 506,-96.5 623,-96.5 623,-149.5\"/>\n<text text-anchor=\"middle\" x=\"564.5\" y=\"-134.3\" font-family=\"Times,serif\" font-size=\"14.00\" fill=\"#000000\">gini = 0.453</text>\n<text text-anchor=\"middle\" x=\"564.5\" y=\"-119.3\" font-family=\"Times,serif\" font-size=\"14.00\" fill=\"#000000\">samples = 153</text>\n<text text-anchor=\"middle\" x=\"564.5\" y=\"-104.3\" font-family=\"Times,serif\" font-size=\"14.00\" fill=\"#000000\">value = [100, 53]</text>\n</g>\n<!-- 53&#45;&gt;73 -->\n<g id=\"edge18\" class=\"edge\">\n<title>53&#45;&gt;73</title>\n<path fill=\"none\" stroke=\"#000000\" d=\"M611.5794,-192.9465C604.0172,-181.7113 595.5976,-169.2021 587.9933,-157.9043\"/>\n<polygon fill=\"#000000\" stroke=\"#000000\" points=\"590.8523,-155.8837 582.3649,-149.5422 585.0452,-159.7924 590.8523,-155.8837\"/>\n</g>\n<!-- 74 -->\n<g id=\"node20\" class=\"node\">\n<title>74</title>\n<polygon fill=\"none\" stroke=\"#000000\" points=\"766,-149.5 641,-149.5 641,-96.5 766,-96.5 766,-149.5\"/>\n<text text-anchor=\"middle\" x=\"703.5\" y=\"-134.3\" font-family=\"Times,serif\" font-size=\"14.00\" fill=\"#000000\">gini = 0.484</text>\n<text text-anchor=\"middle\" x=\"703.5\" y=\"-119.3\" font-family=\"Times,serif\" font-size=\"14.00\" fill=\"#000000\">samples = 411</text>\n<text text-anchor=\"middle\" x=\"703.5\" y=\"-104.3\" font-family=\"Times,serif\" font-size=\"14.00\" fill=\"#000000\">value = [169, 242]</text>\n</g>\n<!-- 53&#45;&gt;74 -->\n<g id=\"edge19\" class=\"edge\">\n<title>53&#45;&gt;74</title>\n<path fill=\"none\" stroke=\"#000000\" d=\"M657.0932,-192.9465C664.5473,-181.7113 672.8467,-169.2021 680.3423,-157.9043\"/>\n<polygon fill=\"#000000\" stroke=\"#000000\" points=\"683.2782,-159.81 685.8903,-149.5422 677.4453,-155.94 683.2782,-159.81\"/>\n</g>\n<!-- 17 -->\n<g id=\"node24\" class=\"node\">\n<title>17</title>\n<polygon fill=\"none\" stroke=\"#000000\" points=\"1357.5,-469 1225.5,-469 1225.5,-401 1357.5,-401 1357.5,-469\"/>\n<text text-anchor=\"middle\" x=\"1291.5\" y=\"-453.8\" font-family=\"Times,serif\" font-size=\"14.00\" fill=\"#000000\">X[10] &lt;= 55.5</text>\n<text text-anchor=\"middle\" x=\"1291.5\" y=\"-438.8\" font-family=\"Times,serif\" font-size=\"14.00\" fill=\"#000000\">gini = 0.255</text>\n<text text-anchor=\"middle\" x=\"1291.5\" y=\"-423.8\" font-family=\"Times,serif\" font-size=\"14.00\" fill=\"#000000\">samples = 5596</text>\n<text text-anchor=\"middle\" x=\"1291.5\" y=\"-408.8\" font-family=\"Times,serif\" font-size=\"14.00\" fill=\"#000000\">value = [4757, 839]</text>\n</g>\n<!-- 8&#45;&gt;17 -->\n<g id=\"edge23\" class=\"edge\">\n<title>8&#45;&gt;17</title>\n<path fill=\"none\" stroke=\"#000000\" d=\"M1341.2696,-504.9465C1335.0088,-496.1475 1328.192,-486.5672 1321.6687,-477.3993\"/>\n<polygon fill=\"#000000\" stroke=\"#000000\" points=\"1324.4342,-475.2488 1315.7848,-469.13 1318.7306,-479.3071 1324.4342,-475.2488\"/>\n</g>\n<!-- 18 -->\n<g id=\"node33\" class=\"node\">\n<title>18</title>\n<polygon fill=\"none\" stroke=\"#000000\" points=\"1646.5,-469 1514.5,-469 1514.5,-401 1646.5,-401 1646.5,-469\"/>\n<text text-anchor=\"middle\" x=\"1580.5\" y=\"-453.8\" font-family=\"Times,serif\" font-size=\"14.00\" fill=\"#000000\">X[2] &lt;= 5.3</text>\n<text text-anchor=\"middle\" x=\"1580.5\" y=\"-438.8\" font-family=\"Times,serif\" font-size=\"14.00\" fill=\"#000000\">gini = 0.411</text>\n<text text-anchor=\"middle\" x=\"1580.5\" y=\"-423.8\" font-family=\"Times,serif\" font-size=\"14.00\" fill=\"#000000\">samples = 2012</text>\n<text text-anchor=\"middle\" x=\"1580.5\" y=\"-408.8\" font-family=\"Times,serif\" font-size=\"14.00\" fill=\"#000000\">value = [1431, 581]</text>\n</g>\n<!-- 8&#45;&gt;18 -->\n<g id=\"edge32\" class=\"edge\">\n<title>8&#45;&gt;18</title>\n<path fill=\"none\" stroke=\"#000000\" d=\"M1435.6015,-505.0904C1457.7882,-494.3582 1482.4029,-482.4516 1504.9539,-471.5432\"/>\n<polygon fill=\"#000000\" stroke=\"#000000\" points=\"1506.6677,-474.6023 1514.1457,-467.0969 1503.6195,-468.3008 1506.6677,-474.6023\"/>\n</g>\n<!-- 39 -->\n<g id=\"node25\" class=\"node\">\n<title>39</title>\n<polygon fill=\"none\" stroke=\"#000000\" points=\"1135.5,-365 1003.5,-365 1003.5,-297 1135.5,-297 1135.5,-365\"/>\n<text text-anchor=\"middle\" x=\"1069.5\" y=\"-349.8\" font-family=\"Times,serif\" font-size=\"14.00\" fill=\"#000000\">X[12] &lt;= 1019.95</text>\n<text text-anchor=\"middle\" x=\"1069.5\" y=\"-334.8\" font-family=\"Times,serif\" font-size=\"14.00\" fill=\"#000000\">gini = 0.181</text>\n<text text-anchor=\"middle\" x=\"1069.5\" y=\"-319.8\" font-family=\"Times,serif\" font-size=\"14.00\" fill=\"#000000\">samples = 2739</text>\n<text text-anchor=\"middle\" x=\"1069.5\" y=\"-304.8\" font-family=\"Times,serif\" font-size=\"14.00\" fill=\"#000000\">value = [2463, 276]</text>\n</g>\n<!-- 17&#45;&gt;39 -->\n<g id=\"edge24\" class=\"edge\">\n<title>17&#45;&gt;39</title>\n<path fill=\"none\" stroke=\"#000000\" d=\"M1225.4937,-404.0782C1200.1122,-392.1877 1170.9524,-378.5272 1144.7636,-366.2586\"/>\n<polygon fill=\"#000000\" stroke=\"#000000\" points=\"1146.1757,-363.0551 1135.6353,-361.9823 1143.206,-369.394 1146.1757,-363.0551\"/>\n</g>\n<!-- 40 -->\n<g id=\"node28\" class=\"node\">\n<title>40</title>\n<polygon fill=\"none\" stroke=\"#000000\" points=\"1357.5,-365 1225.5,-365 1225.5,-297 1357.5,-297 1357.5,-365\"/>\n<text text-anchor=\"middle\" x=\"1291.5\" y=\"-349.8\" font-family=\"Times,serif\" font-size=\"14.00\" fill=\"#000000\">X[12] &lt;= 1022.35</text>\n<text text-anchor=\"middle\" x=\"1291.5\" y=\"-334.8\" font-family=\"Times,serif\" font-size=\"14.00\" fill=\"#000000\">gini = 0.316</text>\n<text text-anchor=\"middle\" x=\"1291.5\" y=\"-319.8\" font-family=\"Times,serif\" font-size=\"14.00\" fill=\"#000000\">samples = 2857</text>\n<text text-anchor=\"middle\" x=\"1291.5\" y=\"-304.8\" font-family=\"Times,serif\" font-size=\"14.00\" fill=\"#000000\">value = [2294, 563]</text>\n</g>\n<!-- 17&#45;&gt;40 -->\n<g id=\"edge27\" class=\"edge\">\n<title>17&#45;&gt;40</title>\n<path fill=\"none\" stroke=\"#000000\" d=\"M1291.5,-400.9465C1291.5,-392.776 1291.5,-383.9318 1291.5,-375.3697\"/>\n<polygon fill=\"#000000\" stroke=\"#000000\" points=\"1295.0001,-375.13 1291.5,-365.13 1288.0001,-375.13 1295.0001,-375.13\"/>\n</g>\n<!-- 99 -->\n<g id=\"node26\" class=\"node\">\n<title>99</title>\n<polygon fill=\"none\" stroke=\"#000000\" points=\"989,-253.5 858,-253.5 858,-200.5 989,-200.5 989,-253.5\"/>\n<text text-anchor=\"middle\" x=\"923.5\" y=\"-238.3\" font-family=\"Times,serif\" font-size=\"14.00\" fill=\"#000000\">gini = 0.246</text>\n<text text-anchor=\"middle\" x=\"923.5\" y=\"-223.3\" font-family=\"Times,serif\" font-size=\"14.00\" fill=\"#000000\">samples = 1351</text>\n<text text-anchor=\"middle\" x=\"923.5\" y=\"-208.3\" font-family=\"Times,serif\" font-size=\"14.00\" fill=\"#000000\">value = [1157, 194]</text>\n</g>\n<!-- 39&#45;&gt;99 -->\n<g id=\"edge25\" class=\"edge\">\n<title>39&#45;&gt;99</title>\n<path fill=\"none\" stroke=\"#000000\" d=\"M1021.6941,-296.9465C1004.8392,-284.9403 985.9419,-271.4791 969.2601,-259.5962\"/>\n<polygon fill=\"#000000\" stroke=\"#000000\" points=\"970.9367,-256.4933 960.7611,-253.5422 966.8753,-262.1947 970.9367,-256.4933\"/>\n</g>\n<!-- 100 -->\n<g id=\"node27\" class=\"node\">\n<title>100</title>\n<polygon fill=\"none\" stroke=\"#000000\" points=\"1132,-253.5 1007,-253.5 1007,-200.5 1132,-200.5 1132,-253.5\"/>\n<text text-anchor=\"middle\" x=\"1069.5\" y=\"-238.3\" font-family=\"Times,serif\" font-size=\"14.00\" fill=\"#000000\">gini = 0.111</text>\n<text text-anchor=\"middle\" x=\"1069.5\" y=\"-223.3\" font-family=\"Times,serif\" font-size=\"14.00\" fill=\"#000000\">samples = 1388</text>\n<text text-anchor=\"middle\" x=\"1069.5\" y=\"-208.3\" font-family=\"Times,serif\" font-size=\"14.00\" fill=\"#000000\">value = [1306, 82]</text>\n</g>\n<!-- 39&#45;&gt;100 -->\n<g id=\"edge26\" class=\"edge\">\n<title>39&#45;&gt;100</title>\n<path fill=\"none\" stroke=\"#000000\" d=\"M1069.5,-296.9465C1069.5,-286.2621 1069.5,-274.4254 1069.5,-263.5742\"/>\n<polygon fill=\"#000000\" stroke=\"#000000\" points=\"1073.0001,-263.5421 1069.5,-253.5422 1066.0001,-263.5422 1073.0001,-263.5421\"/>\n</g>\n<!-- 41 -->\n<g id=\"node29\" class=\"node\">\n<title>41</title>\n<polygon fill=\"none\" stroke=\"#000000\" points=\"1282.5,-253.5 1150.5,-253.5 1150.5,-200.5 1282.5,-200.5 1282.5,-253.5\"/>\n<text text-anchor=\"middle\" x=\"1216.5\" y=\"-238.3\" font-family=\"Times,serif\" font-size=\"14.00\" fill=\"#000000\">gini = 0.369</text>\n<text text-anchor=\"middle\" x=\"1216.5\" y=\"-223.3\" font-family=\"Times,serif\" font-size=\"14.00\" fill=\"#000000\">samples = 1801</text>\n<text text-anchor=\"middle\" x=\"1216.5\" y=\"-208.3\" font-family=\"Times,serif\" font-size=\"14.00\" fill=\"#000000\">value = [1361, 440]</text>\n</g>\n<!-- 40&#45;&gt;41 -->\n<g id=\"edge28\" class=\"edge\">\n<title>40&#45;&gt;41</title>\n<path fill=\"none\" stroke=\"#000000\" d=\"M1266.9422,-296.9465C1258.8399,-285.7113 1249.8188,-273.2021 1241.6714,-261.9043\"/>\n<polygon fill=\"#000000\" stroke=\"#000000\" points=\"1244.3291,-259.6058 1235.641,-253.5422 1238.6514,-263.7003 1244.3291,-259.6058\"/>\n</g>\n<!-- 42 -->\n<g id=\"node30\" class=\"node\">\n<title>42</title>\n<polygon fill=\"none\" stroke=\"#000000\" points=\"1426,-261 1301,-261 1301,-193 1426,-193 1426,-261\"/>\n<text text-anchor=\"middle\" x=\"1363.5\" y=\"-245.8\" font-family=\"Times,serif\" font-size=\"14.00\" fill=\"#000000\">X[15] &lt;= 15.25</text>\n<text text-anchor=\"middle\" x=\"1363.5\" y=\"-230.8\" font-family=\"Times,serif\" font-size=\"14.00\" fill=\"#000000\">gini = 0.206</text>\n<text text-anchor=\"middle\" x=\"1363.5\" y=\"-215.8\" font-family=\"Times,serif\" font-size=\"14.00\" fill=\"#000000\">samples = 1056</text>\n<text text-anchor=\"middle\" x=\"1363.5\" y=\"-200.8\" font-family=\"Times,serif\" font-size=\"14.00\" fill=\"#000000\">value = [933, 123]</text>\n</g>\n<!-- 40&#45;&gt;42 -->\n<g id=\"edge29\" class=\"edge\">\n<title>40&#45;&gt;42</title>\n<path fill=\"none\" stroke=\"#000000\" d=\"M1315.0755,-296.9465C1321.1671,-288.1475 1327.7996,-278.5672 1334.1466,-269.3993\"/>\n<polygon fill=\"#000000\" stroke=\"#000000\" points=\"1337.0571,-271.3442 1339.8715,-261.13 1331.3017,-267.3597 1337.0571,-271.3442\"/>\n</g>\n<!-- 63 -->\n<g id=\"node31\" class=\"node\">\n<title>63</title>\n<polygon fill=\"none\" stroke=\"#000000\" points=\"1289,-149.5 1172,-149.5 1172,-96.5 1289,-96.5 1289,-149.5\"/>\n<text text-anchor=\"middle\" x=\"1230.5\" y=\"-134.3\" font-family=\"Times,serif\" font-size=\"14.00\" fill=\"#000000\">gini = 0.15</text>\n<text text-anchor=\"middle\" x=\"1230.5\" y=\"-119.3\" font-family=\"Times,serif\" font-size=\"14.00\" fill=\"#000000\">samples = 906</text>\n<text text-anchor=\"middle\" x=\"1230.5\" y=\"-104.3\" font-family=\"Times,serif\" font-size=\"14.00\" fill=\"#000000\">value = [832, 74]</text>\n</g>\n<!-- 42&#45;&gt;63 -->\n<g id=\"edge30\" class=\"edge\">\n<title>42&#45;&gt;63</title>\n<path fill=\"none\" stroke=\"#000000\" d=\"M1319.9508,-192.9465C1304.7375,-181.0504 1287.6977,-167.726 1272.6043,-155.9237\"/>\n<polygon fill=\"#000000\" stroke=\"#000000\" points=\"1274.4769,-152.9449 1264.4433,-149.5422 1270.1649,-158.4592 1274.4769,-152.9449\"/>\n</g>\n<!-- 64 -->\n<g id=\"node32\" class=\"node\">\n<title>64</title>\n<polygon fill=\"none\" stroke=\"#000000\" points=\"1424,-149.5 1307,-149.5 1307,-96.5 1424,-96.5 1424,-149.5\"/>\n<text text-anchor=\"middle\" x=\"1365.5\" y=\"-134.3\" font-family=\"Times,serif\" font-size=\"14.00\" fill=\"#000000\">gini = 0.44</text>\n<text text-anchor=\"middle\" x=\"1365.5\" y=\"-119.3\" font-family=\"Times,serif\" font-size=\"14.00\" fill=\"#000000\">samples = 150</text>\n<text text-anchor=\"middle\" x=\"1365.5\" y=\"-104.3\" font-family=\"Times,serif\" font-size=\"14.00\" fill=\"#000000\">value = [101, 49]</text>\n</g>\n<!-- 42&#45;&gt;64 -->\n<g id=\"edge31\" class=\"edge\">\n<title>42&#45;&gt;64</title>\n<path fill=\"none\" stroke=\"#000000\" d=\"M1364.1549,-192.9465C1364.3603,-182.2621 1364.588,-170.4254 1364.7966,-159.5742\"/>\n<polygon fill=\"#000000\" stroke=\"#000000\" points=\"1368.2966,-159.6076 1364.9896,-149.5422 1361.2979,-159.473 1368.2966,-159.6076\"/>\n</g>\n<!-- 31 -->\n<g id=\"node34\" class=\"node\">\n<title>31</title>\n<polygon fill=\"none\" stroke=\"#000000\" points=\"1646.5,-365 1514.5,-365 1514.5,-297 1646.5,-297 1646.5,-365\"/>\n<text text-anchor=\"middle\" x=\"1580.5\" y=\"-349.8\" font-family=\"Times,serif\" font-size=\"14.00\" fill=\"#000000\">X[10] &lt;= 61.5</text>\n<text text-anchor=\"middle\" x=\"1580.5\" y=\"-334.8\" font-family=\"Times,serif\" font-size=\"14.00\" fill=\"#000000\">gini = 0.375</text>\n<text text-anchor=\"middle\" x=\"1580.5\" y=\"-319.8\" font-family=\"Times,serif\" font-size=\"14.00\" fill=\"#000000\">samples = 1699</text>\n<text text-anchor=\"middle\" x=\"1580.5\" y=\"-304.8\" font-family=\"Times,serif\" font-size=\"14.00\" fill=\"#000000\">value = [1274, 425]</text>\n</g>\n<!-- 18&#45;&gt;31 -->\n<g id=\"edge33\" class=\"edge\">\n<title>18&#45;&gt;31</title>\n<path fill=\"none\" stroke=\"#000000\" d=\"M1580.5,-400.9465C1580.5,-392.776 1580.5,-383.9318 1580.5,-375.3697\"/>\n<polygon fill=\"#000000\" stroke=\"#000000\" points=\"1584.0001,-375.13 1580.5,-365.13 1577.0001,-375.13 1584.0001,-375.13\"/>\n</g>\n<!-- 32 -->\n<g id=\"node39\" class=\"node\">\n<title>32</title>\n<polygon fill=\"none\" stroke=\"#000000\" points=\"1859,-365 1734,-365 1734,-297 1859,-297 1859,-365\"/>\n<text text-anchor=\"middle\" x=\"1796.5\" y=\"-349.8\" font-family=\"Times,serif\" font-size=\"14.00\" fill=\"#000000\">X[10] &lt;= 62.5</text>\n<text text-anchor=\"middle\" x=\"1796.5\" y=\"-334.8\" font-family=\"Times,serif\" font-size=\"14.00\" fill=\"#000000\">gini = 0.5</text>\n<text text-anchor=\"middle\" x=\"1796.5\" y=\"-319.8\" font-family=\"Times,serif\" font-size=\"14.00\" fill=\"#000000\">samples = 313</text>\n<text text-anchor=\"middle\" x=\"1796.5\" y=\"-304.8\" font-family=\"Times,serif\" font-size=\"14.00\" fill=\"#000000\">value = [157, 156]</text>\n</g>\n<!-- 18&#45;&gt;32 -->\n<g id=\"edge38\" class=\"edge\">\n<title>18&#45;&gt;32</title>\n<path fill=\"none\" stroke=\"#000000\" d=\"M1646.775,-403.0898C1671.405,-391.2309 1699.4562,-377.7248 1724.5682,-365.6338\"/>\n<polygon fill=\"#000000\" stroke=\"#000000\" points=\"1726.1836,-368.7407 1733.6753,-361.2489 1723.1469,-362.4336 1726.1836,-368.7407\"/>\n</g>\n<!-- 55 -->\n<g id=\"node35\" class=\"node\">\n<title>55</title>\n<polygon fill=\"none\" stroke=\"#000000\" points=\"1576.5,-261 1444.5,-261 1444.5,-193 1576.5,-193 1576.5,-261\"/>\n<text text-anchor=\"middle\" x=\"1510.5\" y=\"-245.8\" font-family=\"Times,serif\" font-size=\"14.00\" fill=\"#000000\">X[12] &lt;= 1018.35</text>\n<text text-anchor=\"middle\" x=\"1510.5\" y=\"-230.8\" font-family=\"Times,serif\" font-size=\"14.00\" fill=\"#000000\">gini = 0.333</text>\n<text text-anchor=\"middle\" x=\"1510.5\" y=\"-215.8\" font-family=\"Times,serif\" font-size=\"14.00\" fill=\"#000000\">samples = 1296</text>\n<text text-anchor=\"middle\" x=\"1510.5\" y=\"-200.8\" font-family=\"Times,serif\" font-size=\"14.00\" fill=\"#000000\">value = [1023, 273]</text>\n</g>\n<!-- 31&#45;&gt;55 -->\n<g id=\"edge34\" class=\"edge\">\n<title>31&#45;&gt;55</title>\n<path fill=\"none\" stroke=\"#000000\" d=\"M1557.5794,-296.9465C1551.7174,-288.2373 1545.3402,-278.7626 1539.227,-269.6801\"/>\n<polygon fill=\"#000000\" stroke=\"#000000\" points=\"1541.9595,-267.4716 1533.4721,-261.13 1536.1524,-271.3802 1541.9595,-267.4716\"/>\n</g>\n<!-- 56 -->\n<g id=\"node38\" class=\"node\">\n<title>56</title>\n<polygon fill=\"none\" stroke=\"#000000\" points=\"1720,-253.5 1595,-253.5 1595,-200.5 1720,-200.5 1720,-253.5\"/>\n<text text-anchor=\"middle\" x=\"1657.5\" y=\"-238.3\" font-family=\"Times,serif\" font-size=\"14.00\" fill=\"#000000\">gini = 0.47</text>\n<text text-anchor=\"middle\" x=\"1657.5\" y=\"-223.3\" font-family=\"Times,serif\" font-size=\"14.00\" fill=\"#000000\">samples = 403</text>\n<text text-anchor=\"middle\" x=\"1657.5\" y=\"-208.3\" font-family=\"Times,serif\" font-size=\"14.00\" fill=\"#000000\">value = [251, 152]</text>\n</g>\n<!-- 31&#45;&gt;56 -->\n<g id=\"edge37\" class=\"edge\">\n<title>31&#45;&gt;56</title>\n<path fill=\"none\" stroke=\"#000000\" d=\"M1605.7127,-296.9465C1614.0311,-285.7113 1623.2927,-273.2021 1631.6574,-261.9043\"/>\n<polygon fill=\"#000000\" stroke=\"#000000\" points=\"1634.7111,-263.6618 1637.8486,-253.5422 1629.0852,-259.4965 1634.7111,-263.6618\"/>\n</g>\n<!-- 107 -->\n<g id=\"node36\" class=\"node\">\n<title>107</title>\n<polygon fill=\"none\" stroke=\"#000000\" points=\"1571,-149.5 1446,-149.5 1446,-96.5 1571,-96.5 1571,-149.5\"/>\n<text text-anchor=\"middle\" x=\"1508.5\" y=\"-134.3\" font-family=\"Times,serif\" font-size=\"14.00\" fill=\"#000000\">gini = 0.391</text>\n<text text-anchor=\"middle\" x=\"1508.5\" y=\"-119.3\" font-family=\"Times,serif\" font-size=\"14.00\" fill=\"#000000\">samples = 679</text>\n<text text-anchor=\"middle\" x=\"1508.5\" y=\"-104.3\" font-family=\"Times,serif\" font-size=\"14.00\" fill=\"#000000\">value = [498, 181]</text>\n</g>\n<!-- 55&#45;&gt;107 -->\n<g id=\"edge35\" class=\"edge\">\n<title>55&#45;&gt;107</title>\n<path fill=\"none\" stroke=\"#000000\" d=\"M1509.8451,-192.9465C1509.6397,-182.2621 1509.412,-170.4254 1509.2034,-159.5742\"/>\n<polygon fill=\"#000000\" stroke=\"#000000\" points=\"1512.7021,-159.473 1509.0104,-149.5422 1505.7034,-159.6076 1512.7021,-159.473\"/>\n</g>\n<!-- 108 -->\n<g id=\"node37\" class=\"node\">\n<title>108</title>\n<polygon fill=\"none\" stroke=\"#000000\" points=\"1706,-149.5 1589,-149.5 1589,-96.5 1706,-96.5 1706,-149.5\"/>\n<text text-anchor=\"middle\" x=\"1647.5\" y=\"-134.3\" font-family=\"Times,serif\" font-size=\"14.00\" fill=\"#000000\">gini = 0.254</text>\n<text text-anchor=\"middle\" x=\"1647.5\" y=\"-119.3\" font-family=\"Times,serif\" font-size=\"14.00\" fill=\"#000000\">samples = 617</text>\n<text text-anchor=\"middle\" x=\"1647.5\" y=\"-104.3\" font-family=\"Times,serif\" font-size=\"14.00\" fill=\"#000000\">value = [525, 92]</text>\n</g>\n<!-- 55&#45;&gt;108 -->\n<g id=\"edge36\" class=\"edge\">\n<title>55&#45;&gt;108</title>\n<path fill=\"none\" stroke=\"#000000\" d=\"M1555.3589,-192.9465C1571.1748,-180.9403 1588.9073,-167.4791 1604.5607,-155.5962\"/>\n<polygon fill=\"#000000\" stroke=\"#000000\" points=\"1606.6871,-158.3764 1612.5358,-149.5422 1602.4545,-152.8009 1606.6871,-158.3764\"/>\n</g>\n<!-- 95 -->\n<g id=\"node40\" class=\"node\">\n<title>95</title>\n<polygon fill=\"none\" stroke=\"#000000\" points=\"1855,-253.5 1738,-253.5 1738,-200.5 1855,-200.5 1855,-253.5\"/>\n<text text-anchor=\"middle\" x=\"1796.5\" y=\"-238.3\" font-family=\"Times,serif\" font-size=\"14.00\" fill=\"#000000\">gini = 0.484</text>\n<text text-anchor=\"middle\" x=\"1796.5\" y=\"-223.3\" font-family=\"Times,serif\" font-size=\"14.00\" fill=\"#000000\">samples = 210</text>\n<text text-anchor=\"middle\" x=\"1796.5\" y=\"-208.3\" font-family=\"Times,serif\" font-size=\"14.00\" fill=\"#000000\">value = [124, 86]</text>\n</g>\n<!-- 32&#45;&gt;95 -->\n<g id=\"edge39\" class=\"edge\">\n<title>32&#45;&gt;95</title>\n<path fill=\"none\" stroke=\"#000000\" d=\"M1796.5,-296.9465C1796.5,-286.2621 1796.5,-274.4254 1796.5,-263.5742\"/>\n<polygon fill=\"#000000\" stroke=\"#000000\" points=\"1800.0001,-263.5421 1796.5,-253.5422 1793.0001,-263.5422 1800.0001,-263.5421\"/>\n</g>\n<!-- 96 -->\n<g id=\"node41\" class=\"node\">\n<title>96</title>\n<polygon fill=\"none\" stroke=\"#000000\" points=\"1983.5,-253.5 1873.5,-253.5 1873.5,-200.5 1983.5,-200.5 1983.5,-253.5\"/>\n<text text-anchor=\"middle\" x=\"1928.5\" y=\"-238.3\" font-family=\"Times,serif\" font-size=\"14.00\" fill=\"#000000\">gini = 0.435</text>\n<text text-anchor=\"middle\" x=\"1928.5\" y=\"-223.3\" font-family=\"Times,serif\" font-size=\"14.00\" fill=\"#000000\">samples = 103</text>\n<text text-anchor=\"middle\" x=\"1928.5\" y=\"-208.3\" font-family=\"Times,serif\" font-size=\"14.00\" fill=\"#000000\">value = [33, 70]</text>\n</g>\n<!-- 32&#45;&gt;96 -->\n<g id=\"edge40\" class=\"edge\">\n<title>32&#45;&gt;96</title>\n<path fill=\"none\" stroke=\"#000000\" d=\"M1839.7217,-296.9465C1854.8206,-285.0504 1871.7324,-271.726 1886.7122,-259.9237\"/>\n<polygon fill=\"#000000\" stroke=\"#000000\" points=\"1889.123,-262.4802 1894.8119,-253.5422 1884.7909,-256.9817 1889.123,-262.4802\"/>\n</g>\n<!-- 13 -->\n<g id=\"node43\" class=\"node\">\n<title>13</title>\n<polygon fill=\"none\" stroke=\"#000000\" points=\"2628.5,-573 2496.5,-573 2496.5,-505 2628.5,-505 2628.5,-573\"/>\n<text text-anchor=\"middle\" x=\"2562.5\" y=\"-557.8\" font-family=\"Times,serif\" font-size=\"14.00\" fill=\"#000000\">X[4] &lt;= 10.35</text>\n<text text-anchor=\"middle\" x=\"2562.5\" y=\"-542.8\" font-family=\"Times,serif\" font-size=\"14.00\" fill=\"#000000\">gini = 0.282</text>\n<text text-anchor=\"middle\" x=\"2562.5\" y=\"-527.8\" font-family=\"Times,serif\" font-size=\"14.00\" fill=\"#000000\">samples = 3821</text>\n<text text-anchor=\"middle\" x=\"2562.5\" y=\"-512.8\" font-family=\"Times,serif\" font-size=\"14.00\" fill=\"#000000\">value = [3172, 649]</text>\n</g>\n<!-- 4&#45;&gt;13 -->\n<g id=\"edge42\" class=\"edge\">\n<title>4&#45;&gt;13</title>\n<path fill=\"none\" stroke=\"#000000\" d=\"M2685.579,-608.9465C2668.3583,-599.1599 2649.4367,-588.4066 2631.7046,-578.3294\"/>\n<polygon fill=\"#000000\" stroke=\"#000000\" points=\"2632.9791,-575.028 2622.5557,-573.13 2629.5204,-581.1139 2632.9791,-575.028\"/>\n</g>\n<!-- 14 -->\n<g id=\"node58\" class=\"node\">\n<title>14</title>\n<polygon fill=\"none\" stroke=\"#000000\" points=\"2926,-573 2779,-573 2779,-505 2926,-505 2926,-573\"/>\n<text text-anchor=\"middle\" x=\"2852.5\" y=\"-557.8\" font-family=\"Times,serif\" font-size=\"14.00\" fill=\"#000000\">X[10] &lt;= 52.5</text>\n<text text-anchor=\"middle\" x=\"2852.5\" y=\"-542.8\" font-family=\"Times,serif\" font-size=\"14.00\" fill=\"#000000\">gini = 0.098</text>\n<text text-anchor=\"middle\" x=\"2852.5\" y=\"-527.8\" font-family=\"Times,serif\" font-size=\"14.00\" fill=\"#000000\">samples = 21343</text>\n<text text-anchor=\"middle\" x=\"2852.5\" y=\"-512.8\" font-family=\"Times,serif\" font-size=\"14.00\" fill=\"#000000\">value = [20244, 1099]</text>\n</g>\n<!-- 4&#45;&gt;14 -->\n<g id=\"edge57\" class=\"edge\">\n<title>4&#45;&gt;14</title>\n<path fill=\"none\" stroke=\"#000000\" d=\"M2780.5358,-608.9465C2789.9581,-599.7884 2800.2513,-589.7838 2810.0304,-580.2788\"/>\n<polygon fill=\"#000000\" stroke=\"#000000\" points=\"2812.654,-582.6097 2817.3855,-573.13 2807.7751,-577.59 2812.654,-582.6097\"/>\n</g>\n<!-- 15 -->\n<g id=\"node44\" class=\"node\">\n<title>15</title>\n<polygon fill=\"none\" stroke=\"#000000\" points=\"2408,-469 2277,-469 2277,-401 2408,-401 2408,-469\"/>\n<text text-anchor=\"middle\" x=\"2342.5\" y=\"-453.8\" font-family=\"Times,serif\" font-size=\"14.00\" fill=\"#000000\">X[5] &lt;= 47.0</text>\n<text text-anchor=\"middle\" x=\"2342.5\" y=\"-438.8\" font-family=\"Times,serif\" font-size=\"14.00\" fill=\"#000000\">gini = 0.41</text>\n<text text-anchor=\"middle\" x=\"2342.5\" y=\"-423.8\" font-family=\"Times,serif\" font-size=\"14.00\" fill=\"#000000\">samples = 1600</text>\n<text text-anchor=\"middle\" x=\"2342.5\" y=\"-408.8\" font-family=\"Times,serif\" font-size=\"14.00\" fill=\"#000000\">value = [1140, 460]</text>\n</g>\n<!-- 13&#45;&gt;15 -->\n<g id=\"edge43\" class=\"edge\">\n<title>13&#45;&gt;15</title>\n<path fill=\"none\" stroke=\"#000000\" d=\"M2496.4927,-507.7966C2471.5808,-496.02 2443.0646,-482.5396 2417.397,-470.4058\"/>\n<polygon fill=\"#000000\" stroke=\"#000000\" points=\"2418.6179,-467.1117 2408.0813,-466.0021 2415.6262,-473.4402 2418.6179,-467.1117\"/>\n</g>\n<!-- 16 -->\n<g id=\"node55\" class=\"node\">\n<title>16</title>\n<polygon fill=\"none\" stroke=\"#000000\" points=\"2628.5,-469 2496.5,-469 2496.5,-401 2628.5,-401 2628.5,-469\"/>\n<text text-anchor=\"middle\" x=\"2562.5\" y=\"-453.8\" font-family=\"Times,serif\" font-size=\"14.00\" fill=\"#000000\">X[10] &lt;= 58.5</text>\n<text text-anchor=\"middle\" x=\"2562.5\" y=\"-438.8\" font-family=\"Times,serif\" font-size=\"14.00\" fill=\"#000000\">gini = 0.156</text>\n<text text-anchor=\"middle\" x=\"2562.5\" y=\"-423.8\" font-family=\"Times,serif\" font-size=\"14.00\" fill=\"#000000\">samples = 2221</text>\n<text text-anchor=\"middle\" x=\"2562.5\" y=\"-408.8\" font-family=\"Times,serif\" font-size=\"14.00\" fill=\"#000000\">value = [2032, 189]</text>\n</g>\n<!-- 13&#45;&gt;16 -->\n<g id=\"edge54\" class=\"edge\">\n<title>13&#45;&gt;16</title>\n<path fill=\"none\" stroke=\"#000000\" d=\"M2562.5,-504.9465C2562.5,-496.776 2562.5,-487.9318 2562.5,-479.3697\"/>\n<polygon fill=\"#000000\" stroke=\"#000000\" points=\"2566.0001,-479.13 2562.5,-469.13 2559.0001,-479.13 2566.0001,-479.13\"/>\n</g>\n<!-- 43 -->\n<g id=\"node45\" class=\"node\">\n<title>43</title>\n<polygon fill=\"none\" stroke=\"#000000\" points=\"2262,-365 2137,-365 2137,-297 2262,-297 2262,-365\"/>\n<text text-anchor=\"middle\" x=\"2199.5\" y=\"-349.8\" font-family=\"Times,serif\" font-size=\"14.00\" fill=\"#000000\">X[10] &lt;= 55.5</text>\n<text text-anchor=\"middle\" x=\"2199.5\" y=\"-334.8\" font-family=\"Times,serif\" font-size=\"14.00\" fill=\"#000000\">gini = 0.331</text>\n<text text-anchor=\"middle\" x=\"2199.5\" y=\"-319.8\" font-family=\"Times,serif\" font-size=\"14.00\" fill=\"#000000\">samples = 826</text>\n<text text-anchor=\"middle\" x=\"2199.5\" y=\"-304.8\" font-family=\"Times,serif\" font-size=\"14.00\" fill=\"#000000\">value = [653, 173]</text>\n</g>\n<!-- 15&#45;&gt;43 -->\n<g id=\"edge44\" class=\"edge\">\n<title>15&#45;&gt;43</title>\n<path fill=\"none\" stroke=\"#000000\" d=\"M2295.6765,-400.9465C2282.5902,-391.4293 2268.247,-380.9978 2254.7241,-371.163\"/>\n<polygon fill=\"#000000\" stroke=\"#000000\" points=\"2256.5747,-368.1812 2246.4287,-365.13 2252.4575,-373.8423 2256.5747,-368.1812\"/>\n</g>\n<!-- 44 -->\n<g id=\"node48\" class=\"node\">\n<title>44</title>\n<polygon fill=\"none\" stroke=\"#000000\" points=\"2405,-365 2280,-365 2280,-297 2405,-297 2405,-365\"/>\n<text text-anchor=\"middle\" x=\"2342.5\" y=\"-349.8\" font-family=\"Times,serif\" font-size=\"14.00\" fill=\"#000000\">X[10] &lt;= 51.5</text>\n<text text-anchor=\"middle\" x=\"2342.5\" y=\"-334.8\" font-family=\"Times,serif\" font-size=\"14.00\" fill=\"#000000\">gini = 0.467</text>\n<text text-anchor=\"middle\" x=\"2342.5\" y=\"-319.8\" font-family=\"Times,serif\" font-size=\"14.00\" fill=\"#000000\">samples = 774</text>\n<text text-anchor=\"middle\" x=\"2342.5\" y=\"-304.8\" font-family=\"Times,serif\" font-size=\"14.00\" fill=\"#000000\">value = [487, 287]</text>\n</g>\n<!-- 15&#45;&gt;44 -->\n<g id=\"edge47\" class=\"edge\">\n<title>15&#45;&gt;44</title>\n<path fill=\"none\" stroke=\"#000000\" d=\"M2342.5,-400.9465C2342.5,-392.776 2342.5,-383.9318 2342.5,-375.3697\"/>\n<polygon fill=\"#000000\" stroke=\"#000000\" points=\"2346.0001,-375.13 2342.5,-365.13 2339.0001,-375.13 2346.0001,-375.13\"/>\n</g>\n<!-- 77 -->\n<g id=\"node46\" class=\"node\">\n<title>77</title>\n<polygon fill=\"none\" stroke=\"#000000\" points=\"2119,-253.5 2002,-253.5 2002,-200.5 2119,-200.5 2119,-253.5\"/>\n<text text-anchor=\"middle\" x=\"2060.5\" y=\"-238.3\" font-family=\"Times,serif\" font-size=\"14.00\" fill=\"#000000\">gini = 0.233</text>\n<text text-anchor=\"middle\" x=\"2060.5\" y=\"-223.3\" font-family=\"Times,serif\" font-size=\"14.00\" fill=\"#000000\">samples = 468</text>\n<text text-anchor=\"middle\" x=\"2060.5\" y=\"-208.3\" font-family=\"Times,serif\" font-size=\"14.00\" fill=\"#000000\">value = [405, 63]</text>\n</g>\n<!-- 43&#45;&gt;77 -->\n<g id=\"edge45\" class=\"edge\">\n<title>43&#45;&gt;77</title>\n<path fill=\"none\" stroke=\"#000000\" d=\"M2153.9862,-296.9465C2137.9394,-284.9403 2119.9481,-271.4791 2104.0661,-259.5962\"/>\n<polygon fill=\"#000000\" stroke=\"#000000\" points=\"2106.0783,-256.7306 2095.9746,-253.5422 2101.8848,-262.3354 2106.0783,-256.7306\"/>\n</g>\n<!-- 78 -->\n<g id=\"node47\" class=\"node\">\n<title>78</title>\n<polygon fill=\"none\" stroke=\"#000000\" points=\"2261.5,-253.5 2137.5,-253.5 2137.5,-200.5 2261.5,-200.5 2261.5,-253.5\"/>\n<text text-anchor=\"middle\" x=\"2199.5\" y=\"-238.3\" font-family=\"Times,serif\" font-size=\"14.00\" fill=\"#000000\">gini = 0.426</text>\n<text text-anchor=\"middle\" x=\"2199.5\" y=\"-223.3\" font-family=\"Times,serif\" font-size=\"14.00\" fill=\"#000000\">samples = 358</text>\n<text text-anchor=\"middle\" x=\"2199.5\" y=\"-208.3\" font-family=\"Times,serif\" font-size=\"14.00\" fill=\"#000000\">value = [248, 110]</text>\n</g>\n<!-- 43&#45;&gt;78 -->\n<g id=\"edge46\" class=\"edge\">\n<title>43&#45;&gt;78</title>\n<path fill=\"none\" stroke=\"#000000\" d=\"M2199.5,-296.9465C2199.5,-286.2621 2199.5,-274.4254 2199.5,-263.5742\"/>\n<polygon fill=\"#000000\" stroke=\"#000000\" points=\"2203.0001,-263.5421 2199.5,-253.5422 2196.0001,-263.5422 2203.0001,-263.5421\"/>\n</g>\n<!-- 45 -->\n<g id=\"node49\" class=\"node\">\n<title>45</title>\n<polygon fill=\"none\" stroke=\"#000000\" points=\"2405,-261 2280,-261 2280,-193 2405,-193 2405,-261\"/>\n<text text-anchor=\"middle\" x=\"2342.5\" y=\"-245.8\" font-family=\"Times,serif\" font-size=\"14.00\" fill=\"#000000\">X[6] &lt;= 6.5</text>\n<text text-anchor=\"middle\" x=\"2342.5\" y=\"-230.8\" font-family=\"Times,serif\" font-size=\"14.00\" fill=\"#000000\">gini = 0.423</text>\n<text text-anchor=\"middle\" x=\"2342.5\" y=\"-215.8\" font-family=\"Times,serif\" font-size=\"14.00\" fill=\"#000000\">samples = 582</text>\n<text text-anchor=\"middle\" x=\"2342.5\" y=\"-200.8\" font-family=\"Times,serif\" font-size=\"14.00\" fill=\"#000000\">value = [405, 177]</text>\n</g>\n<!-- 44&#45;&gt;45 -->\n<g id=\"edge48\" class=\"edge\">\n<title>44&#45;&gt;45</title>\n<path fill=\"none\" stroke=\"#000000\" d=\"M2342.5,-296.9465C2342.5,-288.776 2342.5,-279.9318 2342.5,-271.3697\"/>\n<polygon fill=\"#000000\" stroke=\"#000000\" points=\"2346.0001,-271.13 2342.5,-261.13 2339.0001,-271.13 2346.0001,-271.13\"/>\n</g>\n<!-- 46 -->\n<g id=\"node54\" class=\"node\">\n<title>46</title>\n<polygon fill=\"none\" stroke=\"#000000\" points=\"2539.5,-253.5 2423.5,-253.5 2423.5,-200.5 2539.5,-200.5 2539.5,-253.5\"/>\n<text text-anchor=\"middle\" x=\"2481.5\" y=\"-238.3\" font-family=\"Times,serif\" font-size=\"14.00\" fill=\"#000000\">gini = 0.489</text>\n<text text-anchor=\"middle\" x=\"2481.5\" y=\"-223.3\" font-family=\"Times,serif\" font-size=\"14.00\" fill=\"#000000\">samples = 192</text>\n<text text-anchor=\"middle\" x=\"2481.5\" y=\"-208.3\" font-family=\"Times,serif\" font-size=\"14.00\" fill=\"#000000\">value = [82, 110]</text>\n</g>\n<!-- 44&#45;&gt;46 -->\n<g id=\"edge53\" class=\"edge\">\n<title>44&#45;&gt;46</title>\n<path fill=\"none\" stroke=\"#000000\" d=\"M2388.0138,-296.9465C2404.0606,-284.9403 2422.0519,-271.4791 2437.9339,-259.5962\"/>\n<polygon fill=\"#000000\" stroke=\"#000000\" points=\"2440.1152,-262.3354 2446.0254,-253.5422 2435.9217,-256.7306 2440.1152,-262.3354\"/>\n</g>\n<!-- 71 -->\n<g id=\"node50\" class=\"node\">\n<title>71</title>\n<polygon fill=\"none\" stroke=\"#000000\" points=\"2333,-149.5 2216,-149.5 2216,-96.5 2333,-96.5 2333,-149.5\"/>\n<text text-anchor=\"middle\" x=\"2274.5\" y=\"-134.3\" font-family=\"Times,serif\" font-size=\"14.00\" fill=\"#000000\">gini = 0.496</text>\n<text text-anchor=\"middle\" x=\"2274.5\" y=\"-119.3\" font-family=\"Times,serif\" font-size=\"14.00\" fill=\"#000000\">samples = 196</text>\n<text text-anchor=\"middle\" x=\"2274.5\" y=\"-104.3\" font-family=\"Times,serif\" font-size=\"14.00\" fill=\"#000000\">value = [107, 89]</text>\n</g>\n<!-- 45&#45;&gt;71 -->\n<g id=\"edge49\" class=\"edge\">\n<title>45&#45;&gt;71</title>\n<path fill=\"none\" stroke=\"#000000\" d=\"M2320.2343,-192.9465C2312.9602,-181.8215 2304.8694,-169.4473 2297.5396,-158.237\"/>\n<polygon fill=\"#000000\" stroke=\"#000000\" points=\"2300.2564,-155.9965 2291.8545,-149.5422 2294.3976,-159.8273 2300.2564,-155.9965\"/>\n</g>\n<!-- 72 -->\n<g id=\"node51\" class=\"node\">\n<title>72</title>\n<polygon fill=\"none\" stroke=\"#000000\" points=\"2468,-157 2351,-157 2351,-89 2468,-89 2468,-157\"/>\n<text text-anchor=\"middle\" x=\"2409.5\" y=\"-141.8\" font-family=\"Times,serif\" font-size=\"14.00\" fill=\"#000000\">X[12] &lt;= 997.25</text>\n<text text-anchor=\"middle\" x=\"2409.5\" y=\"-126.8\" font-family=\"Times,serif\" font-size=\"14.00\" fill=\"#000000\">gini = 0.352</text>\n<text text-anchor=\"middle\" x=\"2409.5\" y=\"-111.8\" font-family=\"Times,serif\" font-size=\"14.00\" fill=\"#000000\">samples = 386</text>\n<text text-anchor=\"middle\" x=\"2409.5\" y=\"-96.8\" font-family=\"Times,serif\" font-size=\"14.00\" fill=\"#000000\">value = [298, 88]</text>\n</g>\n<!-- 45&#45;&gt;72 -->\n<g id=\"edge50\" class=\"edge\">\n<title>45&#45;&gt;72</title>\n<path fill=\"none\" stroke=\"#000000\" d=\"M2364.4383,-192.9465C2370.049,-184.2373 2376.1529,-174.7626 2382.0042,-165.6801\"/>\n<polygon fill=\"#000000\" stroke=\"#000000\" points=\"2385.0389,-167.4321 2387.5124,-157.13 2379.1543,-163.641 2385.0389,-167.4321\"/>\n</g>\n<!-- 103 -->\n<g id=\"node52\" class=\"node\">\n<title>103</title>\n<polygon fill=\"none\" stroke=\"#000000\" points=\"2396.5,-53 2294.5,-53 2294.5,0 2396.5,0 2396.5,-53\"/>\n<text text-anchor=\"middle\" x=\"2345.5\" y=\"-37.8\" font-family=\"Times,serif\" font-size=\"14.00\" fill=\"#000000\">gini = 0.401</text>\n<text text-anchor=\"middle\" x=\"2345.5\" y=\"-22.8\" font-family=\"Times,serif\" font-size=\"14.00\" fill=\"#000000\">samples = 18</text>\n<text text-anchor=\"middle\" x=\"2345.5\" y=\"-7.8\" font-family=\"Times,serif\" font-size=\"14.00\" fill=\"#000000\">value = [5, 13]</text>\n</g>\n<!-- 72&#45;&gt;103 -->\n<g id=\"edge51\" class=\"edge\">\n<title>72&#45;&gt;103</title>\n<path fill=\"none\" stroke=\"#000000\" d=\"M2386.936,-88.9777C2381.1059,-80.187 2374.8169,-70.7044 2368.943,-61.8477\"/>\n<polygon fill=\"#000000\" stroke=\"#000000\" points=\"2371.6838,-59.6478 2363.2399,-53.2485 2365.8502,-63.5167 2371.6838,-59.6478\"/>\n</g>\n<!-- 104 -->\n<g id=\"node53\" class=\"node\">\n<title>104</title>\n<polygon fill=\"none\" stroke=\"#000000\" points=\"2532,-53 2415,-53 2415,0 2532,0 2532,-53\"/>\n<text text-anchor=\"middle\" x=\"2473.5\" y=\"-37.8\" font-family=\"Times,serif\" font-size=\"14.00\" fill=\"#000000\">gini = 0.325</text>\n<text text-anchor=\"middle\" x=\"2473.5\" y=\"-22.8\" font-family=\"Times,serif\" font-size=\"14.00\" fill=\"#000000\">samples = 368</text>\n<text text-anchor=\"middle\" x=\"2473.5\" y=\"-7.8\" font-family=\"Times,serif\" font-size=\"14.00\" fill=\"#000000\">value = [293, 75]</text>\n</g>\n<!-- 72&#45;&gt;104 -->\n<g id=\"edge52\" class=\"edge\">\n<title>72&#45;&gt;104</title>\n<path fill=\"none\" stroke=\"#000000\" d=\"M2432.064,-88.9777C2437.8941,-80.187 2444.1831,-70.7044 2450.057,-61.8477\"/>\n<polygon fill=\"#000000\" stroke=\"#000000\" points=\"2453.1498,-63.5167 2455.7601,-53.2485 2447.3162,-59.6478 2453.1498,-63.5167\"/>\n</g>\n<!-- 83 -->\n<g id=\"node56\" class=\"node\">\n<title>83</title>\n<polygon fill=\"none\" stroke=\"#000000\" points=\"2555.5,-357.5 2423.5,-357.5 2423.5,-304.5 2555.5,-304.5 2555.5,-357.5\"/>\n<text text-anchor=\"middle\" x=\"2489.5\" y=\"-342.3\" font-family=\"Times,serif\" font-size=\"14.00\" fill=\"#000000\">gini = 0.125</text>\n<text text-anchor=\"middle\" x=\"2489.5\" y=\"-327.3\" font-family=\"Times,serif\" font-size=\"14.00\" fill=\"#000000\">samples = 1967</text>\n<text text-anchor=\"middle\" x=\"2489.5\" y=\"-312.3\" font-family=\"Times,serif\" font-size=\"14.00\" fill=\"#000000\">value = [1835, 132]</text>\n</g>\n<!-- 16&#45;&gt;83 -->\n<g id=\"edge55\" class=\"edge\">\n<title>16&#45;&gt;83</title>\n<path fill=\"none\" stroke=\"#000000\" d=\"M2538.5971,-400.9465C2530.7108,-389.7113 2521.9303,-377.2021 2514.0002,-365.9043\"/>\n<polygon fill=\"#000000\" stroke=\"#000000\" points=\"2516.7405,-363.7163 2508.1306,-357.5422 2511.0111,-367.7379 2516.7405,-363.7163\"/>\n</g>\n<!-- 84 -->\n<g id=\"node57\" class=\"node\">\n<title>84</title>\n<polygon fill=\"none\" stroke=\"#000000\" points=\"2691,-357.5 2574,-357.5 2574,-304.5 2691,-304.5 2691,-357.5\"/>\n<text text-anchor=\"middle\" x=\"2632.5\" y=\"-342.3\" font-family=\"Times,serif\" font-size=\"14.00\" fill=\"#000000\">gini = 0.348</text>\n<text text-anchor=\"middle\" x=\"2632.5\" y=\"-327.3\" font-family=\"Times,serif\" font-size=\"14.00\" fill=\"#000000\">samples = 254</text>\n<text text-anchor=\"middle\" x=\"2632.5\" y=\"-312.3\" font-family=\"Times,serif\" font-size=\"14.00\" fill=\"#000000\">value = [197, 57]</text>\n</g>\n<!-- 16&#45;&gt;84 -->\n<g id=\"edge56\" class=\"edge\">\n<title>16&#45;&gt;84</title>\n<path fill=\"none\" stroke=\"#000000\" d=\"M2585.4206,-400.9465C2592.9828,-389.7113 2601.4024,-377.2021 2609.0067,-365.9043\"/>\n<polygon fill=\"#000000\" stroke=\"#000000\" points=\"2611.9548,-367.7924 2614.6351,-357.5422 2606.1477,-363.8837 2611.9548,-367.7924\"/>\n</g>\n<!-- 21 -->\n<g id=\"node59\" class=\"node\">\n<title>21</title>\n<polygon fill=\"none\" stroke=\"#000000\" points=\"2922.5,-469 2782.5,-469 2782.5,-401 2922.5,-401 2922.5,-469\"/>\n<text text-anchor=\"middle\" x=\"2852.5\" y=\"-453.8\" font-family=\"Times,serif\" font-size=\"14.00\" fill=\"#000000\">X[4] &lt;= 9.35</text>\n<text text-anchor=\"middle\" x=\"2852.5\" y=\"-438.8\" font-family=\"Times,serif\" font-size=\"14.00\" fill=\"#000000\">gini = 0.063</text>\n<text text-anchor=\"middle\" x=\"2852.5\" y=\"-423.8\" font-family=\"Times,serif\" font-size=\"14.00\" fill=\"#000000\">samples = 16381</text>\n<text text-anchor=\"middle\" x=\"2852.5\" y=\"-408.8\" font-family=\"Times,serif\" font-size=\"14.00\" fill=\"#000000\">value = [15849, 532]</text>\n</g>\n<!-- 14&#45;&gt;21 -->\n<g id=\"edge58\" class=\"edge\">\n<title>14&#45;&gt;21</title>\n<path fill=\"none\" stroke=\"#000000\" d=\"M2852.5,-504.9465C2852.5,-496.776 2852.5,-487.9318 2852.5,-479.3697\"/>\n<polygon fill=\"#000000\" stroke=\"#000000\" points=\"2856.0001,-479.13 2852.5,-469.13 2849.0001,-479.13 2856.0001,-479.13\"/>\n</g>\n<!-- 22 -->\n<g id=\"node64\" class=\"node\">\n<title>22</title>\n<polygon fill=\"none\" stroke=\"#000000\" points=\"3149.5,-469 3017.5,-469 3017.5,-401 3149.5,-401 3149.5,-469\"/>\n<text text-anchor=\"middle\" x=\"3083.5\" y=\"-453.8\" font-family=\"Times,serif\" font-size=\"14.00\" fill=\"#000000\">X[5] &lt;= 49.0</text>\n<text text-anchor=\"middle\" x=\"3083.5\" y=\"-438.8\" font-family=\"Times,serif\" font-size=\"14.00\" fill=\"#000000\">gini = 0.202</text>\n<text text-anchor=\"middle\" x=\"3083.5\" y=\"-423.8\" font-family=\"Times,serif\" font-size=\"14.00\" fill=\"#000000\">samples = 4962</text>\n<text text-anchor=\"middle\" x=\"3083.5\" y=\"-408.8\" font-family=\"Times,serif\" font-size=\"14.00\" fill=\"#000000\">value = [4395, 567]</text>\n</g>\n<!-- 14&#45;&gt;22 -->\n<g id=\"edge63\" class=\"edge\">\n<title>14&#45;&gt;22</title>\n<path fill=\"none\" stroke=\"#000000\" d=\"M2926.225,-505.8078C2952.3279,-494.0559 2981.7207,-480.8227 3007.9713,-469.0043\"/>\n<polygon fill=\"#000000\" stroke=\"#000000\" points=\"3009.4333,-472.1845 3017.1149,-464.8877 3006.5595,-465.8015 3009.4333,-472.1845\"/>\n</g>\n<!-- 67 -->\n<g id=\"node60\" class=\"node\">\n<title>67</title>\n<polygon fill=\"none\" stroke=\"#000000\" points=\"2841.5,-365 2709.5,-365 2709.5,-297 2841.5,-297 2841.5,-365\"/>\n<text text-anchor=\"middle\" x=\"2775.5\" y=\"-349.8\" font-family=\"Times,serif\" font-size=\"14.00\" fill=\"#000000\">X[12] &lt;= 1012.85</text>\n<text text-anchor=\"middle\" x=\"2775.5\" y=\"-334.8\" font-family=\"Times,serif\" font-size=\"14.00\" fill=\"#000000\">gini = 0.138</text>\n<text text-anchor=\"middle\" x=\"2775.5\" y=\"-319.8\" font-family=\"Times,serif\" font-size=\"14.00\" fill=\"#000000\">samples = 3350</text>\n<text text-anchor=\"middle\" x=\"2775.5\" y=\"-304.8\" font-family=\"Times,serif\" font-size=\"14.00\" fill=\"#000000\">value = [3100, 250]</text>\n</g>\n<!-- 21&#45;&gt;67 -->\n<g id=\"edge59\" class=\"edge\">\n<title>21&#45;&gt;67</title>\n<path fill=\"none\" stroke=\"#000000\" d=\"M2827.2873,-400.9465C2820.7727,-392.1475 2813.6795,-382.5672 2806.8918,-373.3993\"/>\n<polygon fill=\"#000000\" stroke=\"#000000\" points=\"2809.5327,-371.0843 2800.7693,-365.13 2803.9069,-375.2496 2809.5327,-371.0843\"/>\n</g>\n<!-- 68 -->\n<g id=\"node63\" class=\"node\">\n<title>68</title>\n<polygon fill=\"none\" stroke=\"#000000\" points=\"2999.5,-357.5 2859.5,-357.5 2859.5,-304.5 2999.5,-304.5 2999.5,-357.5\"/>\n<text text-anchor=\"middle\" x=\"2929.5\" y=\"-342.3\" font-family=\"Times,serif\" font-size=\"14.00\" fill=\"#000000\">gini = 0.042</text>\n<text text-anchor=\"middle\" x=\"2929.5\" y=\"-327.3\" font-family=\"Times,serif\" font-size=\"14.00\" fill=\"#000000\">samples = 13031</text>\n<text text-anchor=\"middle\" x=\"2929.5\" y=\"-312.3\" font-family=\"Times,serif\" font-size=\"14.00\" fill=\"#000000\">value = [12749, 282]</text>\n</g>\n<!-- 21&#45;&gt;68 -->\n<g id=\"edge62\" class=\"edge\">\n<title>21&#45;&gt;68</title>\n<path fill=\"none\" stroke=\"#000000\" d=\"M2877.7127,-400.9465C2886.0311,-389.7113 2895.2927,-377.2021 2903.6574,-365.9043\"/>\n<polygon fill=\"#000000\" stroke=\"#000000\" points=\"2906.7111,-367.6618 2909.8486,-357.5422 2901.0852,-363.4965 2906.7111,-367.6618\"/>\n</g>\n<!-- 75 -->\n<g id=\"node61\" class=\"node\">\n<title>75</title>\n<polygon fill=\"none\" stroke=\"#000000\" points=\"2699.5,-253.5 2575.5,-253.5 2575.5,-200.5 2699.5,-200.5 2699.5,-253.5\"/>\n<text text-anchor=\"middle\" x=\"2637.5\" y=\"-238.3\" font-family=\"Times,serif\" font-size=\"14.00\" fill=\"#000000\">gini = 0.267</text>\n<text text-anchor=\"middle\" x=\"2637.5\" y=\"-223.3\" font-family=\"Times,serif\" font-size=\"14.00\" fill=\"#000000\">samples = 692</text>\n<text text-anchor=\"middle\" x=\"2637.5\" y=\"-208.3\" font-family=\"Times,serif\" font-size=\"14.00\" fill=\"#000000\">value = [582, 110]</text>\n</g>\n<!-- 67&#45;&gt;75 -->\n<g id=\"edge60\" class=\"edge\">\n<title>67&#45;&gt;75</title>\n<path fill=\"none\" stroke=\"#000000\" d=\"M2730.3136,-296.9465C2714.3823,-284.9403 2696.5204,-271.4791 2680.7527,-259.5962\"/>\n<polygon fill=\"#000000\" stroke=\"#000000\" points=\"2682.812,-256.7656 2672.7194,-253.5422 2678.599,-262.3558 2682.812,-256.7656\"/>\n</g>\n<!-- 76 -->\n<g id=\"node62\" class=\"node\">\n<title>76</title>\n<polygon fill=\"none\" stroke=\"#000000\" points=\"2849.5,-253.5 2717.5,-253.5 2717.5,-200.5 2849.5,-200.5 2849.5,-253.5\"/>\n<text text-anchor=\"middle\" x=\"2783.5\" y=\"-238.3\" font-family=\"Times,serif\" font-size=\"14.00\" fill=\"#000000\">gini = 0.1</text>\n<text text-anchor=\"middle\" x=\"2783.5\" y=\"-223.3\" font-family=\"Times,serif\" font-size=\"14.00\" fill=\"#000000\">samples = 2658</text>\n<text text-anchor=\"middle\" x=\"2783.5\" y=\"-208.3\" font-family=\"Times,serif\" font-size=\"14.00\" fill=\"#000000\">value = [2518, 140]</text>\n</g>\n<!-- 67&#45;&gt;76 -->\n<g id=\"edge61\" class=\"edge\">\n<title>67&#45;&gt;76</title>\n<path fill=\"none\" stroke=\"#000000\" d=\"M2778.1195,-296.9465C2778.9414,-286.2621 2779.8519,-274.4254 2780.6866,-263.5742\"/>\n<polygon fill=\"#000000\" stroke=\"#000000\" points=\"2784.1809,-263.7812 2781.4583,-253.5422 2777.2015,-263.2442 2784.1809,-263.7812\"/>\n</g>\n<!-- 33 -->\n<g id=\"node65\" class=\"node\">\n<title>33</title>\n<polygon fill=\"none\" stroke=\"#000000\" points=\"3149.5,-365 3017.5,-365 3017.5,-297 3149.5,-297 3149.5,-365\"/>\n<text text-anchor=\"middle\" x=\"3083.5\" y=\"-349.8\" font-family=\"Times,serif\" font-size=\"14.00\" fill=\"#000000\">X[2] &lt;= 1.9</text>\n<text text-anchor=\"middle\" x=\"3083.5\" y=\"-334.8\" font-family=\"Times,serif\" font-size=\"14.00\" fill=\"#000000\">gini = 0.168</text>\n<text text-anchor=\"middle\" x=\"3083.5\" y=\"-319.8\" font-family=\"Times,serif\" font-size=\"14.00\" fill=\"#000000\">samples = 4298</text>\n<text text-anchor=\"middle\" x=\"3083.5\" y=\"-304.8\" font-family=\"Times,serif\" font-size=\"14.00\" fill=\"#000000\">value = [3901, 397]</text>\n</g>\n<!-- 22&#45;&gt;33 -->\n<g id=\"edge64\" class=\"edge\">\n<title>22&#45;&gt;33</title>\n<path fill=\"none\" stroke=\"#000000\" d=\"M3083.5,-400.9465C3083.5,-392.776 3083.5,-383.9318 3083.5,-375.3697\"/>\n<polygon fill=\"#000000\" stroke=\"#000000\" points=\"3087.0001,-375.13 3083.5,-365.13 3080.0001,-375.13 3087.0001,-375.13\"/>\n</g>\n<!-- 34 -->\n<g id=\"node68\" class=\"node\">\n<title>34</title>\n<polygon fill=\"none\" stroke=\"#000000\" points=\"3293,-365 3168,-365 3168,-297 3293,-297 3293,-365\"/>\n<text text-anchor=\"middle\" x=\"3230.5\" y=\"-349.8\" font-family=\"Times,serif\" font-size=\"14.00\" fill=\"#000000\">X[4] &lt;= 9.85</text>\n<text text-anchor=\"middle\" x=\"3230.5\" y=\"-334.8\" font-family=\"Times,serif\" font-size=\"14.00\" fill=\"#000000\">gini = 0.381</text>\n<text text-anchor=\"middle\" x=\"3230.5\" y=\"-319.8\" font-family=\"Times,serif\" font-size=\"14.00\" fill=\"#000000\">samples = 664</text>\n<text text-anchor=\"middle\" x=\"3230.5\" y=\"-304.8\" font-family=\"Times,serif\" font-size=\"14.00\" fill=\"#000000\">value = [494, 170]</text>\n</g>\n<!-- 22&#45;&gt;34 -->\n<g id=\"edge67\" class=\"edge\">\n<title>22&#45;&gt;34</title>\n<path fill=\"none\" stroke=\"#000000\" d=\"M3131.6333,-400.9465C3145.0856,-391.4293 3159.83,-380.9978 3173.7312,-371.163\"/>\n<polygon fill=\"#000000\" stroke=\"#000000\" points=\"3176.1165,-373.7628 3182.2586,-365.13 3172.0736,-368.0483 3176.1165,-373.7628\"/>\n</g>\n<!-- 81 -->\n<g id=\"node66\" class=\"node\">\n<title>81</title>\n<polygon fill=\"none\" stroke=\"#000000\" points=\"3006.5,-253.5 2874.5,-253.5 2874.5,-200.5 3006.5,-200.5 3006.5,-253.5\"/>\n<text text-anchor=\"middle\" x=\"2940.5\" y=\"-238.3\" font-family=\"Times,serif\" font-size=\"14.00\" fill=\"#000000\">gini = 0.146</text>\n<text text-anchor=\"middle\" x=\"2940.5\" y=\"-223.3\" font-family=\"Times,serif\" font-size=\"14.00\" fill=\"#000000\">samples = 3820</text>\n<text text-anchor=\"middle\" x=\"2940.5\" y=\"-208.3\" font-family=\"Times,serif\" font-size=\"14.00\" fill=\"#000000\">value = [3517, 303]</text>\n</g>\n<!-- 33&#45;&gt;81 -->\n<g id=\"edge65\" class=\"edge\">\n<title>33&#45;&gt;81</title>\n<path fill=\"none\" stroke=\"#000000\" d=\"M3036.6765,-296.9465C3020.1679,-284.9403 3001.6588,-271.4791 2985.3198,-259.5962\"/>\n<polygon fill=\"#000000\" stroke=\"#000000\" points=\"2987.1415,-256.5933 2976.9955,-253.5422 2983.0242,-262.2545 2987.1415,-256.5933\"/>\n</g>\n<!-- 82 -->\n<g id=\"node67\" class=\"node\">\n<title>82</title>\n<polygon fill=\"none\" stroke=\"#000000\" points=\"3142,-253.5 3025,-253.5 3025,-200.5 3142,-200.5 3142,-253.5\"/>\n<text text-anchor=\"middle\" x=\"3083.5\" y=\"-238.3\" font-family=\"Times,serif\" font-size=\"14.00\" fill=\"#000000\">gini = 0.316</text>\n<text text-anchor=\"middle\" x=\"3083.5\" y=\"-223.3\" font-family=\"Times,serif\" font-size=\"14.00\" fill=\"#000000\">samples = 478</text>\n<text text-anchor=\"middle\" x=\"3083.5\" y=\"-208.3\" font-family=\"Times,serif\" font-size=\"14.00\" fill=\"#000000\">value = [384, 94]</text>\n</g>\n<!-- 33&#45;&gt;82 -->\n<g id=\"edge66\" class=\"edge\">\n<title>33&#45;&gt;82</title>\n<path fill=\"none\" stroke=\"#000000\" d=\"M3083.5,-296.9465C3083.5,-286.2621 3083.5,-274.4254 3083.5,-263.5742\"/>\n<polygon fill=\"#000000\" stroke=\"#000000\" points=\"3087.0001,-263.5421 3083.5,-253.5422 3080.0001,-263.5422 3087.0001,-263.5421\"/>\n</g>\n<!-- 65 -->\n<g id=\"node69\" class=\"node\">\n<title>65</title>\n<polygon fill=\"none\" stroke=\"#000000\" points=\"3285,-261 3160,-261 3160,-193 3285,-193 3285,-261\"/>\n<text text-anchor=\"middle\" x=\"3222.5\" y=\"-245.8\" font-family=\"Times,serif\" font-size=\"14.00\" fill=\"#000000\">X[12] &lt;= 1012.45</text>\n<text text-anchor=\"middle\" x=\"3222.5\" y=\"-230.8\" font-family=\"Times,serif\" font-size=\"14.00\" fill=\"#000000\">gini = 0.446</text>\n<text text-anchor=\"middle\" x=\"3222.5\" y=\"-215.8\" font-family=\"Times,serif\" font-size=\"14.00\" fill=\"#000000\">samples = 426</text>\n<text text-anchor=\"middle\" x=\"3222.5\" y=\"-200.8\" font-family=\"Times,serif\" font-size=\"14.00\" fill=\"#000000\">value = [283, 143]</text>\n</g>\n<!-- 34&#45;&gt;65 -->\n<g id=\"edge68\" class=\"edge\">\n<title>34&#45;&gt;65</title>\n<path fill=\"none\" stroke=\"#000000\" d=\"M3227.8805,-296.9465C3227.252,-288.776 3226.5717,-279.9318 3225.9131,-271.3697\"/>\n<polygon fill=\"#000000\" stroke=\"#000000\" points=\"3229.3821,-270.8321 3225.1254,-261.13 3222.4027,-271.369 3229.3821,-270.8321\"/>\n</g>\n<!-- 66 -->\n<g id=\"node72\" class=\"node\">\n<title>66</title>\n<polygon fill=\"none\" stroke=\"#000000\" points=\"3419.5,-253.5 3303.5,-253.5 3303.5,-200.5 3419.5,-200.5 3419.5,-253.5\"/>\n<text text-anchor=\"middle\" x=\"3361.5\" y=\"-238.3\" font-family=\"Times,serif\" font-size=\"14.00\" fill=\"#000000\">gini = 0.201</text>\n<text text-anchor=\"middle\" x=\"3361.5\" y=\"-223.3\" font-family=\"Times,serif\" font-size=\"14.00\" fill=\"#000000\">samples = 238</text>\n<text text-anchor=\"middle\" x=\"3361.5\" y=\"-208.3\" font-family=\"Times,serif\" font-size=\"14.00\" fill=\"#000000\">value = [211, 27]</text>\n</g>\n<!-- 34&#45;&gt;66 -->\n<g id=\"edge71\" class=\"edge\">\n<title>34&#45;&gt;66</title>\n<path fill=\"none\" stroke=\"#000000\" d=\"M3273.3943,-296.9465C3288.3788,-285.0504 3305.1624,-271.726 3320.0288,-259.9237\"/>\n<polygon fill=\"#000000\" stroke=\"#000000\" points=\"3322.4113,-262.5011 3328.0671,-253.5422 3318.0589,-257.0187 3322.4113,-262.5011\"/>\n</g>\n<!-- 91 -->\n<g id=\"node70\" class=\"node\">\n<title>91</title>\n<polygon fill=\"none\" stroke=\"#000000\" points=\"3243.5,-149.5 3133.5,-149.5 3133.5,-96.5 3243.5,-96.5 3243.5,-149.5\"/>\n<text text-anchor=\"middle\" x=\"3188.5\" y=\"-134.3\" font-family=\"Times,serif\" font-size=\"14.00\" fill=\"#000000\">gini = 0.5</text>\n<text text-anchor=\"middle\" x=\"3188.5\" y=\"-119.3\" font-family=\"Times,serif\" font-size=\"14.00\" fill=\"#000000\">samples = 124</text>\n<text text-anchor=\"middle\" x=\"3188.5\" y=\"-104.3\" font-family=\"Times,serif\" font-size=\"14.00\" fill=\"#000000\">value = [61, 63]</text>\n</g>\n<!-- 65&#45;&gt;91 -->\n<g id=\"edge69\" class=\"edge\">\n<title>65&#45;&gt;91</title>\n<path fill=\"none\" stroke=\"#000000\" d=\"M3211.3671,-192.9465C3207.8381,-182.1519 3203.9246,-170.1813 3200.3473,-159.2389\"/>\n<polygon fill=\"#000000\" stroke=\"#000000\" points=\"3203.6114,-157.9595 3197.1772,-149.5422 3196.958,-160.1347 3203.6114,-157.9595\"/>\n</g>\n<!-- 92 -->\n<g id=\"node71\" class=\"node\">\n<title>92</title>\n<polygon fill=\"none\" stroke=\"#000000\" points=\"3379,-149.5 3262,-149.5 3262,-96.5 3379,-96.5 3379,-149.5\"/>\n<text text-anchor=\"middle\" x=\"3320.5\" y=\"-134.3\" font-family=\"Times,serif\" font-size=\"14.00\" fill=\"#000000\">gini = 0.389</text>\n<text text-anchor=\"middle\" x=\"3320.5\" y=\"-119.3\" font-family=\"Times,serif\" font-size=\"14.00\" fill=\"#000000\">samples = 302</text>\n<text text-anchor=\"middle\" x=\"3320.5\" y=\"-104.3\" font-family=\"Times,serif\" font-size=\"14.00\" fill=\"#000000\">value = [222, 80]</text>\n</g>\n<!-- 65&#45;&gt;92 -->\n<g id=\"edge70\" class=\"edge\">\n<title>65&#45;&gt;92</title>\n<path fill=\"none\" stroke=\"#000000\" d=\"M3254.5889,-192.9465C3265.4873,-181.3809 3277.6578,-168.4652 3288.5457,-156.9107\"/>\n<polygon fill=\"#000000\" stroke=\"#000000\" points=\"3291.1783,-159.2204 3295.4891,-149.5422 3286.0838,-154.4198 3291.1783,-159.2204\"/>\n</g>\n<!-- 5 -->\n<g id=\"node74\" class=\"node\">\n<title>5</title>\n<polygon fill=\"none\" stroke=\"#000000\" points=\"4054,-677 3915,-677 3915,-609 4054,-609 4054,-677\"/>\n<text text-anchor=\"middle\" x=\"3984.5\" y=\"-661.8\" font-family=\"Times,serif\" font-size=\"14.00\" fill=\"#000000\">X[5] &lt;= 42.0</text>\n<text text-anchor=\"middle\" x=\"3984.5\" y=\"-646.8\" font-family=\"Times,serif\" font-size=\"14.00\" fill=\"#000000\">gini = 0.5</text>\n<text text-anchor=\"middle\" x=\"3984.5\" y=\"-631.8\" font-family=\"Times,serif\" font-size=\"14.00\" fill=\"#000000\">samples = 4149</text>\n<text text-anchor=\"middle\" x=\"3984.5\" y=\"-616.8\" font-family=\"Times,serif\" font-size=\"14.00\" fill=\"#000000\">value = [2033, 2116]</text>\n</g>\n<!-- 2&#45;&gt;5 -->\n<g id=\"edge73\" class=\"edge\">\n<title>2&#45;&gt;5</title>\n<path fill=\"none\" stroke=\"#000000\" d=\"M3984.5,-712.9465C3984.5,-704.776 3984.5,-695.9318 3984.5,-687.3697\"/>\n<polygon fill=\"#000000\" stroke=\"#000000\" points=\"3988.0001,-687.13 3984.5,-677.13 3981.0001,-687.13 3988.0001,-687.13\"/>\n</g>\n<!-- 6 -->\n<g id=\"node99\" class=\"node\">\n<title>6</title>\n<polygon fill=\"none\" stroke=\"#000000\" points=\"4873.5,-677 4741.5,-677 4741.5,-609 4873.5,-609 4873.5,-677\"/>\n<text text-anchor=\"middle\" x=\"4807.5\" y=\"-661.8\" font-family=\"Times,serif\" font-size=\"14.00\" fill=\"#000000\">X[12] &lt;= 1020.75</text>\n<text text-anchor=\"middle\" x=\"4807.5\" y=\"-646.8\" font-family=\"Times,serif\" font-size=\"14.00\" fill=\"#000000\">gini = 0.255</text>\n<text text-anchor=\"middle\" x=\"4807.5\" y=\"-631.8\" font-family=\"Times,serif\" font-size=\"14.00\" fill=\"#000000\">samples = 2954</text>\n<text text-anchor=\"middle\" x=\"4807.5\" y=\"-616.8\" font-family=\"Times,serif\" font-size=\"14.00\" fill=\"#000000\">value = [444, 2510]</text>\n</g>\n<!-- 2&#45;&gt;6 -->\n<g id=\"edge98\" class=\"edge\">\n<title>2&#45;&gt;6</title>\n<path fill=\"none\" stroke=\"#000000\" d=\"M4054.6685,-738.133C4208.052,-718.7504 4572.1559,-672.7397 4731.0847,-652.6564\"/>\n<polygon fill=\"#000000\" stroke=\"#000000\" points=\"4731.7697,-656.0977 4741.2519,-651.3716 4730.892,-649.153 4731.7697,-656.0977\"/>\n</g>\n<!-- 9 -->\n<g id=\"node75\" class=\"node\">\n<title>9</title>\n<polygon fill=\"none\" stroke=\"#000000\" points=\"3909.5,-573 3777.5,-573 3777.5,-505 3909.5,-505 3909.5,-573\"/>\n<text text-anchor=\"middle\" x=\"3843.5\" y=\"-557.8\" font-family=\"Times,serif\" font-size=\"14.00\" fill=\"#000000\">X[12] &lt;= 1012.85</text>\n<text text-anchor=\"middle\" x=\"3843.5\" y=\"-542.8\" font-family=\"Times,serif\" font-size=\"14.00\" fill=\"#000000\">gini = 0.479</text>\n<text text-anchor=\"middle\" x=\"3843.5\" y=\"-527.8\" font-family=\"Times,serif\" font-size=\"14.00\" fill=\"#000000\">samples = 2341</text>\n<text text-anchor=\"middle\" x=\"3843.5\" y=\"-512.8\" font-family=\"Times,serif\" font-size=\"14.00\" fill=\"#000000\">value = [1408, 933]</text>\n</g>\n<!-- 5&#45;&gt;9 -->\n<g id=\"edge74\" class=\"edge\">\n<title>5&#45;&gt;9</title>\n<path fill=\"none\" stroke=\"#000000\" d=\"M3938.3313,-608.9465C3925.4281,-599.4293 3911.2855,-588.9978 3897.9517,-579.163\"/>\n<polygon fill=\"#000000\" stroke=\"#000000\" points=\"3899.8977,-576.2492 3889.7724,-573.13 3895.7425,-581.8826 3899.8977,-576.2492\"/>\n</g>\n<!-- 10 -->\n<g id=\"node88\" class=\"node\">\n<title>10</title>\n<polygon fill=\"none\" stroke=\"#000000\" points=\"4190,-573 4059,-573 4059,-505 4190,-505 4190,-573\"/>\n<text text-anchor=\"middle\" x=\"4124.5\" y=\"-557.8\" font-family=\"Times,serif\" font-size=\"14.00\" fill=\"#000000\">X[4] &lt;= 8.05</text>\n<text text-anchor=\"middle\" x=\"4124.5\" y=\"-542.8\" font-family=\"Times,serif\" font-size=\"14.00\" fill=\"#000000\">gini = 0.452</text>\n<text text-anchor=\"middle\" x=\"4124.5\" y=\"-527.8\" font-family=\"Times,serif\" font-size=\"14.00\" fill=\"#000000\">samples = 1808</text>\n<text text-anchor=\"middle\" x=\"4124.5\" y=\"-512.8\" font-family=\"Times,serif\" font-size=\"14.00\" fill=\"#000000\">value = [625, 1183]</text>\n</g>\n<!-- 5&#45;&gt;10 -->\n<g id=\"edge87\" class=\"edge\">\n<title>5&#45;&gt;10</title>\n<path fill=\"none\" stroke=\"#000000\" d=\"M4030.3412,-608.9465C4043.1529,-599.4293 4057.1952,-588.9978 4070.4344,-579.163\"/>\n<polygon fill=\"#000000\" stroke=\"#000000\" points=\"4072.6155,-581.9029 4078.5558,-573.13 4068.4412,-576.2837 4072.6155,-581.9029\"/>\n</g>\n<!-- 27 -->\n<g id=\"node76\" class=\"node\">\n<title>27</title>\n<polygon fill=\"none\" stroke=\"#000000\" points=\"3694,-469 3569,-469 3569,-401 3694,-401 3694,-469\"/>\n<text text-anchor=\"middle\" x=\"3631.5\" y=\"-453.8\" font-family=\"Times,serif\" font-size=\"14.00\" fill=\"#000000\">X[4] &lt;= 8.35</text>\n<text text-anchor=\"middle\" x=\"3631.5\" y=\"-438.8\" font-family=\"Times,serif\" font-size=\"14.00\" fill=\"#000000\">gini = 0.499</text>\n<text text-anchor=\"middle\" x=\"3631.5\" y=\"-423.8\" font-family=\"Times,serif\" font-size=\"14.00\" fill=\"#000000\">samples = 870</text>\n<text text-anchor=\"middle\" x=\"3631.5\" y=\"-408.8\" font-family=\"Times,serif\" font-size=\"14.00\" fill=\"#000000\">value = [417, 453]</text>\n</g>\n<!-- 9&#45;&gt;27 -->\n<g id=\"edge75\" class=\"edge\">\n<title>9&#45;&gt;27</title>\n<path fill=\"none\" stroke=\"#000000\" d=\"M3777.2939,-506.5215C3753.8092,-495.0007 3727.2759,-481.9844 3703.3435,-470.244\"/>\n<polygon fill=\"#000000\" stroke=\"#000000\" points=\"3704.8297,-467.0746 3694.3103,-465.8126 3701.7467,-473.3592 3704.8297,-467.0746\"/>\n</g>\n<!-- 28 -->\n<g id=\"node83\" class=\"node\">\n<title>28</title>\n<polygon fill=\"none\" stroke=\"#000000\" points=\"3906,-469 3781,-469 3781,-401 3906,-401 3906,-469\"/>\n<text text-anchor=\"middle\" x=\"3843.5\" y=\"-453.8\" font-family=\"Times,serif\" font-size=\"14.00\" fill=\"#000000\">X[2] &lt;= 2.1</text>\n<text text-anchor=\"middle\" x=\"3843.5\" y=\"-438.8\" font-family=\"Times,serif\" font-size=\"14.00\" fill=\"#000000\">gini = 0.44</text>\n<text text-anchor=\"middle\" x=\"3843.5\" y=\"-423.8\" font-family=\"Times,serif\" font-size=\"14.00\" fill=\"#000000\">samples = 1471</text>\n<text text-anchor=\"middle\" x=\"3843.5\" y=\"-408.8\" font-family=\"Times,serif\" font-size=\"14.00\" fill=\"#000000\">value = [991, 480]</text>\n</g>\n<!-- 9&#45;&gt;28 -->\n<g id=\"edge82\" class=\"edge\">\n<title>9&#45;&gt;28</title>\n<path fill=\"none\" stroke=\"#000000\" d=\"M3843.5,-504.9465C3843.5,-496.776 3843.5,-487.9318 3843.5,-479.3697\"/>\n<polygon fill=\"#000000\" stroke=\"#000000\" points=\"3847.0001,-479.13 3843.5,-469.13 3840.0001,-479.13 3847.0001,-479.13\"/>\n</g>\n<!-- 37 -->\n<g id=\"node77\" class=\"node\">\n<title>37</title>\n<polygon fill=\"none\" stroke=\"#000000\" points=\"3555,-365 3430,-365 3430,-297 3555,-297 3555,-365\"/>\n<text text-anchor=\"middle\" x=\"3492.5\" y=\"-349.8\" font-family=\"Times,serif\" font-size=\"14.00\" fill=\"#000000\">X[5] &lt;= 29.0</text>\n<text text-anchor=\"middle\" x=\"3492.5\" y=\"-334.8\" font-family=\"Times,serif\" font-size=\"14.00\" fill=\"#000000\">gini = 0.486</text>\n<text text-anchor=\"middle\" x=\"3492.5\" y=\"-319.8\" font-family=\"Times,serif\" font-size=\"14.00\" fill=\"#000000\">samples = 694</text>\n<text text-anchor=\"middle\" x=\"3492.5\" y=\"-304.8\" font-family=\"Times,serif\" font-size=\"14.00\" fill=\"#000000\">value = [289, 405]</text>\n</g>\n<!-- 27&#45;&gt;37 -->\n<g id=\"edge76\" class=\"edge\">\n<title>27&#45;&gt;37</title>\n<path fill=\"none\" stroke=\"#000000\" d=\"M3585.9862,-400.9465C3573.266,-391.4293 3559.324,-380.9978 3546.1794,-371.163\"/>\n<polygon fill=\"#000000\" stroke=\"#000000\" points=\"3548.2198,-368.3184 3538.1161,-365.13 3544.0262,-373.9232 3548.2198,-368.3184\"/>\n</g>\n<!-- 38 -->\n<g id=\"node82\" class=\"node\">\n<title>38</title>\n<polygon fill=\"none\" stroke=\"#000000\" points=\"3690,-357.5 3573,-357.5 3573,-304.5 3690,-304.5 3690,-357.5\"/>\n<text text-anchor=\"middle\" x=\"3631.5\" y=\"-342.3\" font-family=\"Times,serif\" font-size=\"14.00\" fill=\"#000000\">gini = 0.397</text>\n<text text-anchor=\"middle\" x=\"3631.5\" y=\"-327.3\" font-family=\"Times,serif\" font-size=\"14.00\" fill=\"#000000\">samples = 176</text>\n<text text-anchor=\"middle\" x=\"3631.5\" y=\"-312.3\" font-family=\"Times,serif\" font-size=\"14.00\" fill=\"#000000\">value = [128, 48]</text>\n</g>\n<!-- 27&#45;&gt;38 -->\n<g id=\"edge81\" class=\"edge\">\n<title>27&#45;&gt;38</title>\n<path fill=\"none\" stroke=\"#000000\" d=\"M3631.5,-400.9465C3631.5,-390.2621 3631.5,-378.4254 3631.5,-367.5742\"/>\n<polygon fill=\"#000000\" stroke=\"#000000\" points=\"3635.0001,-367.5421 3631.5,-357.5422 3628.0001,-367.5422 3635.0001,-367.5421\"/>\n</g>\n<!-- 85 -->\n<g id=\"node78\" class=\"node\">\n<title>85</title>\n<polygon fill=\"none\" stroke=\"#000000\" points=\"3547.5,-253.5 3437.5,-253.5 3437.5,-200.5 3547.5,-200.5 3547.5,-253.5\"/>\n<text text-anchor=\"middle\" x=\"3492.5\" y=\"-238.3\" font-family=\"Times,serif\" font-size=\"14.00\" fill=\"#000000\">gini = 0.488</text>\n<text text-anchor=\"middle\" x=\"3492.5\" y=\"-223.3\" font-family=\"Times,serif\" font-size=\"14.00\" fill=\"#000000\">samples = 163</text>\n<text text-anchor=\"middle\" x=\"3492.5\" y=\"-208.3\" font-family=\"Times,serif\" font-size=\"14.00\" fill=\"#000000\">value = [94, 69]</text>\n</g>\n<!-- 37&#45;&gt;85 -->\n<g id=\"edge77\" class=\"edge\">\n<title>37&#45;&gt;85</title>\n<path fill=\"none\" stroke=\"#000000\" d=\"M3492.5,-296.9465C3492.5,-286.2621 3492.5,-274.4254 3492.5,-263.5742\"/>\n<polygon fill=\"#000000\" stroke=\"#000000\" points=\"3496.0001,-263.5421 3492.5,-253.5422 3489.0001,-263.5422 3496.0001,-263.5421\"/>\n</g>\n<!-- 86 -->\n<g id=\"node79\" class=\"node\">\n<title>86</title>\n<polygon fill=\"none\" stroke=\"#000000\" points=\"3691,-261 3566,-261 3566,-193 3691,-193 3691,-261\"/>\n<text text-anchor=\"middle\" x=\"3628.5\" y=\"-245.8\" font-family=\"Times,serif\" font-size=\"14.00\" fill=\"#000000\">X[0] &lt;= 23.15</text>\n<text text-anchor=\"middle\" x=\"3628.5\" y=\"-230.8\" font-family=\"Times,serif\" font-size=\"14.00\" fill=\"#000000\">gini = 0.465</text>\n<text text-anchor=\"middle\" x=\"3628.5\" y=\"-215.8\" font-family=\"Times,serif\" font-size=\"14.00\" fill=\"#000000\">samples = 531</text>\n<text text-anchor=\"middle\" x=\"3628.5\" y=\"-200.8\" font-family=\"Times,serif\" font-size=\"14.00\" fill=\"#000000\">value = [195, 336]</text>\n</g>\n<!-- 37&#45;&gt;86 -->\n<g id=\"edge78\" class=\"edge\">\n<title>37&#45;&gt;86</title>\n<path fill=\"none\" stroke=\"#000000\" d=\"M3537.0315,-296.9465C3549.3597,-287.519 3562.8609,-277.1946 3575.615,-267.4415\"/>\n<polygon fill=\"#000000\" stroke=\"#000000\" points=\"3578.051,-269.9848 3583.8685,-261.13 3573.7988,-264.4243 3578.051,-269.9848\"/>\n</g>\n<!-- 97 -->\n<g id=\"node80\" class=\"node\">\n<title>97</title>\n<polygon fill=\"none\" stroke=\"#000000\" points=\"3586,-149.5 3461,-149.5 3461,-96.5 3586,-96.5 3586,-149.5\"/>\n<text text-anchor=\"middle\" x=\"3523.5\" y=\"-134.3\" font-family=\"Times,serif\" font-size=\"14.00\" fill=\"#000000\">gini = 0.494</text>\n<text text-anchor=\"middle\" x=\"3523.5\" y=\"-119.3\" font-family=\"Times,serif\" font-size=\"14.00\" fill=\"#000000\">samples = 324</text>\n<text text-anchor=\"middle\" x=\"3523.5\" y=\"-104.3\" font-family=\"Times,serif\" font-size=\"14.00\" fill=\"#000000\">value = [144, 180]</text>\n</g>\n<!-- 86&#45;&gt;97 -->\n<g id=\"edge79\" class=\"edge\">\n<title>86&#45;&gt;97</title>\n<path fill=\"none\" stroke=\"#000000\" d=\"M3594.1191,-192.9465C3582.331,-181.2707 3569.1538,-168.219 3557.4038,-156.5809\"/>\n<polygon fill=\"#000000\" stroke=\"#000000\" points=\"3559.8652,-154.0927 3550.2974,-149.5422 3554.9392,-159.066 3559.8652,-154.0927\"/>\n</g>\n<!-- 98 -->\n<g id=\"node81\" class=\"node\">\n<title>98</title>\n<polygon fill=\"none\" stroke=\"#000000\" points=\"3721,-149.5 3604,-149.5 3604,-96.5 3721,-96.5 3721,-149.5\"/>\n<text text-anchor=\"middle\" x=\"3662.5\" y=\"-134.3\" font-family=\"Times,serif\" font-size=\"14.00\" fill=\"#000000\">gini = 0.371</text>\n<text text-anchor=\"middle\" x=\"3662.5\" y=\"-119.3\" font-family=\"Times,serif\" font-size=\"14.00\" fill=\"#000000\">samples = 207</text>\n<text text-anchor=\"middle\" x=\"3662.5\" y=\"-104.3\" font-family=\"Times,serif\" font-size=\"14.00\" fill=\"#000000\">value = [51, 156]</text>\n</g>\n<!-- 86&#45;&gt;98 -->\n<g id=\"edge80\" class=\"edge\">\n<title>86&#45;&gt;98</title>\n<path fill=\"none\" stroke=\"#000000\" d=\"M3639.6329,-192.9465C3643.1619,-182.1519 3647.0754,-170.1813 3650.6527,-159.2389\"/>\n<polygon fill=\"#000000\" stroke=\"#000000\" points=\"3654.042,-160.1347 3653.8228,-149.5422 3647.3886,-157.9595 3654.042,-160.1347\"/>\n</g>\n<!-- 51 -->\n<g id=\"node84\" class=\"node\">\n<title>51</title>\n<polygon fill=\"none\" stroke=\"#000000\" points=\"3833,-365 3708,-365 3708,-297 3833,-297 3833,-365\"/>\n<text text-anchor=\"middle\" x=\"3770.5\" y=\"-349.8\" font-family=\"Times,serif\" font-size=\"14.00\" fill=\"#000000\">X[4] &lt;= 1.15</text>\n<text text-anchor=\"middle\" x=\"3770.5\" y=\"-334.8\" font-family=\"Times,serif\" font-size=\"14.00\" fill=\"#000000\">gini = 0.4</text>\n<text text-anchor=\"middle\" x=\"3770.5\" y=\"-319.8\" font-family=\"Times,serif\" font-size=\"14.00\" fill=\"#000000\">samples = 1076</text>\n<text text-anchor=\"middle\" x=\"3770.5\" y=\"-304.8\" font-family=\"Times,serif\" font-size=\"14.00\" fill=\"#000000\">value = [778, 298]</text>\n</g>\n<!-- 28&#45;&gt;51 -->\n<g id=\"edge83\" class=\"edge\">\n<title>28&#45;&gt;51</title>\n<path fill=\"none\" stroke=\"#000000\" d=\"M3819.5971,-400.9465C3813.4209,-392.1475 3806.6962,-382.5672 3800.261,-373.3993\"/>\n<polygon fill=\"#000000\" stroke=\"#000000\" points=\"3803.0666,-371.3041 3794.4566,-365.13 3797.3371,-375.3258 3803.0666,-371.3041\"/>\n</g>\n<!-- 52 -->\n<g id=\"node87\" class=\"node\">\n<title>52</title>\n<polygon fill=\"none\" stroke=\"#000000\" points=\"3976,-357.5 3851,-357.5 3851,-304.5 3976,-304.5 3976,-357.5\"/>\n<text text-anchor=\"middle\" x=\"3913.5\" y=\"-342.3\" font-family=\"Times,serif\" font-size=\"14.00\" fill=\"#000000\">gini = 0.497</text>\n<text text-anchor=\"middle\" x=\"3913.5\" y=\"-327.3\" font-family=\"Times,serif\" font-size=\"14.00\" fill=\"#000000\">samples = 395</text>\n<text text-anchor=\"middle\" x=\"3913.5\" y=\"-312.3\" font-family=\"Times,serif\" font-size=\"14.00\" fill=\"#000000\">value = [213, 182]</text>\n</g>\n<!-- 28&#45;&gt;52 -->\n<g id=\"edge86\" class=\"edge\">\n<title>28&#45;&gt;52</title>\n<path fill=\"none\" stroke=\"#000000\" d=\"M3866.4206,-400.9465C3873.9828,-389.7113 3882.4024,-377.2021 3890.0067,-365.9043\"/>\n<polygon fill=\"#000000\" stroke=\"#000000\" points=\"3892.9548,-367.7924 3895.6351,-357.5422 3887.1477,-363.8837 3892.9548,-367.7924\"/>\n</g>\n<!-- 57 -->\n<g id=\"node85\" class=\"node\">\n<title>57</title>\n<polygon fill=\"none\" stroke=\"#000000\" points=\"3832,-253.5 3709,-253.5 3709,-200.5 3832,-200.5 3832,-253.5\"/>\n<text text-anchor=\"middle\" x=\"3770.5\" y=\"-238.3\" font-family=\"Times,serif\" font-size=\"14.00\" fill=\"#000000\">gini = 0.492</text>\n<text text-anchor=\"middle\" x=\"3770.5\" y=\"-223.3\" font-family=\"Times,serif\" font-size=\"14.00\" fill=\"#000000\">samples = 254</text>\n<text text-anchor=\"middle\" x=\"3770.5\" y=\"-208.3\" font-family=\"Times,serif\" font-size=\"14.00\" fill=\"#000000\">value = [143, 111]</text>\n</g>\n<!-- 51&#45;&gt;57 -->\n<g id=\"edge84\" class=\"edge\">\n<title>51&#45;&gt;57</title>\n<path fill=\"none\" stroke=\"#000000\" d=\"M3770.5,-296.9465C3770.5,-286.2621 3770.5,-274.4254 3770.5,-263.5742\"/>\n<polygon fill=\"#000000\" stroke=\"#000000\" points=\"3774.0001,-263.5421 3770.5,-253.5422 3767.0001,-263.5422 3774.0001,-263.5421\"/>\n</g>\n<!-- 58 -->\n<g id=\"node86\" class=\"node\">\n<title>58</title>\n<polygon fill=\"none\" stroke=\"#000000\" points=\"3975,-253.5 3850,-253.5 3850,-200.5 3975,-200.5 3975,-253.5\"/>\n<text text-anchor=\"middle\" x=\"3912.5\" y=\"-238.3\" font-family=\"Times,serif\" font-size=\"14.00\" fill=\"#000000\">gini = 0.351</text>\n<text text-anchor=\"middle\" x=\"3912.5\" y=\"-223.3\" font-family=\"Times,serif\" font-size=\"14.00\" fill=\"#000000\">samples = 822</text>\n<text text-anchor=\"middle\" x=\"3912.5\" y=\"-208.3\" font-family=\"Times,serif\" font-size=\"14.00\" fill=\"#000000\">value = [635, 187]</text>\n</g>\n<!-- 51&#45;&gt;58 -->\n<g id=\"edge85\" class=\"edge\">\n<title>51&#45;&gt;58</title>\n<path fill=\"none\" stroke=\"#000000\" d=\"M3816.9961,-296.9465C3833.3893,-284.9403 3851.7689,-271.4791 3867.9936,-259.5962\"/>\n<polygon fill=\"#000000\" stroke=\"#000000\" points=\"3870.2601,-262.2746 3876.2597,-253.5422 3866.124,-256.6272 3870.2601,-262.2746\"/>\n</g>\n<!-- 29 -->\n<g id=\"node89\" class=\"node\">\n<title>29</title>\n<polygon fill=\"none\" stroke=\"#000000\" points=\"4190.5,-469 4058.5,-469 4058.5,-401 4190.5,-401 4190.5,-469\"/>\n<text text-anchor=\"middle\" x=\"4124.5\" y=\"-453.8\" font-family=\"Times,serif\" font-size=\"14.00\" fill=\"#000000\">X[12] &lt;= 1010.35</text>\n<text text-anchor=\"middle\" x=\"4124.5\" y=\"-438.8\" font-family=\"Times,serif\" font-size=\"14.00\" fill=\"#000000\">gini = 0.424</text>\n<text text-anchor=\"middle\" x=\"4124.5\" y=\"-423.8\" font-family=\"Times,serif\" font-size=\"14.00\" fill=\"#000000\">samples = 1570</text>\n<text text-anchor=\"middle\" x=\"4124.5\" y=\"-408.8\" font-family=\"Times,serif\" font-size=\"14.00\" fill=\"#000000\">value = [479, 1091]</text>\n</g>\n<!-- 10&#45;&gt;29 -->\n<g id=\"edge88\" class=\"edge\">\n<title>10&#45;&gt;29</title>\n<path fill=\"none\" stroke=\"#000000\" d=\"M4124.5,-504.9465C4124.5,-496.776 4124.5,-487.9318 4124.5,-479.3697\"/>\n<polygon fill=\"#000000\" stroke=\"#000000\" points=\"4128.0001,-479.13 4124.5,-469.13 4121.0001,-479.13 4128.0001,-479.13\"/>\n</g>\n<!-- 30 -->\n<g id=\"node94\" class=\"node\">\n<title>30</title>\n<polygon fill=\"none\" stroke=\"#000000\" points=\"4394,-469 4277,-469 4277,-401 4394,-401 4394,-469\"/>\n<text text-anchor=\"middle\" x=\"4335.5\" y=\"-453.8\" font-family=\"Times,serif\" font-size=\"14.00\" fill=\"#000000\">X[8] &lt;= 23.0</text>\n<text text-anchor=\"middle\" x=\"4335.5\" y=\"-438.8\" font-family=\"Times,serif\" font-size=\"14.00\" fill=\"#000000\">gini = 0.474</text>\n<text text-anchor=\"middle\" x=\"4335.5\" y=\"-423.8\" font-family=\"Times,serif\" font-size=\"14.00\" fill=\"#000000\">samples = 238</text>\n<text text-anchor=\"middle\" x=\"4335.5\" y=\"-408.8\" font-family=\"Times,serif\" font-size=\"14.00\" fill=\"#000000\">value = [146, 92]</text>\n</g>\n<!-- 10&#45;&gt;30 -->\n<g id=\"edge93\" class=\"edge\">\n<title>10&#45;&gt;30</title>\n<path fill=\"none\" stroke=\"#000000\" d=\"M4190.1051,-506.6638C4214.7785,-494.5026 4242.8659,-480.6585 4267.7324,-468.402\"/>\n<polygon fill=\"#000000\" stroke=\"#000000\" points=\"4269.3134,-471.5249 4276.7357,-463.9644 4266.2187,-465.2461 4269.3134,-471.5249\"/>\n</g>\n<!-- 35 -->\n<g id=\"node90\" class=\"node\">\n<title>35</title>\n<polygon fill=\"none\" stroke=\"#000000\" points=\"4119,-357.5 3994,-357.5 3994,-304.5 4119,-304.5 4119,-357.5\"/>\n<text text-anchor=\"middle\" x=\"4056.5\" y=\"-342.3\" font-family=\"Times,serif\" font-size=\"14.00\" fill=\"#000000\">gini = 0.298</text>\n<text text-anchor=\"middle\" x=\"4056.5\" y=\"-327.3\" font-family=\"Times,serif\" font-size=\"14.00\" fill=\"#000000\">samples = 597</text>\n<text text-anchor=\"middle\" x=\"4056.5\" y=\"-312.3\" font-family=\"Times,serif\" font-size=\"14.00\" fill=\"#000000\">value = [109, 488]</text>\n</g>\n<!-- 29&#45;&gt;35 -->\n<g id=\"edge89\" class=\"edge\">\n<title>29&#45;&gt;35</title>\n<path fill=\"none\" stroke=\"#000000\" d=\"M4102.2343,-400.9465C4094.9602,-389.8215 4086.8694,-377.4473 4079.5396,-366.237\"/>\n<polygon fill=\"#000000\" stroke=\"#000000\" points=\"4082.2564,-363.9965 4073.8545,-357.5422 4076.3976,-367.8273 4082.2564,-363.9965\"/>\n</g>\n<!-- 36 -->\n<g id=\"node91\" class=\"node\">\n<title>36</title>\n<polygon fill=\"none\" stroke=\"#000000\" points=\"4262,-365 4137,-365 4137,-297 4262,-297 4262,-365\"/>\n<text text-anchor=\"middle\" x=\"4199.5\" y=\"-349.8\" font-family=\"Times,serif\" font-size=\"14.00\" fill=\"#000000\">X[2] &lt;= 0.3</text>\n<text text-anchor=\"middle\" x=\"4199.5\" y=\"-334.8\" font-family=\"Times,serif\" font-size=\"14.00\" fill=\"#000000\">gini = 0.471</text>\n<text text-anchor=\"middle\" x=\"4199.5\" y=\"-319.8\" font-family=\"Times,serif\" font-size=\"14.00\" fill=\"#000000\">samples = 973</text>\n<text text-anchor=\"middle\" x=\"4199.5\" y=\"-304.8\" font-family=\"Times,serif\" font-size=\"14.00\" fill=\"#000000\">value = [370, 603]</text>\n</g>\n<!-- 29&#45;&gt;36 -->\n<g id=\"edge90\" class=\"edge\">\n<title>29&#45;&gt;36</title>\n<path fill=\"none\" stroke=\"#000000\" d=\"M4149.0578,-400.9465C4155.4032,-392.1475 4162.3121,-382.5672 4168.9236,-373.3993\"/>\n<polygon fill=\"#000000\" stroke=\"#000000\" points=\"4171.8766,-375.2882 4174.887,-365.13 4166.1989,-371.1937 4171.8766,-375.2882\"/>\n</g>\n<!-- 101 -->\n<g id=\"node92\" class=\"node\">\n<title>101</title>\n<polygon fill=\"none\" stroke=\"#000000\" points=\"4153,-253.5 4028,-253.5 4028,-200.5 4153,-200.5 4153,-253.5\"/>\n<text text-anchor=\"middle\" x=\"4090.5\" y=\"-238.3\" font-family=\"Times,serif\" font-size=\"14.00\" fill=\"#000000\">gini = 0.499</text>\n<text text-anchor=\"middle\" x=\"4090.5\" y=\"-223.3\" font-family=\"Times,serif\" font-size=\"14.00\" fill=\"#000000\">samples = 335</text>\n<text text-anchor=\"middle\" x=\"4090.5\" y=\"-208.3\" font-family=\"Times,serif\" font-size=\"14.00\" fill=\"#000000\">value = [160, 175]</text>\n</g>\n<!-- 36&#45;&gt;101 -->\n<g id=\"edge91\" class=\"edge\">\n<title>36&#45;&gt;101</title>\n<path fill=\"none\" stroke=\"#000000\" d=\"M4163.8093,-296.9465C4151.5722,-285.2707 4137.893,-272.219 4125.6954,-260.5809\"/>\n<polygon fill=\"#000000\" stroke=\"#000000\" points=\"4127.9694,-257.9131 4118.3182,-253.5422 4123.1372,-262.9777 4127.9694,-257.9131\"/>\n</g>\n<!-- 102 -->\n<g id=\"node93\" class=\"node\">\n<title>102</title>\n<polygon fill=\"none\" stroke=\"#000000\" points=\"4296,-253.5 4171,-253.5 4171,-200.5 4296,-200.5 4296,-253.5\"/>\n<text text-anchor=\"middle\" x=\"4233.5\" y=\"-238.3\" font-family=\"Times,serif\" font-size=\"14.00\" fill=\"#000000\">gini = 0.442</text>\n<text text-anchor=\"middle\" x=\"4233.5\" y=\"-223.3\" font-family=\"Times,serif\" font-size=\"14.00\" fill=\"#000000\">samples = 638</text>\n<text text-anchor=\"middle\" x=\"4233.5\" y=\"-208.3\" font-family=\"Times,serif\" font-size=\"14.00\" fill=\"#000000\">value = [210, 428]</text>\n</g>\n<!-- 36&#45;&gt;102 -->\n<g id=\"edge92\" class=\"edge\">\n<title>36&#45;&gt;102</title>\n<path fill=\"none\" stroke=\"#000000\" d=\"M4210.6329,-296.9465C4214.1619,-286.1519 4218.0754,-274.1813 4221.6527,-263.2389\"/>\n<polygon fill=\"#000000\" stroke=\"#000000\" points=\"4225.042,-264.1347 4224.8228,-253.5422 4218.3886,-261.9595 4225.042,-264.1347\"/>\n</g>\n<!-- 79 -->\n<g id=\"node95\" class=\"node\">\n<title>79</title>\n<polygon fill=\"none\" stroke=\"#000000\" points=\"4390.5,-357.5 4280.5,-357.5 4280.5,-304.5 4390.5,-304.5 4390.5,-357.5\"/>\n<text text-anchor=\"middle\" x=\"4335.5\" y=\"-342.3\" font-family=\"Times,serif\" font-size=\"14.00\" fill=\"#000000\">gini = 0.444</text>\n<text text-anchor=\"middle\" x=\"4335.5\" y=\"-327.3\" font-family=\"Times,serif\" font-size=\"14.00\" fill=\"#000000\">samples = 57</text>\n<text text-anchor=\"middle\" x=\"4335.5\" y=\"-312.3\" font-family=\"Times,serif\" font-size=\"14.00\" fill=\"#000000\">value = [19, 38]</text>\n</g>\n<!-- 30&#45;&gt;79 -->\n<g id=\"edge94\" class=\"edge\">\n<title>30&#45;&gt;79</title>\n<path fill=\"none\" stroke=\"#000000\" d=\"M4335.5,-400.9465C4335.5,-390.2621 4335.5,-378.4254 4335.5,-367.5742\"/>\n<polygon fill=\"#000000\" stroke=\"#000000\" points=\"4339.0001,-367.5421 4335.5,-357.5422 4332.0001,-367.5422 4339.0001,-367.5421\"/>\n</g>\n<!-- 80 -->\n<g id=\"node96\" class=\"node\">\n<title>80</title>\n<polygon fill=\"none\" stroke=\"#000000\" points=\"4526,-365 4409,-365 4409,-297 4526,-297 4526,-365\"/>\n<text text-anchor=\"middle\" x=\"4467.5\" y=\"-349.8\" font-family=\"Times,serif\" font-size=\"14.00\" fill=\"#000000\">X[16] &lt;= 13.8</text>\n<text text-anchor=\"middle\" x=\"4467.5\" y=\"-334.8\" font-family=\"Times,serif\" font-size=\"14.00\" fill=\"#000000\">gini = 0.419</text>\n<text text-anchor=\"middle\" x=\"4467.5\" y=\"-319.8\" font-family=\"Times,serif\" font-size=\"14.00\" fill=\"#000000\">samples = 181</text>\n<text text-anchor=\"middle\" x=\"4467.5\" y=\"-304.8\" font-family=\"Times,serif\" font-size=\"14.00\" fill=\"#000000\">value = [127, 54]</text>\n</g>\n<!-- 30&#45;&gt;80 -->\n<g id=\"edge95\" class=\"edge\">\n<title>30&#45;&gt;80</title>\n<path fill=\"none\" stroke=\"#000000\" d=\"M4378.7217,-400.9465C4390.6874,-391.519 4403.7915,-381.1946 4416.1704,-371.4415\"/>\n<polygon fill=\"#000000\" stroke=\"#000000\" points=\"4418.4923,-374.068 4424.1812,-365.13 4414.1602,-368.5695 4418.4923,-374.068\"/>\n</g>\n<!-- 105 -->\n<g id=\"node97\" class=\"node\">\n<title>105</title>\n<polygon fill=\"none\" stroke=\"#000000\" points=\"4484.5,-253.5 4382.5,-253.5 4382.5,-200.5 4484.5,-200.5 4484.5,-253.5\"/>\n<text text-anchor=\"middle\" x=\"4433.5\" y=\"-238.3\" font-family=\"Times,serif\" font-size=\"14.00\" fill=\"#000000\">gini = 0.397</text>\n<text text-anchor=\"middle\" x=\"4433.5\" y=\"-223.3\" font-family=\"Times,serif\" font-size=\"14.00\" fill=\"#000000\">samples = 22</text>\n<text text-anchor=\"middle\" x=\"4433.5\" y=\"-208.3\" font-family=\"Times,serif\" font-size=\"14.00\" fill=\"#000000\">value = [6, 16]</text>\n</g>\n<!-- 80&#45;&gt;105 -->\n<g id=\"edge96\" class=\"edge\">\n<title>80&#45;&gt;105</title>\n<path fill=\"none\" stroke=\"#000000\" d=\"M4456.3671,-296.9465C4452.8381,-286.1519 4448.9246,-274.1813 4445.3473,-263.2389\"/>\n<polygon fill=\"#000000\" stroke=\"#000000\" points=\"4448.6114,-261.9595 4442.1772,-253.5422 4441.958,-264.1347 4448.6114,-261.9595\"/>\n</g>\n<!-- 106 -->\n<g id=\"node98\" class=\"node\">\n<title>106</title>\n<polygon fill=\"none\" stroke=\"#000000\" points=\"4620,-253.5 4503,-253.5 4503,-200.5 4620,-200.5 4620,-253.5\"/>\n<text text-anchor=\"middle\" x=\"4561.5\" y=\"-238.3\" font-family=\"Times,serif\" font-size=\"14.00\" fill=\"#000000\">gini = 0.364</text>\n<text text-anchor=\"middle\" x=\"4561.5\" y=\"-223.3\" font-family=\"Times,serif\" font-size=\"14.00\" fill=\"#000000\">samples = 159</text>\n<text text-anchor=\"middle\" x=\"4561.5\" y=\"-208.3\" font-family=\"Times,serif\" font-size=\"14.00\" fill=\"#000000\">value = [121, 38]</text>\n</g>\n<!-- 80&#45;&gt;106 -->\n<g id=\"edge97\" class=\"edge\">\n<title>80&#45;&gt;106</title>\n<path fill=\"none\" stroke=\"#000000\" d=\"M4498.2791,-296.9465C4508.6331,-285.491 4520.1842,-272.711 4530.5513,-261.2412\"/>\n<polygon fill=\"#000000\" stroke=\"#000000\" points=\"4533.4011,-263.3078 4537.51,-253.5422 4528.208,-258.614 4533.4011,-263.3078\"/>\n</g>\n<!-- 25 -->\n<g id=\"node100\" class=\"node\">\n<title>25</title>\n<polygon fill=\"none\" stroke=\"#000000\" points=\"4873.5,-573 4741.5,-573 4741.5,-505 4873.5,-505 4873.5,-573\"/>\n<text text-anchor=\"middle\" x=\"4807.5\" y=\"-557.8\" font-family=\"Times,serif\" font-size=\"14.00\" fill=\"#000000\">X[10] &lt;= 88.5</text>\n<text text-anchor=\"middle\" x=\"4807.5\" y=\"-542.8\" font-family=\"Times,serif\" font-size=\"14.00\" fill=\"#000000\">gini = 0.203</text>\n<text text-anchor=\"middle\" x=\"4807.5\" y=\"-527.8\" font-family=\"Times,serif\" font-size=\"14.00\" fill=\"#000000\">samples = 2545</text>\n<text text-anchor=\"middle\" x=\"4807.5\" y=\"-512.8\" font-family=\"Times,serif\" font-size=\"14.00\" fill=\"#000000\">value = [292, 2253]</text>\n</g>\n<!-- 6&#45;&gt;25 -->\n<g id=\"edge99\" class=\"edge\">\n<title>6&#45;&gt;25</title>\n<path fill=\"none\" stroke=\"#000000\" d=\"M4807.5,-608.9465C4807.5,-600.776 4807.5,-591.9318 4807.5,-583.3697\"/>\n<polygon fill=\"#000000\" stroke=\"#000000\" points=\"4811.0001,-583.13 4807.5,-573.13 4804.0001,-583.13 4811.0001,-583.13\"/>\n</g>\n<!-- 26 -->\n<g id=\"node107\" class=\"node\">\n<title>26</title>\n<polygon fill=\"none\" stroke=\"#000000\" points=\"5083,-573 4958,-573 4958,-505 5083,-505 5083,-573\"/>\n<text text-anchor=\"middle\" x=\"5020.5\" y=\"-557.8\" font-family=\"Times,serif\" font-size=\"14.00\" fill=\"#000000\">X[5] &lt;= 30.5</text>\n<text text-anchor=\"middle\" x=\"5020.5\" y=\"-542.8\" font-family=\"Times,serif\" font-size=\"14.00\" fill=\"#000000\">gini = 0.467</text>\n<text text-anchor=\"middle\" x=\"5020.5\" y=\"-527.8\" font-family=\"Times,serif\" font-size=\"14.00\" fill=\"#000000\">samples = 409</text>\n<text text-anchor=\"middle\" x=\"5020.5\" y=\"-512.8\" font-family=\"Times,serif\" font-size=\"14.00\" fill=\"#000000\">value = [152, 257]</text>\n</g>\n<!-- 6&#45;&gt;26 -->\n<g id=\"edge106\" class=\"edge\">\n<title>6&#45;&gt;26</title>\n<path fill=\"none\" stroke=\"#000000\" d=\"M4873.727,-610.6638C4897.5503,-599.0318 4924.5268,-585.8602 4948.7952,-574.0108\"/>\n<polygon fill=\"#000000\" stroke=\"#000000\" points=\"4950.501,-577.0729 4957.9514,-569.5401 4947.4297,-570.7826 4950.501,-577.0729\"/>\n</g>\n<!-- 49 -->\n<g id=\"node101\" class=\"node\">\n<title>49</title>\n<polygon fill=\"none\" stroke=\"#000000\" points=\"4804,-469 4679,-469 4679,-401 4804,-401 4804,-469\"/>\n<text text-anchor=\"middle\" x=\"4741.5\" y=\"-453.8\" font-family=\"Times,serif\" font-size=\"14.00\" fill=\"#000000\">X[12] &lt;= 1012.15</text>\n<text text-anchor=\"middle\" x=\"4741.5\" y=\"-438.8\" font-family=\"Times,serif\" font-size=\"14.00\" fill=\"#000000\">gini = 0.297</text>\n<text text-anchor=\"middle\" x=\"4741.5\" y=\"-423.8\" font-family=\"Times,serif\" font-size=\"14.00\" fill=\"#000000\">samples = 1201</text>\n<text text-anchor=\"middle\" x=\"4741.5\" y=\"-408.8\" font-family=\"Times,serif\" font-size=\"14.00\" fill=\"#000000\">value = [218, 983]</text>\n</g>\n<!-- 25&#45;&gt;49 -->\n<g id=\"edge100\" class=\"edge\">\n<title>25&#45;&gt;49</title>\n<path fill=\"none\" stroke=\"#000000\" d=\"M4785.8891,-504.9465C4780.3622,-496.2373 4774.3494,-486.7626 4768.5854,-477.6801\"/>\n<polygon fill=\"#000000\" stroke=\"#000000\" points=\"4771.4729,-475.6979 4763.1594,-469.13 4765.5626,-479.4487 4771.4729,-475.6979\"/>\n</g>\n<!-- 50 -->\n<g id=\"node104\" class=\"node\">\n<title>50</title>\n<polygon fill=\"none\" stroke=\"#000000\" points=\"4947,-469 4822,-469 4822,-401 4947,-401 4947,-469\"/>\n<text text-anchor=\"middle\" x=\"4884.5\" y=\"-453.8\" font-family=\"Times,serif\" font-size=\"14.00\" fill=\"#000000\">X[4] &lt;= 10.2</text>\n<text text-anchor=\"middle\" x=\"4884.5\" y=\"-438.8\" font-family=\"Times,serif\" font-size=\"14.00\" fill=\"#000000\">gini = 0.104</text>\n<text text-anchor=\"middle\" x=\"4884.5\" y=\"-423.8\" font-family=\"Times,serif\" font-size=\"14.00\" fill=\"#000000\">samples = 1344</text>\n<text text-anchor=\"middle\" x=\"4884.5\" y=\"-408.8\" font-family=\"Times,serif\" font-size=\"14.00\" fill=\"#000000\">value = [74, 1270]</text>\n</g>\n<!-- 25&#45;&gt;50 -->\n<g id=\"edge103\" class=\"edge\">\n<title>25&#45;&gt;50</title>\n<path fill=\"none\" stroke=\"#000000\" d=\"M4832.7127,-504.9465C4839.2273,-496.1475 4846.3205,-486.5672 4853.1082,-477.3993\"/>\n<polygon fill=\"#000000\" stroke=\"#000000\" points=\"4856.0931,-479.2496 4859.2307,-469.13 4850.4673,-475.0843 4856.0931,-479.2496\"/>\n</g>\n<!-- 89 -->\n<g id=\"node102\" class=\"node\">\n<title>89</title>\n<polygon fill=\"none\" stroke=\"#000000\" points=\"4661,-357.5 4544,-357.5 4544,-304.5 4661,-304.5 4661,-357.5\"/>\n<text text-anchor=\"middle\" x=\"4602.5\" y=\"-342.3\" font-family=\"Times,serif\" font-size=\"14.00\" fill=\"#000000\">gini = 0.218</text>\n<text text-anchor=\"middle\" x=\"4602.5\" y=\"-327.3\" font-family=\"Times,serif\" font-size=\"14.00\" fill=\"#000000\">samples = 684</text>\n<text text-anchor=\"middle\" x=\"4602.5\" y=\"-312.3\" font-family=\"Times,serif\" font-size=\"14.00\" fill=\"#000000\">value = [85, 599]</text>\n</g>\n<!-- 49&#45;&gt;89 -->\n<g id=\"edge101\" class=\"edge\">\n<title>49&#45;&gt;89</title>\n<path fill=\"none\" stroke=\"#000000\" d=\"M4695.9862,-400.9465C4679.9394,-388.9403 4661.9481,-375.4791 4646.0661,-363.5962\"/>\n<polygon fill=\"#000000\" stroke=\"#000000\" points=\"4648.0783,-360.7306 4637.9746,-357.5422 4643.8848,-366.3354 4648.0783,-360.7306\"/>\n</g>\n<!-- 90 -->\n<g id=\"node103\" class=\"node\">\n<title>90</title>\n<polygon fill=\"none\" stroke=\"#000000\" points=\"4804,-357.5 4679,-357.5 4679,-304.5 4804,-304.5 4804,-357.5\"/>\n<text text-anchor=\"middle\" x=\"4741.5\" y=\"-342.3\" font-family=\"Times,serif\" font-size=\"14.00\" fill=\"#000000\">gini = 0.382</text>\n<text text-anchor=\"middle\" x=\"4741.5\" y=\"-327.3\" font-family=\"Times,serif\" font-size=\"14.00\" fill=\"#000000\">samples = 517</text>\n<text text-anchor=\"middle\" x=\"4741.5\" y=\"-312.3\" font-family=\"Times,serif\" font-size=\"14.00\" fill=\"#000000\">value = [133, 384]</text>\n</g>\n<!-- 49&#45;&gt;90 -->\n<g id=\"edge102\" class=\"edge\">\n<title>49&#45;&gt;90</title>\n<path fill=\"none\" stroke=\"#000000\" d=\"M4741.5,-400.9465C4741.5,-390.2621 4741.5,-378.4254 4741.5,-367.5742\"/>\n<polygon fill=\"#000000\" stroke=\"#000000\" points=\"4745.0001,-367.5421 4741.5,-357.5422 4738.0001,-367.5422 4745.0001,-367.5421\"/>\n</g>\n<!-- 87 -->\n<g id=\"node105\" class=\"node\">\n<title>87</title>\n<polygon fill=\"none\" stroke=\"#000000\" points=\"4947,-357.5 4822,-357.5 4822,-304.5 4947,-304.5 4947,-357.5\"/>\n<text text-anchor=\"middle\" x=\"4884.5\" y=\"-342.3\" font-family=\"Times,serif\" font-size=\"14.00\" fill=\"#000000\">gini = 0.096</text>\n<text text-anchor=\"middle\" x=\"4884.5\" y=\"-327.3\" font-family=\"Times,serif\" font-size=\"14.00\" fill=\"#000000\">samples = 1338</text>\n<text text-anchor=\"middle\" x=\"4884.5\" y=\"-312.3\" font-family=\"Times,serif\" font-size=\"14.00\" fill=\"#000000\">value = [68, 1270]</text>\n</g>\n<!-- 50&#45;&gt;87 -->\n<g id=\"edge104\" class=\"edge\">\n<title>50&#45;&gt;87</title>\n<path fill=\"none\" stroke=\"#000000\" d=\"M4884.5,-400.9465C4884.5,-390.2621 4884.5,-378.4254 4884.5,-367.5742\"/>\n<polygon fill=\"#000000\" stroke=\"#000000\" points=\"4888.0001,-367.5421 4884.5,-357.5422 4881.0001,-367.5422 4888.0001,-367.5421\"/>\n</g>\n<!-- 88 -->\n<g id=\"node106\" class=\"node\">\n<title>88</title>\n<polygon fill=\"none\" stroke=\"#000000\" points=\"5060,-357.5 4965,-357.5 4965,-304.5 5060,-304.5 5060,-357.5\"/>\n<text text-anchor=\"middle\" x=\"5012.5\" y=\"-342.3\" font-family=\"Times,serif\" font-size=\"14.00\" fill=\"#000000\">gini = 0.0</text>\n<text text-anchor=\"middle\" x=\"5012.5\" y=\"-327.3\" font-family=\"Times,serif\" font-size=\"14.00\" fill=\"#000000\">samples = 6</text>\n<text text-anchor=\"middle\" x=\"5012.5\" y=\"-312.3\" font-family=\"Times,serif\" font-size=\"14.00\" fill=\"#000000\">value = [6, 0]</text>\n</g>\n<!-- 50&#45;&gt;88 -->\n<g id=\"edge105\" class=\"edge\">\n<title>50&#45;&gt;88</title>\n<path fill=\"none\" stroke=\"#000000\" d=\"M4926.412,-400.9465C4941.0533,-389.0504 4957.4526,-375.726 4971.9785,-363.9237\"/>\n<polygon fill=\"#000000\" stroke=\"#000000\" points=\"4974.2786,-366.5645 4979.8327,-357.5422 4969.8645,-361.1317 4974.2786,-366.5645\"/>\n</g>\n<!-- 69 -->\n<g id=\"node108\" class=\"node\">\n<title>69</title>\n<polygon fill=\"none\" stroke=\"#000000\" points=\"5075.5,-461.5 4965.5,-461.5 4965.5,-408.5 5075.5,-408.5 5075.5,-461.5\"/>\n<text text-anchor=\"middle\" x=\"5020.5\" y=\"-446.3\" font-family=\"Times,serif\" font-size=\"14.00\" fill=\"#000000\">gini = 0.496</text>\n<text text-anchor=\"middle\" x=\"5020.5\" y=\"-431.3\" font-family=\"Times,serif\" font-size=\"14.00\" fill=\"#000000\">samples = 147</text>\n<text text-anchor=\"middle\" x=\"5020.5\" y=\"-416.3\" font-family=\"Times,serif\" font-size=\"14.00\" fill=\"#000000\">value = [80, 67]</text>\n</g>\n<!-- 26&#45;&gt;69 -->\n<g id=\"edge107\" class=\"edge\">\n<title>26&#45;&gt;69</title>\n<path fill=\"none\" stroke=\"#000000\" d=\"M5020.5,-504.9465C5020.5,-494.2621 5020.5,-482.4254 5020.5,-471.5742\"/>\n<polygon fill=\"#000000\" stroke=\"#000000\" points=\"5024.0001,-471.5421 5020.5,-461.5422 5017.0001,-471.5422 5024.0001,-471.5421\"/>\n</g>\n<!-- 70 -->\n<g id=\"node109\" class=\"node\">\n<title>70</title>\n<polygon fill=\"none\" stroke=\"#000000\" points=\"5211,-461.5 5094,-461.5 5094,-408.5 5211,-408.5 5211,-461.5\"/>\n<text text-anchor=\"middle\" x=\"5152.5\" y=\"-446.3\" font-family=\"Times,serif\" font-size=\"14.00\" fill=\"#000000\">gini = 0.399</text>\n<text text-anchor=\"middle\" x=\"5152.5\" y=\"-431.3\" font-family=\"Times,serif\" font-size=\"14.00\" fill=\"#000000\">samples = 262</text>\n<text text-anchor=\"middle\" x=\"5152.5\" y=\"-416.3\" font-family=\"Times,serif\" font-size=\"14.00\" fill=\"#000000\">value = [72, 190]</text>\n</g>\n<!-- 26&#45;&gt;70 -->\n<g id=\"edge108\" class=\"edge\">\n<title>26&#45;&gt;70</title>\n<path fill=\"none\" stroke=\"#000000\" d=\"M5063.7217,-504.9465C5078.8206,-493.0504 5095.7324,-479.726 5110.7122,-467.9237\"/>\n<polygon fill=\"#000000\" stroke=\"#000000\" points=\"5113.123,-470.4802 5118.8119,-461.5422 5108.7909,-464.9817 5113.123,-470.4802\"/>\n</g>\n</g>\n</svg>\n"
          },
          "metadata": {
            "tags": []
          }
        }
      ]
    }
  ]
}